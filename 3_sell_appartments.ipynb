{
 "cells": [
  {
   "cell_type": "markdown",
   "metadata": {},
   "source": [
    "# Исследование объявлений о продаже квартир\n",
    "\n",
    "В вашем распоряжении данные сервиса Яндекс.Недвижимость — архив объявлений о продаже квартир в Санкт-Петербурге и соседних населённых пунктов за несколько лет. Нужно научиться определять рыночную стоимость объектов недвижимости. Ваша задача — установить параметры. Это позволит построить автоматизированную систему: она отследит аномалии и мошенническую деятельность. \n",
    "\n",
    "По каждой квартире на продажу доступны два вида данных. Первые вписаны пользователем, вторые — получены автоматически на основе картографических данных. Например, расстояние до центра, аэропорта, ближайшего парка и водоёма. "
   ]
  },
  {
   "cell_type": "markdown",
   "metadata": {},
   "source": [
    "<div class=\"alert alert-block alert-success\">\n",
    " \n",
    "### Комментарий ревьюера\n",
    "    \n",
    "#### Успех\n",
    "    \n",
    "Спасибо тебе большое за оформление оглавления к проекту. "
   ]
  },
  {
   "cell_type": "markdown",
   "metadata": {},
   "source": [
    "### Откройте файл с данными и изучите общую информацию. "
   ]
  },
  {
   "cell_type": "markdown",
   "metadata": {},
   "source": [
    "Импортируем библиотеку pandas. Считаем данные из csv-файла в датафрейм и сохраним в переменную data. "
   ]
  },
  {
   "cell_type": "code",
   "execution_count": 67,
   "metadata": {},
   "outputs": [],
   "source": [
    "import pandas as pd\n",
    "import matplotlib.pyplot as plt\n",
    "\n"
   ]
  },
  {
   "cell_type": "code",
   "execution_count": 68,
   "metadata": {},
   "outputs": [],
   "source": [
    "data = pd.read_csv('real_estate_data.csv')"
   ]
  },
  {
   "cell_type": "markdown",
   "metadata": {},
   "source": [
    "**Выведем первые 20 строчек датафрейма `data` на экран.**"
   ]
  },
  {
   "cell_type": "code",
   "execution_count": 69,
   "metadata": {
    "scrolled": true
   },
   "outputs": [
    {
     "data": {
      "text/html": [
       "<div>\n",
       "<style scoped>\n",
       "    .dataframe tbody tr th:only-of-type {\n",
       "        vertical-align: middle;\n",
       "    }\n",
       "\n",
       "    .dataframe tbody tr th {\n",
       "        vertical-align: top;\n",
       "    }\n",
       "\n",
       "    .dataframe thead th {\n",
       "        text-align: right;\n",
       "    }\n",
       "</style>\n",
       "<table border=\"1\" class=\"dataframe\">\n",
       "  <thead>\n",
       "    <tr style=\"text-align: right;\">\n",
       "      <th></th>\n",
       "      <th>total_images\\tlast_price\\ttotal_area\\tfirst_day_exposition\\trooms\\tceiling_height\\tfloors_total\\tliving_area\\tfloor\\tis_apartment\\tstudio\\topen_plan\\tkitchen_area\\tbalcony\\tlocality_name\\tairports_nearest\\tcityCenters_nearest\\tparks_around3000\\tparks_nearest\\tponds_around3000\\tponds_nearest\\tdays_exposition</th>\n",
       "    </tr>\n",
       "  </thead>\n",
       "  <tbody>\n",
       "    <tr>\n",
       "      <th>0</th>\n",
       "      <td>20\\t13000000.0\\t108.0\\t2019-03-07T00:00:00\\t3\\...</td>\n",
       "    </tr>\n",
       "    <tr>\n",
       "      <th>1</th>\n",
       "      <td>7\\t3350000.0\\t40.4\\t2018-12-04T00:00:00\\t1\\t\\t...</td>\n",
       "    </tr>\n",
       "    <tr>\n",
       "      <th>2</th>\n",
       "      <td>10\\t5196000.0\\t56.0\\t2015-08-20T00:00:00\\t2\\t\\...</td>\n",
       "    </tr>\n",
       "    <tr>\n",
       "      <th>3</th>\n",
       "      <td>0\\t64900000.0\\t159.0\\t2015-07-24T00:00:00\\t3\\t...</td>\n",
       "    </tr>\n",
       "    <tr>\n",
       "      <th>4</th>\n",
       "      <td>2\\t10000000.0\\t100.0\\t2018-06-19T00:00:00\\t2\\t...</td>\n",
       "    </tr>\n",
       "    <tr>\n",
       "      <th>5</th>\n",
       "      <td>10\\t2890000.0\\t30.4\\t2018-09-10T00:00:00\\t1\\t\\...</td>\n",
       "    </tr>\n",
       "    <tr>\n",
       "      <th>6</th>\n",
       "      <td>6\\t3700000.0\\t37.3\\t2017-11-02T00:00:00\\t1\\t\\t...</td>\n",
       "    </tr>\n",
       "    <tr>\n",
       "      <th>7</th>\n",
       "      <td>5\\t7915000.0\\t71.6\\t2019-04-18T00:00:00\\t2\\t\\t...</td>\n",
       "    </tr>\n",
       "    <tr>\n",
       "      <th>8</th>\n",
       "      <td>20\\t2900000.0\\t33.16\\t2018-05-23T00:00:00\\t1\\t...</td>\n",
       "    </tr>\n",
       "    <tr>\n",
       "      <th>9</th>\n",
       "      <td>18\\t5400000.0\\t61.0\\t2017-02-26T00:00:00\\t3\\t2...</td>\n",
       "    </tr>\n",
       "    <tr>\n",
       "      <th>10</th>\n",
       "      <td>5\\t5050000.0\\t39.6\\t2017-11-16T00:00:00\\t1\\t2....</td>\n",
       "    </tr>\n",
       "    <tr>\n",
       "      <th>11</th>\n",
       "      <td>9\\t3300000.0\\t44.0\\t2018-08-27T00:00:00\\t2\\t\\t...</td>\n",
       "    </tr>\n",
       "    <tr>\n",
       "      <th>12</th>\n",
       "      <td>10\\t3890000.0\\t54.0\\t2016-06-30T00:00:00\\t2\\t\\...</td>\n",
       "    </tr>\n",
       "    <tr>\n",
       "      <th>13</th>\n",
       "      <td>20\\t3550000.0\\t42.8\\t2017-07-01T00:00:00\\t2\\t2...</td>\n",
       "    </tr>\n",
       "    <tr>\n",
       "      <th>14</th>\n",
       "      <td>1\\t4400000.0\\t36.0\\t2016-06-23T00:00:00\\t1\\t\\t...</td>\n",
       "    </tr>\n",
       "    <tr>\n",
       "      <th>15</th>\n",
       "      <td>16\\t4650000.0\\t39.0\\t2017-11-18T00:00:00\\t1\\t\\...</td>\n",
       "    </tr>\n",
       "    <tr>\n",
       "      <th>16</th>\n",
       "      <td>11\\t6700000.0\\t82.0\\t2017-11-23T00:00:00\\t3\\t3...</td>\n",
       "    </tr>\n",
       "    <tr>\n",
       "      <th>17</th>\n",
       "      <td>6\\t4180000.0\\t36.0\\t2016-09-09T00:00:00\\t1\\t\\t...</td>\n",
       "    </tr>\n",
       "    <tr>\n",
       "      <th>18</th>\n",
       "      <td>8\\t3250000.0\\t31.0\\t2017-01-27T00:00:00\\t1\\t2....</td>\n",
       "    </tr>\n",
       "    <tr>\n",
       "      <th>19</th>\n",
       "      <td>16\\t14200000.0\\t121.0\\t2019-01-09T00:00:00\\t3\\...</td>\n",
       "    </tr>\n",
       "  </tbody>\n",
       "</table>\n",
       "</div>"
      ],
      "text/plain": [
       "   total_images\\tlast_price\\ttotal_area\\tfirst_day_exposition\\trooms\\tceiling_height\\tfloors_total\\tliving_area\\tfloor\\tis_apartment\\tstudio\\topen_plan\\tkitchen_area\\tbalcony\\tlocality_name\\tairports_nearest\\tcityCenters_nearest\\tparks_around3000\\tparks_nearest\\tponds_around3000\\tponds_nearest\\tdays_exposition\n",
       "0   20\\t13000000.0\\t108.0\\t2019-03-07T00:00:00\\t3\\...                                                                                                                                                                                                                                                                  \n",
       "1   7\\t3350000.0\\t40.4\\t2018-12-04T00:00:00\\t1\\t\\t...                                                                                                                                                                                                                                                                  \n",
       "2   10\\t5196000.0\\t56.0\\t2015-08-20T00:00:00\\t2\\t\\...                                                                                                                                                                                                                                                                  \n",
       "3   0\\t64900000.0\\t159.0\\t2015-07-24T00:00:00\\t3\\t...                                                                                                                                                                                                                                                                  \n",
       "4   2\\t10000000.0\\t100.0\\t2018-06-19T00:00:00\\t2\\t...                                                                                                                                                                                                                                                                  \n",
       "5   10\\t2890000.0\\t30.4\\t2018-09-10T00:00:00\\t1\\t\\...                                                                                                                                                                                                                                                                  \n",
       "6   6\\t3700000.0\\t37.3\\t2017-11-02T00:00:00\\t1\\t\\t...                                                                                                                                                                                                                                                                  \n",
       "7   5\\t7915000.0\\t71.6\\t2019-04-18T00:00:00\\t2\\t\\t...                                                                                                                                                                                                                                                                  \n",
       "8   20\\t2900000.0\\t33.16\\t2018-05-23T00:00:00\\t1\\t...                                                                                                                                                                                                                                                                  \n",
       "9   18\\t5400000.0\\t61.0\\t2017-02-26T00:00:00\\t3\\t2...                                                                                                                                                                                                                                                                  \n",
       "10  5\\t5050000.0\\t39.6\\t2017-11-16T00:00:00\\t1\\t2....                                                                                                                                                                                                                                                                  \n",
       "11  9\\t3300000.0\\t44.0\\t2018-08-27T00:00:00\\t2\\t\\t...                                                                                                                                                                                                                                                                  \n",
       "12  10\\t3890000.0\\t54.0\\t2016-06-30T00:00:00\\t2\\t\\...                                                                                                                                                                                                                                                                  \n",
       "13  20\\t3550000.0\\t42.8\\t2017-07-01T00:00:00\\t2\\t2...                                                                                                                                                                                                                                                                  \n",
       "14  1\\t4400000.0\\t36.0\\t2016-06-23T00:00:00\\t1\\t\\t...                                                                                                                                                                                                                                                                  \n",
       "15  16\\t4650000.0\\t39.0\\t2017-11-18T00:00:00\\t1\\t\\...                                                                                                                                                                                                                                                                  \n",
       "16  11\\t6700000.0\\t82.0\\t2017-11-23T00:00:00\\t3\\t3...                                                                                                                                                                                                                                                                  \n",
       "17  6\\t4180000.0\\t36.0\\t2016-09-09T00:00:00\\t1\\t\\t...                                                                                                                                                                                                                                                                  \n",
       "18  8\\t3250000.0\\t31.0\\t2017-01-27T00:00:00\\t1\\t2....                                                                                                                                                                                                                                                                  \n",
       "19  16\\t14200000.0\\t121.0\\t2019-01-09T00:00:00\\t3\\...                                                                                                                                                                                                                                                                  "
      ]
     },
     "execution_count": 69,
     "metadata": {},
     "output_type": "execute_result"
    }
   ],
   "source": [
    "data.head(20)"
   ]
  },
  {
   "cell_type": "markdown",
   "metadata": {},
   "source": [
    "**Вот и первая проблема. Данные склеились в одну строку вместо того, чтобы разбиться по колонкам. Это произошло из-за разделителей в формате csv. csv — это Comma-Separated Values, или значения, разделённые запятыми.**\n",
    "\n",
    "**Используем аргумент sep в функции read_csv(), чтобы разделить данные по столбцам,где разделитель будет \"\\t\".**"
   ]
  },
  {
   "cell_type": "code",
   "execution_count": 71,
   "metadata": {},
   "outputs": [
    {
     "data": {
      "text/html": [
       "<div>\n",
       "<style scoped>\n",
       "    .dataframe tbody tr th:only-of-type {\n",
       "        vertical-align: middle;\n",
       "    }\n",
       "\n",
       "    .dataframe tbody tr th {\n",
       "        vertical-align: top;\n",
       "    }\n",
       "\n",
       "    .dataframe thead th {\n",
       "        text-align: right;\n",
       "    }\n",
       "</style>\n",
       "<table border=\"1\" class=\"dataframe\">\n",
       "  <thead>\n",
       "    <tr style=\"text-align: right;\">\n",
       "      <th></th>\n",
       "      <th>total_images</th>\n",
       "      <th>last_price</th>\n",
       "      <th>total_area</th>\n",
       "      <th>first_day_exposition</th>\n",
       "      <th>rooms</th>\n",
       "      <th>ceiling_height</th>\n",
       "      <th>floors_total</th>\n",
       "      <th>living_area</th>\n",
       "      <th>floor</th>\n",
       "      <th>is_apartment</th>\n",
       "      <th>...</th>\n",
       "      <th>kitchen_area</th>\n",
       "      <th>balcony</th>\n",
       "      <th>locality_name</th>\n",
       "      <th>airports_nearest</th>\n",
       "      <th>cityCenters_nearest</th>\n",
       "      <th>parks_around3000</th>\n",
       "      <th>parks_nearest</th>\n",
       "      <th>ponds_around3000</th>\n",
       "      <th>ponds_nearest</th>\n",
       "      <th>days_exposition</th>\n",
       "    </tr>\n",
       "  </thead>\n",
       "  <tbody>\n",
       "    <tr>\n",
       "      <th>0</th>\n",
       "      <td>20</td>\n",
       "      <td>13000000.0</td>\n",
       "      <td>108.0</td>\n",
       "      <td>2019-03-07T00:00:00</td>\n",
       "      <td>3</td>\n",
       "      <td>2.70</td>\n",
       "      <td>16.0</td>\n",
       "      <td>51.0</td>\n",
       "      <td>8</td>\n",
       "      <td>NaN</td>\n",
       "      <td>...</td>\n",
       "      <td>25.0</td>\n",
       "      <td>NaN</td>\n",
       "      <td>Санкт-Петербург</td>\n",
       "      <td>18863.0</td>\n",
       "      <td>16028.0</td>\n",
       "      <td>1.0</td>\n",
       "      <td>482.0</td>\n",
       "      <td>2.0</td>\n",
       "      <td>755.0</td>\n",
       "      <td>NaN</td>\n",
       "    </tr>\n",
       "    <tr>\n",
       "      <th>1</th>\n",
       "      <td>7</td>\n",
       "      <td>3350000.0</td>\n",
       "      <td>40.4</td>\n",
       "      <td>2018-12-04T00:00:00</td>\n",
       "      <td>1</td>\n",
       "      <td>NaN</td>\n",
       "      <td>11.0</td>\n",
       "      <td>18.6</td>\n",
       "      <td>1</td>\n",
       "      <td>NaN</td>\n",
       "      <td>...</td>\n",
       "      <td>11.0</td>\n",
       "      <td>2.0</td>\n",
       "      <td>посёлок Шушары</td>\n",
       "      <td>12817.0</td>\n",
       "      <td>18603.0</td>\n",
       "      <td>0.0</td>\n",
       "      <td>NaN</td>\n",
       "      <td>0.0</td>\n",
       "      <td>NaN</td>\n",
       "      <td>81.0</td>\n",
       "    </tr>\n",
       "    <tr>\n",
       "      <th>2</th>\n",
       "      <td>10</td>\n",
       "      <td>5196000.0</td>\n",
       "      <td>56.0</td>\n",
       "      <td>2015-08-20T00:00:00</td>\n",
       "      <td>2</td>\n",
       "      <td>NaN</td>\n",
       "      <td>5.0</td>\n",
       "      <td>34.3</td>\n",
       "      <td>4</td>\n",
       "      <td>NaN</td>\n",
       "      <td>...</td>\n",
       "      <td>8.3</td>\n",
       "      <td>0.0</td>\n",
       "      <td>Санкт-Петербург</td>\n",
       "      <td>21741.0</td>\n",
       "      <td>13933.0</td>\n",
       "      <td>1.0</td>\n",
       "      <td>90.0</td>\n",
       "      <td>2.0</td>\n",
       "      <td>574.0</td>\n",
       "      <td>558.0</td>\n",
       "    </tr>\n",
       "    <tr>\n",
       "      <th>3</th>\n",
       "      <td>0</td>\n",
       "      <td>64900000.0</td>\n",
       "      <td>159.0</td>\n",
       "      <td>2015-07-24T00:00:00</td>\n",
       "      <td>3</td>\n",
       "      <td>NaN</td>\n",
       "      <td>14.0</td>\n",
       "      <td>NaN</td>\n",
       "      <td>9</td>\n",
       "      <td>NaN</td>\n",
       "      <td>...</td>\n",
       "      <td>NaN</td>\n",
       "      <td>0.0</td>\n",
       "      <td>Санкт-Петербург</td>\n",
       "      <td>28098.0</td>\n",
       "      <td>6800.0</td>\n",
       "      <td>2.0</td>\n",
       "      <td>84.0</td>\n",
       "      <td>3.0</td>\n",
       "      <td>234.0</td>\n",
       "      <td>424.0</td>\n",
       "    </tr>\n",
       "    <tr>\n",
       "      <th>4</th>\n",
       "      <td>2</td>\n",
       "      <td>10000000.0</td>\n",
       "      <td>100.0</td>\n",
       "      <td>2018-06-19T00:00:00</td>\n",
       "      <td>2</td>\n",
       "      <td>3.03</td>\n",
       "      <td>14.0</td>\n",
       "      <td>32.0</td>\n",
       "      <td>13</td>\n",
       "      <td>NaN</td>\n",
       "      <td>...</td>\n",
       "      <td>41.0</td>\n",
       "      <td>NaN</td>\n",
       "      <td>Санкт-Петербург</td>\n",
       "      <td>31856.0</td>\n",
       "      <td>8098.0</td>\n",
       "      <td>2.0</td>\n",
       "      <td>112.0</td>\n",
       "      <td>1.0</td>\n",
       "      <td>48.0</td>\n",
       "      <td>121.0</td>\n",
       "    </tr>\n",
       "  </tbody>\n",
       "</table>\n",
       "<p>5 rows × 22 columns</p>\n",
       "</div>"
      ],
      "text/plain": [
       "   total_images  last_price  total_area first_day_exposition  rooms  \\\n",
       "0            20  13000000.0       108.0  2019-03-07T00:00:00      3   \n",
       "1             7   3350000.0        40.4  2018-12-04T00:00:00      1   \n",
       "2            10   5196000.0        56.0  2015-08-20T00:00:00      2   \n",
       "3             0  64900000.0       159.0  2015-07-24T00:00:00      3   \n",
       "4             2  10000000.0       100.0  2018-06-19T00:00:00      2   \n",
       "\n",
       "   ceiling_height  floors_total  living_area  floor is_apartment  ...  \\\n",
       "0            2.70          16.0         51.0      8          NaN  ...   \n",
       "1             NaN          11.0         18.6      1          NaN  ...   \n",
       "2             NaN           5.0         34.3      4          NaN  ...   \n",
       "3             NaN          14.0          NaN      9          NaN  ...   \n",
       "4            3.03          14.0         32.0     13          NaN  ...   \n",
       "\n",
       "   kitchen_area  balcony    locality_name  airports_nearest  \\\n",
       "0          25.0      NaN  Санкт-Петербург           18863.0   \n",
       "1          11.0      2.0   посёлок Шушары           12817.0   \n",
       "2           8.3      0.0  Санкт-Петербург           21741.0   \n",
       "3           NaN      0.0  Санкт-Петербург           28098.0   \n",
       "4          41.0      NaN  Санкт-Петербург           31856.0   \n",
       "\n",
       "  cityCenters_nearest  parks_around3000  parks_nearest  ponds_around3000  \\\n",
       "0             16028.0               1.0          482.0               2.0   \n",
       "1             18603.0               0.0            NaN               0.0   \n",
       "2             13933.0               1.0           90.0               2.0   \n",
       "3              6800.0               2.0           84.0               3.0   \n",
       "4              8098.0               2.0          112.0               1.0   \n",
       "\n",
       "   ponds_nearest  days_exposition  \n",
       "0          755.0              NaN  \n",
       "1            NaN             81.0  \n",
       "2          574.0            558.0  \n",
       "3          234.0            424.0  \n",
       "4           48.0            121.0  \n",
       "\n",
       "[5 rows x 22 columns]"
      ]
     },
     "execution_count": 71,
     "metadata": {},
     "output_type": "execute_result"
    }
   ],
   "source": [
    "data = pd.read_csv('real_estate_data.csv', sep='\\t')\n",
    "data.head()"
   ]
  },
  {
   "cell_type": "markdown",
   "metadata": {},
   "source": [
    "**Выведем основную информацию о датафрейме с помощью метода `info()`.**"
   ]
  },
  {
   "cell_type": "code",
   "execution_count": 72,
   "metadata": {},
   "outputs": [
    {
     "name": "stdout",
     "output_type": "stream",
     "text": [
      "<class 'pandas.core.frame.DataFrame'>\n",
      "RangeIndex: 23699 entries, 0 to 23698\n",
      "Data columns (total 22 columns):\n",
      " #   Column                Non-Null Count  Dtype  \n",
      "---  ------                --------------  -----  \n",
      " 0   total_images          23699 non-null  int64  \n",
      " 1   last_price            23699 non-null  float64\n",
      " 2   total_area            23699 non-null  float64\n",
      " 3   first_day_exposition  23699 non-null  object \n",
      " 4   rooms                 23699 non-null  int64  \n",
      " 5   ceiling_height        14504 non-null  float64\n",
      " 6   floors_total          23613 non-null  float64\n",
      " 7   living_area           21796 non-null  float64\n",
      " 8   floor                 23699 non-null  int64  \n",
      " 9   is_apartment          2775 non-null   object \n",
      " 10  studio                23699 non-null  bool   \n",
      " 11  open_plan             23699 non-null  bool   \n",
      " 12  kitchen_area          21421 non-null  float64\n",
      " 13  balcony               12180 non-null  float64\n",
      " 14  locality_name         23650 non-null  object \n",
      " 15  airports_nearest      18157 non-null  float64\n",
      " 16  cityCenters_nearest   18180 non-null  float64\n",
      " 17  parks_around3000      18181 non-null  float64\n",
      " 18  parks_nearest         8079 non-null   float64\n",
      " 19  ponds_around3000      18181 non-null  float64\n",
      " 20  ponds_nearest         9110 non-null   float64\n",
      " 21  days_exposition       20518 non-null  float64\n",
      "dtypes: bool(2), float64(14), int64(3), object(3)\n",
      "memory usage: 3.7+ MB\n"
     ]
    }
   ],
   "source": [
    "data.info()"
   ]
  },
  {
   "cell_type": "markdown",
   "metadata": {},
   "source": [
    "**Построем гистограмму для всех числовых столбцов таблицы на одном графике.**"
   ]
  },
  {
   "cell_type": "code",
   "execution_count": 73,
   "metadata": {},
   "outputs": [
    {
     "data": {
      "image/png": "[encoded data removed]",
      "text/plain": [
       "<Figure size 1080x1440 with 20 Axes>"
      ]
     },
     "metadata": {
      "needs_background": "light"
     },
     "output_type": "display_data"
    }
   ],
   "source": [
    "data.hist(figsize=(15, 20))\n",
    "plt.show()"
   ]
  },
  {
   "cell_type": "markdown",
   "metadata": {},
   "source": [
    "**Вывод: нам на аналитику даны 23 699 объвлений о продаже квартир.**\n",
    "\n",
    "**В каждой строке таблицы — данные об объявлениях о продаже квартир. Часть колонок описывает саму квартиру: этажность, число балконов, высота потолков, площадь кухни, жилая площадь, общая площадь, цена, число комнат. Часть колонок о типе квартиры и доме: аппартаменты ли это или нет, студия или нет, свободная планировка или нет, сколько всего этажей в доме. Часть колонок о том где находится квартира: расстояние до аэропорта, до центра города, до парка, до водоема, число парков и водоемов поблизости. Остальные данные рассказывают о объявлении: дата публикации, число фотографий, сколько дней было размещено объявление.**\n",
    "\n",
    "**Предварительно можно утверждать, что данных достаточно для проверки гипотез. Но встречаются пропуски в данных.**\n",
    "\n",
    "**Чтобы двигаться дальше, нужно устранить проблемы в данных.**"
   ]
  },
  {
   "cell_type": "markdown",
   "metadata": {},
   "source": [
    "### Предобработка данных"
   ]
  },
  {
   "cell_type": "markdown",
   "metadata": {},
   "source": [
    "#### Найдем и изучим пропущенные значения в столбцах."
   ]
  },
  {
   "cell_type": "markdown",
   "metadata": {},
   "source": [
    "**Выведем количество пропущенных значений для каждого столбца.**"
   ]
  },
  {
   "cell_type": "code",
   "execution_count": 77,
   "metadata": {},
   "outputs": [
    {
     "data": {
      "text/plain": [
       "total_images                0\n",
       "last_price                  0\n",
       "total_area                  0\n",
       "first_day_exposition        0\n",
       "rooms                       0\n",
       "ceiling_height           9195\n",
       "floors_total               86\n",
       "living_area              1903\n",
       "floor                       0\n",
       "is_apartment            20924\n",
       "studio                      0\n",
       "open_plan                   0\n",
       "kitchen_area             2278\n",
       "balcony                 11519\n",
       "locality_name              49\n",
       "airports_nearest         5542\n",
       "cityCenters_nearest      5519\n",
       "parks_around3000         5518\n",
       "parks_nearest           15620\n",
       "ponds_around3000         5518\n",
       "ponds_nearest           14589\n",
       "days_exposition          3181\n",
       "dtype: int64"
      ]
     },
     "execution_count": 77,
     "metadata": {},
     "output_type": "execute_result"
    }
   ],
   "source": [
    "data.isna().sum()"
   ]
  },
  {
   "cell_type": "code",
   "execution_count": 74,
   "metadata": {},
   "outputs": [
    {
     "name": "stdout",
     "output_type": "stream",
     "text": [
      "Requirement already satisfied: missingno in e:\\apps\\anacondas\\lib\\site-packages (0.5.2)\n",
      "Requirement already satisfied: numpy in e:\\apps\\anacondas\\lib\\site-packages (from missingno) (1.21.5)\n",
      "Requirement already satisfied: matplotlib in e:\\apps\\anacondas\\lib\\site-packages (from missingno) (3.1.1)\n",
      "Requirement already satisfied: scipy in e:\\apps\\anacondas\\lib\\site-packages (from missingno) (1.3.1)\n",
      "Requirement already satisfied: seaborn in e:\\apps\\anacondas\\lib\\site-packages (from missingno) (0.9.0)\n",
      "Requirement already satisfied: cycler>=0.10 in e:\\apps\\anacondas\\lib\\site-packages (from matplotlib->missingno) (0.10.0)\n",
      "Requirement already satisfied: kiwisolver>=1.0.1 in e:\\apps\\anacondas\\lib\\site-packages (from matplotlib->missingno) (1.1.0)\n",
      "Requirement already satisfied: pyparsing!=2.0.4,!=2.1.2,!=2.1.6,>=2.0.1 in e:\\apps\\anacondas\\lib\\site-packages (from matplotlib->missingno) (2.4.2)\n",
      "Requirement already satisfied: python-dateutil>=2.1 in e:\\apps\\anacondas\\lib\\site-packages (from matplotlib->missingno) (2.8.2)\n",
      "Requirement already satisfied: pandas>=0.15.2 in e:\\apps\\anacondas\\lib\\site-packages (from seaborn->missingno) (1.3.5)\n",
      "Requirement already satisfied: six in e:\\apps\\anacondas\\lib\\site-packages (from cycler>=0.10->matplotlib->missingno) (1.16.0)\n",
      "Requirement already satisfied: setuptools in e:\\apps\\anacondas\\lib\\site-packages (from kiwisolver>=1.0.1->matplotlib->missingno) (41.4.0)\n",
      "Requirement already satisfied: pytz>=2017.3 in e:\\apps\\anacondas\\lib\\site-packages (from pandas>=0.15.2->seaborn->missingno) (2019.3)\n",
      "Note: you may need to restart the kernel to use updated packages.\n"
     ]
    },
    {
     "name": "stderr",
     "output_type": "stream",
     "text": [
      "WARNING: Ignoring invalid distribution -ip (e:\\apps\\anacondas\\lib\\site-packages)\n",
      "WARNING: Ignoring invalid distribution -umpy (e:\\apps\\anacondas\\lib\\site-packages)\n",
      "WARNING: Ignoring invalid distribution -ip (e:\\apps\\anacondas\\lib\\site-packages)\n",
      "WARNING: Ignoring invalid distribution -umpy (e:\\apps\\anacondas\\lib\\site-packages)\n",
      "WARNING: Ignoring invalid distribution -ip (e:\\apps\\anacondas\\lib\\site-packages)\n",
      "WARNING: Ignoring invalid distribution -umpy (e:\\apps\\anacondas\\lib\\site-packages)\n",
      "WARNING: Ignoring invalid distribution -ip (e:\\apps\\anacondas\\lib\\site-packages)\n",
      "WARNING: Ignoring invalid distribution -umpy (e:\\apps\\anacondas\\lib\\site-packages)\n"
     ]
    }
   ],
   "source": [
    "pip install missingno"
   ]
  },
  {
   "cell_type": "code",
   "execution_count": 75,
   "metadata": {},
   "outputs": [
    {
     "data": {
      "text/plain": [
       "<matplotlib.axes._subplots.AxesSubplot at 0x1fcc01eee48>"
      ]
     },
     "execution_count": 75,
     "metadata": {},
     "output_type": "execute_result"
    },
    {
     "data": {
      "image/png": "[encoded data removed]",
      "text/plain": [
       "<Figure size 1800x720 with 2 Axes>"
      ]
     },
     "metadata": {
      "needs_background": "light"
     },
     "output_type": "display_data"
    }
   ],
   "source": [
    "import missingno as msno\n",
    "msno.matrix(data, labels=True)"
   ]
  },
  {
   "cell_type": "code",
   "execution_count": 76,
   "metadata": {},
   "outputs": [
    {
     "data": {
      "text/plain": [
       "array([  nan,   81.,  558., ..., 1360., 1007.,  971.])"
      ]
     },
     "execution_count": 76,
     "metadata": {},
     "output_type": "execute_result"
    }
   ],
   "source": [
    "data['days_exposition'].unique()"
   ]
  },
  {
   "cell_type": "markdown",
   "metadata": {},
   "source": [
    "**ceiling_height-отсутствует высота потолков, скорей всего не знает человек высоту потолков, либо мошенники,либо забыли вписать.**\n",
    "\n",
    "**floors_total-всего этажей в доме.Скорей всего в доме 1 этаж,либо забыли вписать.**\n",
    "\n",
    "**living_area-жилая площадь в кв.метрах, скорей всего не знает человек жилую площадь,либо мошенники,либо забыли вписать.**\n",
    "\n",
    "**is_apartment-апартаменты.Скорей всего не апартаменты, потому что человек бы скорей всего знал,что это апппартаменты,так как это редкость, но и нельзя исключать,что человек бы не знал этого. И еще один вариант мошенники или забыли вписать.**\n",
    "\n",
    "**kitchen_area-площадь кухни в кв.метрах-может быть ее нет,так как это студия.Оставим как есть.**\n",
    "\n",
    "**balcony-число балконов. Можно заменить на 0,так как их скорей всего нет.**\n",
    "\n",
    "**locality_name-название населенного пункта, предположение, что может мошенники разместили объявление, и не указав населенный пункт,это объявление будет показываться по всей России,тем самым больше вероятность «продать» квартиру.Либо человек не заполняя этот пункт подумал,что раз он размещает объявление в Санкт-Петербурге, то итак будет понятно,что это Петербург.**\n",
    "\n",
    "**airports_nearest-расстояние до ближайшего аэропорта. Оставим как есть.**\n",
    "\n",
    "**cityCenters_nearest-расстояние до центра города(м), либо мошенники, либо это деревня, поэтому по сути нету центра города.**\n",
    "\n",
    "**parks_around3000-число парков в радиусе 3 км, оставим как есть, так как скорей всего их нет.**\n",
    "\n",
    "**parks_nearest- расстояние до ближайшего парка (м),тоже оставим как есть.**\n",
    "\n",
    "**ponds_around3000-число водоёмов в радиусе 3 км, оставим как есть, так как скорей всего их нет.**\n",
    "\n",
    "**ponds_nearest-расстояние до ближайшего парка (м), оставим как есть, так как скорей всего их нет.**\n",
    "\n",
    "**days_exposition- сколько дней было размещено объявление (от публикации до снятия). Как узнать это автоматические данные или пользователь заполняет их сам\\? Похоже на то что это автоматические данные, тогда желательно пропуски заменить на ноль, так как думаю программа не пишит нолевой день.Проверим есть ли в этих столбцах нули,если нет, значит Nan и есть 0.**\n"
   ]
  },
  {
   "cell_type": "code",
   "execution_count": 77,
   "metadata": {},
   "outputs": [
    {
     "data": {
      "text/plain": [
       "array([  nan,   81.,  558., ..., 1360., 1007.,  971.])"
      ]
     },
     "execution_count": 77,
     "metadata": {},
     "output_type": "execute_result"
    }
   ],
   "source": [
    "data['days_exposition'].unique()"
   ]
  },
  {
   "cell_type": "markdown",
   "metadata": {},
   "source": [
    "Нулей нет ,зато есть Nan, значит заменяем на 0.\n",
    "\n",
    "**заменим на 0 данный в столбцах balcony, days_exposition**"
   ]
  },
  {
   "cell_type": "code",
   "execution_count": 78,
   "metadata": {},
   "outputs": [
    {
     "data": {
      "text/plain": [
       "total_images                0\n",
       "last_price                  0\n",
       "total_area                  0\n",
       "first_day_exposition        0\n",
       "rooms                       0\n",
       "ceiling_height           9195\n",
       "floors_total               86\n",
       "living_area              1903\n",
       "floor                       0\n",
       "is_apartment            20924\n",
       "studio                      0\n",
       "open_plan                   0\n",
       "kitchen_area             2278\n",
       "balcony                     0\n",
       "locality_name              49\n",
       "airports_nearest         5542\n",
       "cityCenters_nearest      5519\n",
       "parks_around3000         5518\n",
       "parks_nearest           15620\n",
       "ponds_around3000         5518\n",
       "ponds_nearest           14589\n",
       "days_exposition             0\n",
       "dtype: int64"
      ]
     },
     "execution_count": 78,
     "metadata": {},
     "output_type": "execute_result"
    }
   ],
   "source": [
    "data = data.fillna(value={column:0 for column in ['balcony', 'days_exposition']})\n",
    "\n",
    "data.isna().sum()"
   ]
  },
  {
   "cell_type": "markdown",
   "metadata": {},
   "source": [
    "#### Рассмотрим типы данных в каждом столбце"
   ]
  },
  {
   "cell_type": "code",
   "execution_count": 79,
   "metadata": {},
   "outputs": [
    {
     "name": "stdout",
     "output_type": "stream",
     "text": [
      "<class 'pandas.core.frame.DataFrame'>\n",
      "RangeIndex: 23699 entries, 0 to 23698\n",
      "Data columns (total 22 columns):\n",
      " #   Column                Non-Null Count  Dtype  \n",
      "---  ------                --------------  -----  \n",
      " 0   total_images          23699 non-null  int64  \n",
      " 1   last_price            23699 non-null  float64\n",
      " 2   total_area            23699 non-null  float64\n",
      " 3   first_day_exposition  23699 non-null  object \n",
      " 4   rooms                 23699 non-null  int64  \n",
      " 5   ceiling_height        14504 non-null  float64\n",
      " 6   floors_total          23613 non-null  float64\n",
      " 7   living_area           21796 non-null  float64\n",
      " 8   floor                 23699 non-null  int64  \n",
      " 9   is_apartment          2775 non-null   object \n",
      " 10  studio                23699 non-null  bool   \n",
      " 11  open_plan             23699 non-null  bool   \n",
      " 12  kitchen_area          21421 non-null  float64\n",
      " 13  balcony               23699 non-null  float64\n",
      " 14  locality_name         23650 non-null  object \n",
      " 15  airports_nearest      18157 non-null  float64\n",
      " 16  cityCenters_nearest   18180 non-null  float64\n",
      " 17  parks_around3000      18181 non-null  float64\n",
      " 18  parks_nearest         8079 non-null   float64\n",
      " 19  ponds_around3000      18181 non-null  float64\n",
      " 20  ponds_nearest         9110 non-null   float64\n",
      " 21  days_exposition       23699 non-null  float64\n",
      "dtypes: bool(2), float64(14), int64(3), object(3)\n",
      "memory usage: 3.7+ MB\n"
     ]
    }
   ],
   "source": [
    "data.info()"
   ]
  },
  {
   "cell_type": "markdown",
   "metadata": {},
   "source": [
    "в столбце floors_total (всего этажей в доме), balcony количество балконов тип float64. Заменим на целочисленный тип,так как этажи и балконы считаются в целых чилсах. И проверим изменение."
   ]
  },
  {
   "cell_type": "code",
   "execution_count": 81,
   "metadata": {},
   "outputs": [
    {
     "name": "stdout",
     "output_type": "stream",
     "text": [
      "<class 'pandas.core.frame.DataFrame'>\n",
      "RangeIndex: 23699 entries, 0 to 23698\n",
      "Data columns (total 22 columns):\n",
      " #   Column                Non-Null Count  Dtype  \n",
      "---  ------                --------------  -----  \n",
      " 0   total_images          23699 non-null  int64  \n",
      " 1   last_price            23699 non-null  float64\n",
      " 2   total_area            23699 non-null  float64\n",
      " 3   first_day_exposition  23699 non-null  object \n",
      " 4   rooms                 23699 non-null  int64  \n",
      " 5   ceiling_height        14504 non-null  float64\n",
      " 6   floors_total          23613 non-null  Int32  \n",
      " 7   living_area           21796 non-null  float64\n",
      " 8   floor                 23699 non-null  int64  \n",
      " 9   is_apartment          2775 non-null   object \n",
      " 10  studio                23699 non-null  bool   \n",
      " 11  open_plan             23699 non-null  bool   \n",
      " 12  kitchen_area          21421 non-null  float64\n",
      " 13  balcony               23699 non-null  Int32  \n",
      " 14  locality_name         23650 non-null  object \n",
      " 15  airports_nearest      18157 non-null  float64\n",
      " 16  cityCenters_nearest   18180 non-null  float64\n",
      " 17  parks_around3000      18181 non-null  float64\n",
      " 18  parks_nearest         8079 non-null   float64\n",
      " 19  ponds_around3000      18181 non-null  float64\n",
      " 20  ponds_nearest         9110 non-null   float64\n",
      " 21  days_exposition       23699 non-null  float64\n",
      "dtypes: Int32(2), bool(2), float64(12), int64(3), object(3)\n",
      "memory usage: 3.5+ MB\n"
     ]
    }
   ],
   "source": [
    "data = data.astype({'floors_total': \"Int32\"})\n",
    "data = data.astype({'balcony': \"Int32\"})\n",
    "\n",
    "data.info()"
   ]
  },
  {
   "cell_type": "markdown",
   "metadata": {},
   "source": [
    "**Переведем формат даты из object в datetime**"
   ]
  },
  {
   "cell_type": "code",
   "execution_count": 82,
   "metadata": {
    "scrolled": true
   },
   "outputs": [
    {
     "data": {
      "text/plain": [
       "0       2019-03-07\n",
       "1       2018-12-04\n",
       "2       2015-08-20\n",
       "3       2015-07-24\n",
       "4       2018-06-19\n",
       "           ...    \n",
       "23694   2017-03-21\n",
       "23695   2018-01-15\n",
       "23696   2018-02-11\n",
       "23697   2017-03-28\n",
       "23698   2017-07-21\n",
       "Name: first_day_exposition, Length: 23699, dtype: datetime64[ns]"
      ]
     },
     "execution_count": 82,
     "metadata": {},
     "output_type": "execute_result"
    }
   ],
   "source": [
    "data['first_day_exposition']=pd.to_datetime(data['first_day_exposition'], format='%Y%m%dT%H:%M:%S')\n",
    "data['first_day_exposition']"
   ]
  },
  {
   "cell_type": "code",
   "execution_count": 83,
   "metadata": {},
   "outputs": [
    {
     "name": "stdout",
     "output_type": "stream",
     "text": [
      "<class 'pandas.core.frame.DataFrame'>\n",
      "RangeIndex: 23699 entries, 0 to 23698\n",
      "Data columns (total 22 columns):\n",
      " #   Column                Non-Null Count  Dtype         \n",
      "---  ------                --------------  -----         \n",
      " 0   total_images          23699 non-null  int64         \n",
      " 1   last_price            23699 non-null  float64       \n",
      " 2   total_area            23699 non-null  float64       \n",
      " 3   first_day_exposition  23699 non-null  datetime64[ns]\n",
      " 4   rooms                 23699 non-null  int64         \n",
      " 5   ceiling_height        14504 non-null  float64       \n",
      " 6   floors_total          23613 non-null  Int32         \n",
      " 7   living_area           21796 non-null  float64       \n",
      " 8   floor                 23699 non-null  int64         \n",
      " 9   is_apartment          2775 non-null   object        \n",
      " 10  studio                23699 non-null  bool          \n",
      " 11  open_plan             23699 non-null  bool          \n",
      " 12  kitchen_area          21421 non-null  float64       \n",
      " 13  balcony               23699 non-null  Int32         \n",
      " 14  locality_name         23650 non-null  object        \n",
      " 15  airports_nearest      18157 non-null  float64       \n",
      " 16  cityCenters_nearest   18180 non-null  float64       \n",
      " 17  parks_around3000      18181 non-null  float64       \n",
      " 18  parks_nearest         8079 non-null   float64       \n",
      " 19  ponds_around3000      18181 non-null  float64       \n",
      " 20  ponds_nearest         9110 non-null   float64       \n",
      " 21  days_exposition       23699 non-null  float64       \n",
      "dtypes: Int32(2), bool(2), datetime64[ns](1), float64(12), int64(3), object(2)\n",
      "memory usage: 3.5+ MB\n"
     ]
    }
   ],
   "source": [
    "data.info()"
   ]
  },
  {
   "cell_type": "markdown",
   "metadata": {},
   "source": [
    "#### Изучим уникальные значения в столбце с названиями и устраним неявные дубликаты"
   ]
  },
  {
   "cell_type": "code",
   "execution_count": 84,
   "metadata": {},
   "outputs": [
    {
     "data": {
      "text/plain": [
       "0"
      ]
     },
     "execution_count": 84,
     "metadata": {},
     "output_type": "execute_result"
    }
   ],
   "source": [
    "data.duplicated().sum()"
   ]
  },
  {
   "cell_type": "markdown",
   "metadata": {},
   "source": [
    "Явных дубликатов 0."
   ]
  },
  {
   "cell_type": "markdown",
   "metadata": {},
   "source": [
    "Посчитаем сколько уникальных значений в столбце с названиями и заменим повторяющиеся."
   ]
  },
  {
   "cell_type": "code",
   "execution_count": 85,
   "metadata": {},
   "outputs": [
    {
     "data": {
      "text/plain": [
       "364"
      ]
     },
     "execution_count": 85,
     "metadata": {},
     "output_type": "execute_result"
    }
   ],
   "source": [
    "data['locality_name'].nunique()"
   ]
  },
  {
   "cell_type": "code",
   "execution_count": 86,
   "metadata": {},
   "outputs": [
    {
     "data": {
      "text/plain": [
       "array(['Санкт-Петербург', 'поселок Шушары', 'городской поселок Янино-1',\n",
       "       'поселок Парголово', 'поселок Мурино', 'Ломоносов', 'Сертолово',\n",
       "       'Петергоф', 'Пушкин', 'деревня Кудрово', 'Коммунар', 'Колпино',\n",
       "       'поселок городского типа Красный Бор', 'Гатчина',\n",
       "       'городской поселок Федоровское', 'Выборг', 'Кронштадт', 'Кировск',\n",
       "       'деревня Новое Девяткино', 'поселок Металлострой',\n",
       "       'поселок городского типа Лебяжье',\n",
       "       'поселок городского типа Сиверский', 'поселок Молодцово',\n",
       "       'поселок городского типа Кузьмоловский',\n",
       "       'садовое товарищество Новая Ропша', 'Павловск',\n",
       "       'деревня Пикколово', 'Всеволожск', 'Волхов', 'Кингисепп',\n",
       "       'Приозерск', 'Сестрорецк', 'деревня Куттузи', 'поселок Аннино',\n",
       "       'поселок городского типа Ефимовский', 'поселок Плодовое',\n",
       "       'деревня Заклинье', 'поселок Торковичи', 'поселок Первомайское',\n",
       "       'Красное Село', 'поселок Понтонный', 'Сясьстрой', 'деревня Старая',\n",
       "       'деревня Лесколово', 'поселок Новый Свет', 'Сланцы',\n",
       "       'село Путилово', 'Ивангород', 'Мурино', 'Шлиссельбург',\n",
       "       'поселок городского типа Никольский', 'Зеленогорск',\n",
       "       'Сосновый Бор', 'деревня Оржицы', 'деревня Кальтино', 'Кудрово',\n",
       "       'поселок Романовка', 'поселок Бугры',\n",
       "       'поселок городского типа Рощино', 'Кириши', 'Луга', 'Волосово',\n",
       "       'Отрадное', 'поселок городского типа Павлово', 'поселок Оредеж',\n",
       "       'село Копорье', 'поселок Молодежное', 'Тихвин', 'поселок Победа',\n",
       "       'деревня Нурма', 'поселок городского типа Синявино', 'Тосно',\n",
       "       'поселок Стрельна', 'Бокситогорск', 'поселок Александровская',\n",
       "       'деревня Лопухинка', 'Пикалево', 'поселок Терволово',\n",
       "       'поселок городского типа Советский', 'Подпорожье',\n",
       "       'поселок Петровское', 'поселок городского типа Токсово',\n",
       "       'поселок Сельцо', 'поселок городского типа Вырица',\n",
       "       'деревня Кипень', 'деревня Келози', 'деревня Вартемяги',\n",
       "       'поселок Тельмана', 'поселок Севастьяново',\n",
       "       'поселок городского типа Большая Ижора', nan, 'деревня Агалатово',\n",
       "       'поселок Новогорелово', 'поселок городского типа Лесогорский',\n",
       "       'деревня Лаголово', 'поселок Цвелодубово',\n",
       "       'поселок городского типа Рахья', 'деревня Белогорка',\n",
       "       'поселок Заводской', 'городской поселок Новоселье',\n",
       "       'деревня Большие Колпаны', 'деревня Горбунки', 'деревня Батово',\n",
       "       'деревня Заневка', 'деревня Иссад', 'Приморск',\n",
       "       'деревня Мистолово', 'Новая Ладога', 'деревня Зимитицы',\n",
       "       'поселок Барышево', 'деревня Разметелево',\n",
       "       'поселок городского типа имени Свердлова', 'деревня Пеники',\n",
       "       'поселок городского типа Рябово', 'деревня Пудомяги',\n",
       "       'поселок станции Корнево', 'деревня Низино', 'деревня Бегуницы',\n",
       "       'поселок Поляны', 'поселок городского типа Мга',\n",
       "       'поселок Елизаветино', 'поселок городского типа Кузнечное',\n",
       "       'деревня Колтуши', 'поселок Запорожское', 'деревня Гостилицы',\n",
       "       'деревня Малое Карлино', 'поселок Мичуринское',\n",
       "       'поселок городского типа имени Морозова', 'поселок Песочный',\n",
       "       'поселок Сосново', 'деревня Аро', 'поселок Ильичево',\n",
       "       'поселок городского типа Тайцы', 'деревня Малое Верево',\n",
       "       'деревня Извара', 'поселок станции Вещево', 'село Паша',\n",
       "       'деревня Калитино', 'поселок городского типа Ульяновка',\n",
       "       'деревня Чудской Бор', 'поселок городского типа Дубровка',\n",
       "       'деревня Мины', 'поселок Войсковицы', 'деревня Коркино',\n",
       "       'поселок Ропша', 'поселок городского типа Приладожский',\n",
       "       'деревня Щеглово', 'поселок Гаврилово', 'Лодейное Поле',\n",
       "       'деревня Рабитицы', 'деревня Кузьмолово', 'деревня Малые Колпаны',\n",
       "       'поселок Петро-Славянка', 'поселок городского типа Назия',\n",
       "       'поселок Репино', 'поселок Углово', 'поселок Старая Малукса',\n",
       "       'деревня Меньково', 'деревня Старые Бегуницы', 'поселок Саперный',\n",
       "       'поселок Семрино', 'поселок Глажево', 'поселок Кобринское',\n",
       "       'деревня Гарболово', 'деревня Юкки',\n",
       "       'поселок станции Приветнинское', 'деревня Мануйлово',\n",
       "       'деревня Пчева', 'поселок Цвылево', 'поселок Мельниково',\n",
       "       'поселок Пудость', 'поселок Усть-Луга', 'Светогорск', 'Любань',\n",
       "       'поселок Селезнево', 'Каменногорск', 'деревня Кривко',\n",
       "       'поселок Глебычево', 'деревня Парицы', 'поселок Жилпоселок',\n",
       "       'поселок Войскорово', 'поселок Стеклянный',\n",
       "       'поселок городского типа Важины', 'поселок Мыза-Ивановка',\n",
       "       'село Русско-Высоцкое', 'поселок городского типа Форносово',\n",
       "       'село Старая Ладога', 'поселок Житково',\n",
       "       'городской поселок Виллози', 'деревня Лампово',\n",
       "       'деревня Шпаньково', 'деревня Лаврики', 'поселок Сумино',\n",
       "       'поселок Возрождение', 'деревня Старосиверская',\n",
       "       'поселок Кикерино', 'деревня Старое Хинколово',\n",
       "       'поселок Пригородный', 'поселок Торфяное',\n",
       "       'городской поселок Будогощь', 'поселок Суходолье',\n",
       "       'поселок Красная Долина', 'деревня Хапо-Ое',\n",
       "       'поселок городского типа Дружная Горка', 'поселок Лисий Нос',\n",
       "       'деревня Яльгелево', 'село Рождествено', 'деревня Старополье',\n",
       "       'поселок Левашово', 'деревня Сяськелево', 'деревня Камышовка',\n",
       "       'садоводческое некоммерческое товарищество Лесная Поляна',\n",
       "       'деревня Хязельки', 'поселок Жилгородок', 'деревня Ялгино',\n",
       "       'поселок Новый Учхоз', 'поселок Гончарово', 'поселок Почап',\n",
       "       'поселок Саперное', 'поселок Платформа 69-й километр',\n",
       "       'поселок Каложицы', 'деревня Фалилеево', 'деревня Пельгора',\n",
       "       'деревня Торошковичи', 'поселок Белоостров', 'поселок Алексеевка',\n",
       "       'поселок Серебрянский', 'поселок Лукаши', 'деревня Тарасово',\n",
       "       'поселок Кингисеппский', 'поселок Ушаки', 'деревня Котлы',\n",
       "       'деревня Сижно', 'деревня Торосово', 'поселок Форт Красная Горка',\n",
       "       'деревня Новолисино', 'поселок станции Громово', 'деревня Глинка',\n",
       "       'деревня Старая Пустошь', 'поселок Коммунары', 'поселок Починок',\n",
       "       'поселок городского типа Вознесенье', 'деревня Разбегаево',\n",
       "       'поселок Гладкое', 'поселок Тесово-4', 'деревня Бор',\n",
       "       'поселок Коробицыно', 'деревня Большая Вруда', 'деревня Курковицы',\n",
       "       'поселок Кобралово', 'деревня Суоранда',\n",
       "       'поселок городского типа Кондратьево',\n",
       "       'коттеджный поселок Счастье', 'поселок Любань', 'деревня Реброво',\n",
       "       'деревня Тойворово', 'поселок Семиозерье', 'поселок Лесное',\n",
       "       'поселок Совхозный', 'поселок Ленинское', 'поселок Суйда',\n",
       "       'деревня Нижние Осельки', 'поселок станции Свирь',\n",
       "       'поселок Перово', 'Высоцк', 'село Шум', 'поселок Котельский',\n",
       "       'поселок станции Лужайка', 'деревня Большая Пустомержа',\n",
       "       'поселок Красносельское', 'деревня Вахнова Кара', 'деревня Пижма',\n",
       "       'коттеджный поселок Кивеннапа Север', 'поселок Ромашки',\n",
       "       'деревня Каськово', 'деревня Куровицы', 'поселок Плоское',\n",
       "       'поселок Кирпичное', 'деревня Ям-Тесово', 'деревня Раздолье',\n",
       "       'деревня Терпилицы', 'поселок Шугозеро', 'деревня Ваганово',\n",
       "       'поселок Пушное', 'садовое товарищество Садко',\n",
       "       'поселок Усть-Ижора', 'деревня Выскатка',\n",
       "       'городской поселок Свирьстрой', 'деревня Кисельня',\n",
       "       'деревня Трубников Бор', 'поселок Высокоключевой',\n",
       "       'поселок Пансионат Зеленый Бор', 'деревня Ненимяки',\n",
       "       'деревня Снегиревка', 'деревня Рапполово', 'деревня Пустынка',\n",
       "       'деревня Большой Сабск', 'деревня Русско', 'деревня Лупполово',\n",
       "       'деревня Большое Рейзино', 'деревня Малая Романовка',\n",
       "       'поселок Дружноселье', 'поселок Пчевжа', 'поселок Володарское',\n",
       "       'деревня Нижняя', 'деревня Тихковицы', 'деревня Борисова Грива',\n",
       "       'поселок Дзержинского'], dtype=object)"
      ]
     },
     "execution_count": 86,
     "metadata": {},
     "output_type": "execute_result"
    }
   ],
   "source": [
    "data['locality_name'] = (\n",
    "    data['locality_name']\n",
    "    .str.replace('ё', 'е')\n",
    "     .replace(['деревня Федоровское', 'городской поселок Федоровское'], 'городской поселок Федоровское', regex=True)\n",
    "    .replace(['село Никольское', 'Никольское', 'поселок городского типа Никольский'], 'поселок городского типа Никольский', regex=True)\n",
    "    .replace(['поселок городского типа Советский', 'городской поселок Советский'], 'поселок городского типа Советский', regex=True)\n",
    "    .replace(['городской поселок Большая Ижора', 'поселок городского типа Большая Ижора'], 'поселок городского типа Большая Ижора', regex=True)\n",
    "    .replace(['городской поселок Павлово', 'поселок городского типа Павлово', 'село Павлово'], 'поселок городского типа Павлово', regex=True)\n",
    "    .replace(['поселок городского типа Рахья', 'садовое товарищество Рахья'], 'поселок городского типа Рахья', regex=True)\n",
    "    .replace(['поселок городского типа Приладожский', 'садовое товарищество Приладожский'], 'поселок городского типа Приладожский', regex=True)\n",
    "    .replace(['деревня Калитино', 'поселок Калитино'], 'деревня Калитино', regex=True)\n",
    "    .replace(['поселок Щеглово',  'деревня Щеглово'], 'деревня Щеглово', regex=True)\n",
    "    .replace(['поселок Рабитицы',  'деревня Рабитицы'], 'деревня Рабитицы', regex=True)\n",
    "    .replace(['поселок городского типа Рябово', 'поселок Рябово'], 'поселок городского типа Рябово', regex=True)\n",
    "    .replace(['поселок городского типа Мга', 'городской поселок Мга'], 'поселок городского типа Мга', regex=True)\n",
    "    .replace(['поселок городского типа Лесогорский',  'городской поселок Лесогорский'], 'поселок городского типа Лесогорский', regex=True)\n",
    "    .replace(['поселок при железнодорожной станции Вещево', 'поселок станции Вещево'], 'поселок станции Вещево', regex=True)\n",
    "    .replace(['поселок станции Громово', 'поселок Громово'],'поселок станции Громово', regex=True)\n",
    "    .replace(['поселок городского типа Назия','городской поселок Назия'],'поселок городского типа Назия', regex=True)\n",
    "    .replace(['поселок при железнодорожной станции Приветнинское',  'поселок станции Приветнинское'], 'поселок станции Приветнинское', regex=True)\n",
    "    .replace(['деревня Зимитицы', 'поселок Зимитицы'],'деревня Зимитицы', regex=True)\n",
    "    .replace(['поселок Лесное', 'коттеджный поселок Лесное'], 'поселок Лесное', regex=True)\n",
    "    .replace(['поселок городского типа Рощино', 'городской поселок Рощино'], 'поселок городского типа Рощино', regex=True)\n",
    "    .replace(['деревня Гарболово', 'поселок Гарболово'], 'деревня Гарболово', regex=True)\n",
    ")\n",
    "    \n",
    "data['locality_name'].unique()"
   ]
  },
  {
   "cell_type": "code",
   "execution_count": 88,
   "metadata": {
    "scrolled": true
   },
   "outputs": [
    {
     "data": {
      "text/plain": [
       "307"
      ]
     },
     "execution_count": 88,
     "metadata": {},
     "output_type": "execute_result"
    }
   ],
   "source": [
    "data['locality_name'].nunique()"
   ]
  },
  {
   "cell_type": "markdown",
   "metadata": {},
   "source": [
    "Мы избавились от неявных дубликатов. И уникальных значений стало 307, а было 364."
   ]
  },
  {
   "cell_type": "markdown",
   "metadata": {},
   "source": [
    "**Вывод: мы заменили на 0 пропуски в столбцах с балконами и с количеством дней размещения объявления. Объединили похожие названия в названиях населенных пунктах, например: поселок городского типа и городской поселок, тем самым уменьшили количество уникальных значений названий населенных пунктво с 364 до 307. Строчки при этом мы удаляли, все данные остались на месте.**"
   ]
  },
  {
   "cell_type": "markdown",
   "metadata": {},
   "source": [
    "### Посчитайте и добавьте в таблицу новые столбцы"
   ]
  },
  {
   "cell_type": "markdown",
   "metadata": {},
   "source": [
    "#### Добавем в таблицу новые столбцы со следующими параметрами:\n",
    "цена одного квадратного метра-price_meter\n",
    "\n",
    "день недели публикации объявления (0 — понедельник, 1 — вторник и так далее) - day_exposition_week;\n",
    "\n",
    "месяц публикации объявления - day_exposition_month;\n",
    "\n",
    "год публикации объявления - day_exposition_year;\n",
    "\n",
    "тип этажа квартиры (значения — «‎первый», «последний», «другой») - type_floor;\n",
    "\n",
    "расстояние до центра города в километрах (переведем из м в км и округлите до ближайших целых значений)-cityCenters_km.\n"
   ]
  },
  {
   "cell_type": "code",
   "execution_count": 89,
   "metadata": {
    "scrolled": true
   },
   "outputs": [
    {
     "data": {
      "text/plain": [
       "0        120370.37\n",
       "1         82920.79\n",
       "2         92785.71\n",
       "3        408176.10\n",
       "4        100000.00\n",
       "           ...    \n",
       "23694     72490.85\n",
       "23695     52542.37\n",
       "23696     44091.71\n",
       "23697    149511.40\n",
       "23698     41795.67\n",
       "Name: price_meter, Length: 23699, dtype: float64"
      ]
     },
     "execution_count": 89,
     "metadata": {},
     "output_type": "execute_result"
    }
   ],
   "source": [
    "data['price_meter']=(data['last_price']/data['total_area']).round(2)\n",
    "data['price_meter']"
   ]
  },
  {
   "cell_type": "code",
   "execution_count": 90,
   "metadata": {
    "scrolled": true
   },
   "outputs": [
    {
     "data": {
      "text/plain": [
       "0        3\n",
       "1        1\n",
       "2        3\n",
       "3        4\n",
       "4        1\n",
       "        ..\n",
       "23694    1\n",
       "23695    0\n",
       "23696    6\n",
       "23697    1\n",
       "23698    4\n",
       "Name: day_exposition_week, Length: 23699, dtype: int64"
      ]
     },
     "execution_count": 90,
     "metadata": {},
     "output_type": "execute_result"
    }
   ],
   "source": [
    "\n",
    "data['day_exposition_week'] = pd.DatetimeIndex(data['first_day_exposition']).day_of_week\n",
    "data['day_exposition_week']"
   ]
  },
  {
   "cell_type": "code",
   "execution_count": 91,
   "metadata": {
    "scrolled": true
   },
   "outputs": [
    {
     "data": {
      "text/plain": [
       "0         3\n",
       "1        12\n",
       "2         8\n",
       "3         7\n",
       "4         6\n",
       "         ..\n",
       "23694     3\n",
       "23695     1\n",
       "23696     2\n",
       "23697     3\n",
       "23698     7\n",
       "Name: day_exposition_month, Length: 23699, dtype: int64"
      ]
     },
     "execution_count": 91,
     "metadata": {},
     "output_type": "execute_result"
    }
   ],
   "source": [
    "data['day_exposition_month'] = pd.DatetimeIndex(data['first_day_exposition']).month\n",
    "data['day_exposition_month']"
   ]
  },
  {
   "cell_type": "code",
   "execution_count": 92,
   "metadata": {
    "scrolled": true
   },
   "outputs": [
    {
     "data": {
      "text/plain": [
       "0        2019\n",
       "1        2018\n",
       "2        2015\n",
       "3        2015\n",
       "4        2018\n",
       "         ... \n",
       "23694    2017\n",
       "23695    2018\n",
       "23696    2018\n",
       "23697    2017\n",
       "23698    2017\n",
       "Name: day_exposition_year, Length: 23699, dtype: int64"
      ]
     },
     "execution_count": 92,
     "metadata": {},
     "output_type": "execute_result"
    }
   ],
   "source": [
    "data['day_exposition_year'] = pd.DatetimeIndex(data['first_day_exposition']).year\n",
    "data['day_exposition_year']"
   ]
  },
  {
   "cell_type": "code",
   "execution_count": 93,
   "metadata": {},
   "outputs": [],
   "source": [
    "def method_floor(data):\n",
    "    try:\n",
    "        if data['floor']==1:\n",
    "            return 'первый'\n",
    "        if data['floor']==data['floors_total']:\n",
    "            return 'последний'\n",
    "    except:\n",
    "        return 'другой'\n",
    "    return 'другой'\n",
    "    "
   ]
  },
  {
   "cell_type": "code",
   "execution_count": 94,
   "metadata": {},
   "outputs": [
    {
     "data": {
      "text/plain": [
       "array(['другой', 'первый', 'последний'], dtype=object)"
      ]
     },
     "execution_count": 94,
     "metadata": {},
     "output_type": "execute_result"
    }
   ],
   "source": [
    "data['type_floor'] = data.apply(method_floor, axis =1)\n",
    "data['type_floor'].unique()"
   ]
  },
  {
   "cell_type": "code",
   "execution_count": 95,
   "metadata": {},
   "outputs": [
    {
     "data": {
      "text/plain": [
       "0        16.03\n",
       "1        18.60\n",
       "2        13.93\n",
       "3         6.80\n",
       "4         8.10\n",
       "         ...  \n",
       "23694     4.23\n",
       "23695      NaN\n",
       "23696      NaN\n",
       "23697    10.36\n",
       "23698      NaN\n",
       "Name: cityCenters_km, Length: 23699, dtype: float64"
      ]
     },
     "execution_count": 95,
     "metadata": {},
     "output_type": "execute_result"
    }
   ],
   "source": [
    "data['cityCenters_km']=(data['cityCenters_nearest']/1000).round(2)\n",
    "data['cityCenters_km']"
   ]
  },
  {
   "cell_type": "markdown",
   "metadata": {},
   "source": [
    "### Проведите исследовательский анализ данных"
   ]
  },
  {
   "cell_type": "markdown",
   "metadata": {},
   "source": [
    "#### Проведем исследовательский анализ данных.\n",
    "\n",
    "**Изучим перечисленные ниже параметры объектов и построим отдельные гистограммы для каждого из этих параметров. Попробуем обработать аномалии в этом и других столбцах, если они есть. Если природа аномалии понятна и данные действительно искажены, то восстановим корректное значение. В противном случае удалите редкие и выбивающиеся значения.**\n",
    "\n",
    "**Список параметров:**\n",
    "\n",
    "**общая площадь;**\n",
    "\n",
    "**жилая площадь;**\n",
    "\n",
    "**площадь кухни;**\n",
    "\n",
    "**цена объекта;**\n",
    "\n",
    "**количество комнат;**\n",
    "\n",
    "**высота потолков;**\n",
    "\n",
    "**тип этажа квартиры («первый», «последний», «другой»);**\n",
    "\n",
    "**общее количество этажей в доме;**\n",
    "\n",
    "**расстояние до центра города в метрах;**\n",
    "\n",
    "**расстояние до ближайшего парка.**"
   ]
  },
  {
   "cell_type": "code",
   "execution_count": 96,
   "metadata": {},
   "outputs": [
    {
     "data": {
      "text/plain": [
       "'Общая Площадь'"
      ]
     },
     "execution_count": 96,
     "metadata": {},
     "output_type": "execute_result"
    },
    {
     "data": {
      "image/png": "[encoded data removed]",
      "text/plain": [
       "<Figure size 432x288 with 1 Axes>"
      ]
     },
     "metadata": {
      "needs_background": "light"
     },
     "output_type": "display_data"
    }
   ],
   "source": [
    "data['total_area'].hist()\n",
    "'общая площадь'.title()"
   ]
  },
  {
   "cell_type": "code",
   "execution_count": 97,
   "metadata": {},
   "outputs": [
    {
     "data": {
      "text/html": [
       "<div>\n",
       "<style scoped>\n",
       "    .dataframe tbody tr th:only-of-type {\n",
       "        vertical-align: middle;\n",
       "    }\n",
       "\n",
       "    .dataframe tbody tr th {\n",
       "        vertical-align: top;\n",
       "    }\n",
       "\n",
       "    .dataframe thead th {\n",
       "        text-align: right;\n",
       "    }\n",
       "</style>\n",
       "<table border=\"1\" class=\"dataframe\">\n",
       "  <thead>\n",
       "    <tr style=\"text-align: right;\">\n",
       "      <th></th>\n",
       "      <th>total_images</th>\n",
       "      <th>last_price</th>\n",
       "      <th>total_area</th>\n",
       "      <th>first_day_exposition</th>\n",
       "      <th>rooms</th>\n",
       "      <th>ceiling_height</th>\n",
       "      <th>floors_total</th>\n",
       "      <th>living_area</th>\n",
       "      <th>floor</th>\n",
       "      <th>is_apartment</th>\n",
       "      <th>...</th>\n",
       "      <th>parks_nearest</th>\n",
       "      <th>ponds_around3000</th>\n",
       "      <th>ponds_nearest</th>\n",
       "      <th>days_exposition</th>\n",
       "      <th>price_meter</th>\n",
       "      <th>day_exposition_week</th>\n",
       "      <th>day_exposition_month</th>\n",
       "      <th>day_exposition_year</th>\n",
       "      <th>type_floor</th>\n",
       "      <th>cityCenters_km</th>\n",
       "    </tr>\n",
       "  </thead>\n",
       "  <tbody>\n",
       "    <tr>\n",
       "      <th>19540</th>\n",
       "      <td>8</td>\n",
       "      <td>420000000.0</td>\n",
       "      <td>900.0</td>\n",
       "      <td>2017-12-06</td>\n",
       "      <td>12</td>\n",
       "      <td>2.8</td>\n",
       "      <td>25</td>\n",
       "      <td>409.7</td>\n",
       "      <td>25</td>\n",
       "      <td>NaN</td>\n",
       "      <td>...</td>\n",
       "      <td>NaN</td>\n",
       "      <td>2.0</td>\n",
       "      <td>318.0</td>\n",
       "      <td>106.0</td>\n",
       "      <td>466666.67</td>\n",
       "      <td>2</td>\n",
       "      <td>12</td>\n",
       "      <td>2017</td>\n",
       "      <td>последний</td>\n",
       "      <td>7.88</td>\n",
       "    </tr>\n",
       "  </tbody>\n",
       "</table>\n",
       "<p>1 rows × 28 columns</p>\n",
       "</div>"
      ],
      "text/plain": [
       "       total_images   last_price  total_area first_day_exposition  rooms  \\\n",
       "19540             8  420000000.0       900.0           2017-12-06     12   \n",
       "\n",
       "       ceiling_height  floors_total  living_area  floor is_apartment  ...  \\\n",
       "19540             2.8            25        409.7     25          NaN  ...   \n",
       "\n",
       "       parks_nearest  ponds_around3000  ponds_nearest  days_exposition  \\\n",
       "19540            NaN               2.0          318.0            106.0   \n",
       "\n",
       "      price_meter  day_exposition_week  day_exposition_month  \\\n",
       "19540   466666.67                    2                    12   \n",
       "\n",
       "       day_exposition_year  type_floor  cityCenters_km  \n",
       "19540                 2017   последний            7.88  \n",
       "\n",
       "[1 rows x 28 columns]"
      ]
     },
     "execution_count": 97,
     "metadata": {},
     "output_type": "execute_result"
    }
   ],
   "source": [
    "data[data['total_area']>800]"
   ]
  },
  {
   "cell_type": "markdown",
   "metadata": {},
   "source": [
    "Проверили значение больше 800 и поняли, что такое количество метров квадратных вполне реально для 12 комнат."
   ]
  },
  {
   "cell_type": "code",
   "execution_count": 98,
   "metadata": {},
   "outputs": [
    {
     "data": {
      "text/plain": [
       "'Общая Площадь'"
      ]
     },
     "execution_count": 98,
     "metadata": {},
     "output_type": "execute_result"
    },
    {
     "data": {
      "image/png": "[encoded data removed]",
      "text/plain": [
       "<Figure size 432x288 with 1 Axes>"
      ]
     },
     "metadata": {
      "needs_background": "light"
     },
     "output_type": "display_data"
    }
   ],
   "source": [
    "data['total_area'].hist(bins=400, range = (0, 400))\n",
    "'общая площадь'.title()"
   ]
  },
  {
   "cell_type": "markdown",
   "metadata": {},
   "source": [
    "Похоже на пуссоновское распределение."
   ]
  },
  {
   "cell_type": "code",
   "execution_count": 99,
   "metadata": {},
   "outputs": [
    {
     "data": {
      "text/html": [
       "<div>\n",
       "<style scoped>\n",
       "    .dataframe tbody tr th:only-of-type {\n",
       "        vertical-align: middle;\n",
       "    }\n",
       "\n",
       "    .dataframe tbody tr th {\n",
       "        vertical-align: top;\n",
       "    }\n",
       "\n",
       "    .dataframe thead th {\n",
       "        text-align: right;\n",
       "    }\n",
       "</style>\n",
       "<table border=\"1\" class=\"dataframe\">\n",
       "  <thead>\n",
       "    <tr style=\"text-align: right;\">\n",
       "      <th></th>\n",
       "      <th>total_images</th>\n",
       "      <th>last_price</th>\n",
       "      <th>total_area</th>\n",
       "      <th>first_day_exposition</th>\n",
       "      <th>rooms</th>\n",
       "      <th>ceiling_height</th>\n",
       "      <th>floors_total</th>\n",
       "      <th>living_area</th>\n",
       "      <th>floor</th>\n",
       "      <th>is_apartment</th>\n",
       "      <th>...</th>\n",
       "      <th>parks_nearest</th>\n",
       "      <th>ponds_around3000</th>\n",
       "      <th>ponds_nearest</th>\n",
       "      <th>days_exposition</th>\n",
       "      <th>price_meter</th>\n",
       "      <th>day_exposition_week</th>\n",
       "      <th>day_exposition_month</th>\n",
       "      <th>day_exposition_year</th>\n",
       "      <th>type_floor</th>\n",
       "      <th>cityCenters_km</th>\n",
       "    </tr>\n",
       "  </thead>\n",
       "  <tbody>\n",
       "    <tr>\n",
       "      <th>660</th>\n",
       "      <td>3</td>\n",
       "      <td>49950000.0</td>\n",
       "      <td>483.90</td>\n",
       "      <td>2017-10-04</td>\n",
       "      <td>7</td>\n",
       "      <td>3.20</td>\n",
       "      <td>6</td>\n",
       "      <td>312.5</td>\n",
       "      <td>4</td>\n",
       "      <td>NaN</td>\n",
       "      <td>...</td>\n",
       "      <td>461.0</td>\n",
       "      <td>3.0</td>\n",
       "      <td>22.0</td>\n",
       "      <td>391.0</td>\n",
       "      <td>103223.81</td>\n",
       "      <td>2</td>\n",
       "      <td>10</td>\n",
       "      <td>2017</td>\n",
       "      <td>другой</td>\n",
       "      <td>0.94</td>\n",
       "    </tr>\n",
       "    <tr>\n",
       "      <th>3117</th>\n",
       "      <td>19</td>\n",
       "      <td>140000000.0</td>\n",
       "      <td>631.00</td>\n",
       "      <td>2019-03-30</td>\n",
       "      <td>7</td>\n",
       "      <td>NaN</td>\n",
       "      <td>5</td>\n",
       "      <td>NaN</td>\n",
       "      <td>5</td>\n",
       "      <td>NaN</td>\n",
       "      <td>...</td>\n",
       "      <td>NaN</td>\n",
       "      <td>2.0</td>\n",
       "      <td>210.0</td>\n",
       "      <td>0.0</td>\n",
       "      <td>221870.05</td>\n",
       "      <td>5</td>\n",
       "      <td>3</td>\n",
       "      <td>2019</td>\n",
       "      <td>последний</td>\n",
       "      <td>4.97</td>\n",
       "    </tr>\n",
       "    <tr>\n",
       "      <th>3676</th>\n",
       "      <td>12</td>\n",
       "      <td>28789000.0</td>\n",
       "      <td>441.98</td>\n",
       "      <td>2019-01-23</td>\n",
       "      <td>4</td>\n",
       "      <td>NaN</td>\n",
       "      <td>6</td>\n",
       "      <td>NaN</td>\n",
       "      <td>6</td>\n",
       "      <td>NaN</td>\n",
       "      <td>...</td>\n",
       "      <td>NaN</td>\n",
       "      <td>0.0</td>\n",
       "      <td>NaN</td>\n",
       "      <td>0.0</td>\n",
       "      <td>65136.43</td>\n",
       "      <td>2</td>\n",
       "      <td>1</td>\n",
       "      <td>2019</td>\n",
       "      <td>последний</td>\n",
       "      <td>5.18</td>\n",
       "    </tr>\n",
       "    <tr>\n",
       "      <th>4237</th>\n",
       "      <td>1</td>\n",
       "      <td>50000000.0</td>\n",
       "      <td>517.00</td>\n",
       "      <td>2017-10-14</td>\n",
       "      <td>7</td>\n",
       "      <td>NaN</td>\n",
       "      <td>4</td>\n",
       "      <td>332.0</td>\n",
       "      <td>3</td>\n",
       "      <td>NaN</td>\n",
       "      <td>...</td>\n",
       "      <td>477.0</td>\n",
       "      <td>2.0</td>\n",
       "      <td>540.0</td>\n",
       "      <td>0.0</td>\n",
       "      <td>96711.80</td>\n",
       "      <td>5</td>\n",
       "      <td>10</td>\n",
       "      <td>2017</td>\n",
       "      <td>другой</td>\n",
       "      <td>1.85</td>\n",
       "    </tr>\n",
       "    <tr>\n",
       "      <th>5358</th>\n",
       "      <td>20</td>\n",
       "      <td>65000000.0</td>\n",
       "      <td>590.00</td>\n",
       "      <td>2019-02-14</td>\n",
       "      <td>15</td>\n",
       "      <td>3.50</td>\n",
       "      <td>6</td>\n",
       "      <td>409.0</td>\n",
       "      <td>3</td>\n",
       "      <td>NaN</td>\n",
       "      <td>...</td>\n",
       "      <td>767.0</td>\n",
       "      <td>0.0</td>\n",
       "      <td>NaN</td>\n",
       "      <td>14.0</td>\n",
       "      <td>110169.49</td>\n",
       "      <td>3</td>\n",
       "      <td>2</td>\n",
       "      <td>2019</td>\n",
       "      <td>другой</td>\n",
       "      <td>4.67</td>\n",
       "    </tr>\n",
       "    <tr>\n",
       "      <th>5893</th>\n",
       "      <td>3</td>\n",
       "      <td>230000000.0</td>\n",
       "      <td>500.00</td>\n",
       "      <td>2017-05-31</td>\n",
       "      <td>6</td>\n",
       "      <td>NaN</td>\n",
       "      <td>7</td>\n",
       "      <td>NaN</td>\n",
       "      <td>7</td>\n",
       "      <td>NaN</td>\n",
       "      <td>...</td>\n",
       "      <td>NaN</td>\n",
       "      <td>2.0</td>\n",
       "      <td>198.0</td>\n",
       "      <td>50.0</td>\n",
       "      <td>460000.00</td>\n",
       "      <td>2</td>\n",
       "      <td>5</td>\n",
       "      <td>2017</td>\n",
       "      <td>последний</td>\n",
       "      <td>5.30</td>\n",
       "    </tr>\n",
       "    <tr>\n",
       "      <th>6221</th>\n",
       "      <td>8</td>\n",
       "      <td>34000000.0</td>\n",
       "      <td>470.30</td>\n",
       "      <td>2018-01-14</td>\n",
       "      <td>4</td>\n",
       "      <td>NaN</td>\n",
       "      <td>3</td>\n",
       "      <td>248.7</td>\n",
       "      <td>3</td>\n",
       "      <td>NaN</td>\n",
       "      <td>...</td>\n",
       "      <td>852.0</td>\n",
       "      <td>3.0</td>\n",
       "      <td>122.0</td>\n",
       "      <td>179.0</td>\n",
       "      <td>72294.28</td>\n",
       "      <td>6</td>\n",
       "      <td>1</td>\n",
       "      <td>2018</td>\n",
       "      <td>последний</td>\n",
       "      <td>15.46</td>\n",
       "    </tr>\n",
       "    <tr>\n",
       "      <th>6621</th>\n",
       "      <td>20</td>\n",
       "      <td>99000000.0</td>\n",
       "      <td>488.00</td>\n",
       "      <td>2017-04-09</td>\n",
       "      <td>5</td>\n",
       "      <td>2.95</td>\n",
       "      <td>20</td>\n",
       "      <td>216.0</td>\n",
       "      <td>17</td>\n",
       "      <td>NaN</td>\n",
       "      <td>...</td>\n",
       "      <td>646.0</td>\n",
       "      <td>1.0</td>\n",
       "      <td>368.0</td>\n",
       "      <td>351.0</td>\n",
       "      <td>202868.85</td>\n",
       "      <td>6</td>\n",
       "      <td>4</td>\n",
       "      <td>2017</td>\n",
       "      <td>другой</td>\n",
       "      <td>4.60</td>\n",
       "    </tr>\n",
       "    <tr>\n",
       "      <th>8018</th>\n",
       "      <td>20</td>\n",
       "      <td>84000000.0</td>\n",
       "      <td>507.00</td>\n",
       "      <td>2015-12-17</td>\n",
       "      <td>5</td>\n",
       "      <td>4.45</td>\n",
       "      <td>7</td>\n",
       "      <td>301.5</td>\n",
       "      <td>7</td>\n",
       "      <td>True</td>\n",
       "      <td>...</td>\n",
       "      <td>110.0</td>\n",
       "      <td>0.0</td>\n",
       "      <td>NaN</td>\n",
       "      <td>1078.0</td>\n",
       "      <td>165680.47</td>\n",
       "      <td>3</td>\n",
       "      <td>12</td>\n",
       "      <td>2015</td>\n",
       "      <td>последний</td>\n",
       "      <td>5.74</td>\n",
       "    </tr>\n",
       "    <tr>\n",
       "      <th>9826</th>\n",
       "      <td>1</td>\n",
       "      <td>43185328.0</td>\n",
       "      <td>494.10</td>\n",
       "      <td>2017-05-12</td>\n",
       "      <td>1</td>\n",
       "      <td>2.85</td>\n",
       "      <td>12</td>\n",
       "      <td>NaN</td>\n",
       "      <td>3</td>\n",
       "      <td>NaN</td>\n",
       "      <td>...</td>\n",
       "      <td>592.0</td>\n",
       "      <td>0.0</td>\n",
       "      <td>NaN</td>\n",
       "      <td>5.0</td>\n",
       "      <td>87402.00</td>\n",
       "      <td>4</td>\n",
       "      <td>5</td>\n",
       "      <td>2017</td>\n",
       "      <td>другой</td>\n",
       "      <td>6.83</td>\n",
       "    </tr>\n",
       "    <tr>\n",
       "      <th>12401</th>\n",
       "      <td>20</td>\n",
       "      <td>91500000.0</td>\n",
       "      <td>495.00</td>\n",
       "      <td>2017-06-19</td>\n",
       "      <td>7</td>\n",
       "      <td>4.65</td>\n",
       "      <td>7</td>\n",
       "      <td>347.5</td>\n",
       "      <td>7</td>\n",
       "      <td>NaN</td>\n",
       "      <td>...</td>\n",
       "      <td>110.0</td>\n",
       "      <td>0.0</td>\n",
       "      <td>NaN</td>\n",
       "      <td>14.0</td>\n",
       "      <td>184848.48</td>\n",
       "      <td>0</td>\n",
       "      <td>6</td>\n",
       "      <td>2017</td>\n",
       "      <td>последний</td>\n",
       "      <td>5.74</td>\n",
       "    </tr>\n",
       "    <tr>\n",
       "      <th>12859</th>\n",
       "      <td>20</td>\n",
       "      <td>140000000.0</td>\n",
       "      <td>631.20</td>\n",
       "      <td>2019-04-09</td>\n",
       "      <td>7</td>\n",
       "      <td>3.90</td>\n",
       "      <td>4</td>\n",
       "      <td>322.3</td>\n",
       "      <td>4</td>\n",
       "      <td>NaN</td>\n",
       "      <td>...</td>\n",
       "      <td>NaN</td>\n",
       "      <td>2.0</td>\n",
       "      <td>210.0</td>\n",
       "      <td>0.0</td>\n",
       "      <td>221799.75</td>\n",
       "      <td>1</td>\n",
       "      <td>4</td>\n",
       "      <td>2019</td>\n",
       "      <td>последний</td>\n",
       "      <td>4.97</td>\n",
       "    </tr>\n",
       "    <tr>\n",
       "      <th>13749</th>\n",
       "      <td>7</td>\n",
       "      <td>240000000.0</td>\n",
       "      <td>410.00</td>\n",
       "      <td>2017-04-01</td>\n",
       "      <td>6</td>\n",
       "      <td>3.40</td>\n",
       "      <td>7</td>\n",
       "      <td>218.0</td>\n",
       "      <td>7</td>\n",
       "      <td>NaN</td>\n",
       "      <td>...</td>\n",
       "      <td>NaN</td>\n",
       "      <td>2.0</td>\n",
       "      <td>198.0</td>\n",
       "      <td>199.0</td>\n",
       "      <td>585365.85</td>\n",
       "      <td>5</td>\n",
       "      <td>4</td>\n",
       "      <td>2017</td>\n",
       "      <td>последний</td>\n",
       "      <td>5.30</td>\n",
       "    </tr>\n",
       "    <tr>\n",
       "      <th>14088</th>\n",
       "      <td>8</td>\n",
       "      <td>51000000.0</td>\n",
       "      <td>402.00</td>\n",
       "      <td>2017-02-07</td>\n",
       "      <td>6</td>\n",
       "      <td>3.15</td>\n",
       "      <td>8</td>\n",
       "      <td>300.0</td>\n",
       "      <td>6</td>\n",
       "      <td>NaN</td>\n",
       "      <td>...</td>\n",
       "      <td>253.0</td>\n",
       "      <td>0.0</td>\n",
       "      <td>NaN</td>\n",
       "      <td>32.0</td>\n",
       "      <td>126865.67</td>\n",
       "      <td>1</td>\n",
       "      <td>2</td>\n",
       "      <td>2017</td>\n",
       "      <td>другой</td>\n",
       "      <td>5.05</td>\n",
       "    </tr>\n",
       "    <tr>\n",
       "      <th>14706</th>\n",
       "      <td>15</td>\n",
       "      <td>401300000.0</td>\n",
       "      <td>401.00</td>\n",
       "      <td>2016-02-20</td>\n",
       "      <td>5</td>\n",
       "      <td>NaN</td>\n",
       "      <td>9</td>\n",
       "      <td>204.0</td>\n",
       "      <td>9</td>\n",
       "      <td>False</td>\n",
       "      <td>...</td>\n",
       "      <td>545.0</td>\n",
       "      <td>1.0</td>\n",
       "      <td>478.0</td>\n",
       "      <td>393.0</td>\n",
       "      <td>1000748.13</td>\n",
       "      <td>5</td>\n",
       "      <td>2</td>\n",
       "      <td>2016</td>\n",
       "      <td>последний</td>\n",
       "      <td>2.39</td>\n",
       "    </tr>\n",
       "    <tr>\n",
       "      <th>14991</th>\n",
       "      <td>19</td>\n",
       "      <td>45000000.0</td>\n",
       "      <td>413.50</td>\n",
       "      <td>2018-09-20</td>\n",
       "      <td>7</td>\n",
       "      <td>NaN</td>\n",
       "      <td>20</td>\n",
       "      <td>74.2</td>\n",
       "      <td>18</td>\n",
       "      <td>NaN</td>\n",
       "      <td>...</td>\n",
       "      <td>NaN</td>\n",
       "      <td>0.0</td>\n",
       "      <td>NaN</td>\n",
       "      <td>182.0</td>\n",
       "      <td>108827.09</td>\n",
       "      <td>3</td>\n",
       "      <td>9</td>\n",
       "      <td>2018</td>\n",
       "      <td>другой</td>\n",
       "      <td>4.34</td>\n",
       "    </tr>\n",
       "    <tr>\n",
       "      <th>15016</th>\n",
       "      <td>8</td>\n",
       "      <td>150000000.0</td>\n",
       "      <td>500.00</td>\n",
       "      <td>2016-01-13</td>\n",
       "      <td>4</td>\n",
       "      <td>3.20</td>\n",
       "      <td>7</td>\n",
       "      <td>NaN</td>\n",
       "      <td>7</td>\n",
       "      <td>NaN</td>\n",
       "      <td>...</td>\n",
       "      <td>209.0</td>\n",
       "      <td>3.0</td>\n",
       "      <td>531.0</td>\n",
       "      <td>303.0</td>\n",
       "      <td>300000.00</td>\n",
       "      <td>2</td>\n",
       "      <td>1</td>\n",
       "      <td>2016</td>\n",
       "      <td>последний</td>\n",
       "      <td>6.15</td>\n",
       "    </tr>\n",
       "    <tr>\n",
       "      <th>15651</th>\n",
       "      <td>20</td>\n",
       "      <td>300000000.0</td>\n",
       "      <td>618.00</td>\n",
       "      <td>2017-12-18</td>\n",
       "      <td>7</td>\n",
       "      <td>3.40</td>\n",
       "      <td>7</td>\n",
       "      <td>258.0</td>\n",
       "      <td>5</td>\n",
       "      <td>NaN</td>\n",
       "      <td>...</td>\n",
       "      <td>NaN</td>\n",
       "      <td>2.0</td>\n",
       "      <td>198.0</td>\n",
       "      <td>111.0</td>\n",
       "      <td>485436.89</td>\n",
       "      <td>0</td>\n",
       "      <td>12</td>\n",
       "      <td>2017</td>\n",
       "      <td>другой</td>\n",
       "      <td>5.30</td>\n",
       "    </tr>\n",
       "    <tr>\n",
       "      <th>19540</th>\n",
       "      <td>8</td>\n",
       "      <td>420000000.0</td>\n",
       "      <td>900.00</td>\n",
       "      <td>2017-12-06</td>\n",
       "      <td>12</td>\n",
       "      <td>2.80</td>\n",
       "      <td>25</td>\n",
       "      <td>409.7</td>\n",
       "      <td>25</td>\n",
       "      <td>NaN</td>\n",
       "      <td>...</td>\n",
       "      <td>NaN</td>\n",
       "      <td>2.0</td>\n",
       "      <td>318.0</td>\n",
       "      <td>106.0</td>\n",
       "      <td>466666.67</td>\n",
       "      <td>2</td>\n",
       "      <td>12</td>\n",
       "      <td>2017</td>\n",
       "      <td>последний</td>\n",
       "      <td>7.88</td>\n",
       "    </tr>\n",
       "    <tr>\n",
       "      <th>20273</th>\n",
       "      <td>12</td>\n",
       "      <td>20000000.0</td>\n",
       "      <td>460.80</td>\n",
       "      <td>2019-03-20</td>\n",
       "      <td>6</td>\n",
       "      <td>3.10</td>\n",
       "      <td>3</td>\n",
       "      <td>279.6</td>\n",
       "      <td>1</td>\n",
       "      <td>NaN</td>\n",
       "      <td>...</td>\n",
       "      <td>852.0</td>\n",
       "      <td>3.0</td>\n",
       "      <td>122.0</td>\n",
       "      <td>21.0</td>\n",
       "      <td>43402.78</td>\n",
       "      <td>2</td>\n",
       "      <td>3</td>\n",
       "      <td>2019</td>\n",
       "      <td>первый</td>\n",
       "      <td>15.46</td>\n",
       "    </tr>\n",
       "    <tr>\n",
       "      <th>21955</th>\n",
       "      <td>19</td>\n",
       "      <td>130000000.0</td>\n",
       "      <td>431.00</td>\n",
       "      <td>2017-10-02</td>\n",
       "      <td>7</td>\n",
       "      <td>3.70</td>\n",
       "      <td>8</td>\n",
       "      <td>220.0</td>\n",
       "      <td>5</td>\n",
       "      <td>NaN</td>\n",
       "      <td>...</td>\n",
       "      <td>NaN</td>\n",
       "      <td>NaN</td>\n",
       "      <td>NaN</td>\n",
       "      <td>161.0</td>\n",
       "      <td>301624.13</td>\n",
       "      <td>0</td>\n",
       "      <td>10</td>\n",
       "      <td>2017</td>\n",
       "      <td>другой</td>\n",
       "      <td>NaN</td>\n",
       "    </tr>\n",
       "    <tr>\n",
       "      <th>22131</th>\n",
       "      <td>14</td>\n",
       "      <td>27000000.0</td>\n",
       "      <td>422.20</td>\n",
       "      <td>2018-10-18</td>\n",
       "      <td>5</td>\n",
       "      <td>2.70</td>\n",
       "      <td>13</td>\n",
       "      <td>NaN</td>\n",
       "      <td>11</td>\n",
       "      <td>NaN</td>\n",
       "      <td>...</td>\n",
       "      <td>NaN</td>\n",
       "      <td>0.0</td>\n",
       "      <td>NaN</td>\n",
       "      <td>0.0</td>\n",
       "      <td>63950.73</td>\n",
       "      <td>3</td>\n",
       "      <td>10</td>\n",
       "      <td>2018</td>\n",
       "      <td>другой</td>\n",
       "      <td>16.55</td>\n",
       "    </tr>\n",
       "    <tr>\n",
       "      <th>22494</th>\n",
       "      <td>7</td>\n",
       "      <td>91075000.0</td>\n",
       "      <td>491.00</td>\n",
       "      <td>2017-05-27</td>\n",
       "      <td>5</td>\n",
       "      <td>4.20</td>\n",
       "      <td>9</td>\n",
       "      <td>274.0</td>\n",
       "      <td>9</td>\n",
       "      <td>NaN</td>\n",
       "      <td>...</td>\n",
       "      <td>116.0</td>\n",
       "      <td>0.0</td>\n",
       "      <td>NaN</td>\n",
       "      <td>115.0</td>\n",
       "      <td>185488.80</td>\n",
       "      <td>5</td>\n",
       "      <td>5</td>\n",
       "      <td>2017</td>\n",
       "      <td>последний</td>\n",
       "      <td>5.84</td>\n",
       "    </tr>\n",
       "  </tbody>\n",
       "</table>\n",
       "<p>23 rows × 28 columns</p>\n",
       "</div>"
      ],
      "text/plain": [
       "       total_images   last_price  total_area first_day_exposition  rooms  \\\n",
       "660               3   49950000.0      483.90           2017-10-04      7   \n",
       "3117             19  140000000.0      631.00           2019-03-30      7   \n",
       "3676             12   28789000.0      441.98           2019-01-23      4   \n",
       "4237              1   50000000.0      517.00           2017-10-14      7   \n",
       "5358             20   65000000.0      590.00           2019-02-14     15   \n",
       "5893              3  230000000.0      500.00           2017-05-31      6   \n",
       "6221              8   34000000.0      470.30           2018-01-14      4   \n",
       "6621             20   99000000.0      488.00           2017-04-09      5   \n",
       "8018             20   84000000.0      507.00           2015-12-17      5   \n",
       "9826              1   43185328.0      494.10           2017-05-12      1   \n",
       "12401            20   91500000.0      495.00           2017-06-19      7   \n",
       "12859            20  140000000.0      631.20           2019-04-09      7   \n",
       "13749             7  240000000.0      410.00           2017-04-01      6   \n",
       "14088             8   51000000.0      402.00           2017-02-07      6   \n",
       "14706            15  401300000.0      401.00           2016-02-20      5   \n",
       "14991            19   45000000.0      413.50           2018-09-20      7   \n",
       "15016             8  150000000.0      500.00           2016-01-13      4   \n",
       "15651            20  300000000.0      618.00           2017-12-18      7   \n",
       "19540             8  420000000.0      900.00           2017-12-06     12   \n",
       "20273            12   20000000.0      460.80           2019-03-20      6   \n",
       "21955            19  130000000.0      431.00           2017-10-02      7   \n",
       "22131            14   27000000.0      422.20           2018-10-18      5   \n",
       "22494             7   91075000.0      491.00           2017-05-27      5   \n",
       "\n",
       "       ceiling_height  floors_total  living_area  floor is_apartment  ...  \\\n",
       "660              3.20             6        312.5      4          NaN  ...   \n",
       "3117              NaN             5          NaN      5          NaN  ...   \n",
       "3676              NaN             6          NaN      6          NaN  ...   \n",
       "4237              NaN             4        332.0      3          NaN  ...   \n",
       "5358             3.50             6        409.0      3          NaN  ...   \n",
       "5893              NaN             7          NaN      7          NaN  ...   \n",
       "6221              NaN             3        248.7      3          NaN  ...   \n",
       "6621             2.95            20        216.0     17          NaN  ...   \n",
       "8018             4.45             7        301.5      7         True  ...   \n",
       "9826             2.85            12          NaN      3          NaN  ...   \n",
       "12401            4.65             7        347.5      7          NaN  ...   \n",
       "12859            3.90             4        322.3      4          NaN  ...   \n",
       "13749            3.40             7        218.0      7          NaN  ...   \n",
       "14088            3.15             8        300.0      6          NaN  ...   \n",
       "14706             NaN             9        204.0      9        False  ...   \n",
       "14991             NaN            20         74.2     18          NaN  ...   \n",
       "15016            3.20             7          NaN      7          NaN  ...   \n",
       "15651            3.40             7        258.0      5          NaN  ...   \n",
       "19540            2.80            25        409.7     25          NaN  ...   \n",
       "20273            3.10             3        279.6      1          NaN  ...   \n",
       "21955            3.70             8        220.0      5          NaN  ...   \n",
       "22131            2.70            13          NaN     11          NaN  ...   \n",
       "22494            4.20             9        274.0      9          NaN  ...   \n",
       "\n",
       "       parks_nearest  ponds_around3000  ponds_nearest  days_exposition  \\\n",
       "660            461.0               3.0           22.0            391.0   \n",
       "3117             NaN               2.0          210.0              0.0   \n",
       "3676             NaN               0.0            NaN              0.0   \n",
       "4237           477.0               2.0          540.0              0.0   \n",
       "5358           767.0               0.0            NaN             14.0   \n",
       "5893             NaN               2.0          198.0             50.0   \n",
       "6221           852.0               3.0          122.0            179.0   \n",
       "6621           646.0               1.0          368.0            351.0   \n",
       "8018           110.0               0.0            NaN           1078.0   \n",
       "9826           592.0               0.0            NaN              5.0   \n",
       "12401          110.0               0.0            NaN             14.0   \n",
       "12859            NaN               2.0          210.0              0.0   \n",
       "13749            NaN               2.0          198.0            199.0   \n",
       "14088          253.0               0.0            NaN             32.0   \n",
       "14706          545.0               1.0          478.0            393.0   \n",
       "14991            NaN               0.0            NaN            182.0   \n",
       "15016          209.0               3.0          531.0            303.0   \n",
       "15651            NaN               2.0          198.0            111.0   \n",
       "19540            NaN               2.0          318.0            106.0   \n",
       "20273          852.0               3.0          122.0             21.0   \n",
       "21955            NaN               NaN            NaN            161.0   \n",
       "22131            NaN               0.0            NaN              0.0   \n",
       "22494          116.0               0.0            NaN            115.0   \n",
       "\n",
       "      price_meter  day_exposition_week  day_exposition_month  \\\n",
       "660     103223.81                    2                    10   \n",
       "3117    221870.05                    5                     3   \n",
       "3676     65136.43                    2                     1   \n",
       "4237     96711.80                    5                    10   \n",
       "5358    110169.49                    3                     2   \n",
       "5893    460000.00                    2                     5   \n",
       "6221     72294.28                    6                     1   \n",
       "6621    202868.85                    6                     4   \n",
       "8018    165680.47                    3                    12   \n",
       "9826     87402.00                    4                     5   \n",
       "12401   184848.48                    0                     6   \n",
       "12859   221799.75                    1                     4   \n",
       "13749   585365.85                    5                     4   \n",
       "14088   126865.67                    1                     2   \n",
       "14706  1000748.13                    5                     2   \n",
       "14991   108827.09                    3                     9   \n",
       "15016   300000.00                    2                     1   \n",
       "15651   485436.89                    0                    12   \n",
       "19540   466666.67                    2                    12   \n",
       "20273    43402.78                    2                     3   \n",
       "21955   301624.13                    0                    10   \n",
       "22131    63950.73                    3                    10   \n",
       "22494   185488.80                    5                     5   \n",
       "\n",
       "       day_exposition_year  type_floor  cityCenters_km  \n",
       "660                   2017      другой            0.94  \n",
       "3117                  2019   последний            4.97  \n",
       "3676                  2019   последний            5.18  \n",
       "4237                  2017      другой            1.85  \n",
       "5358                  2019      другой            4.67  \n",
       "5893                  2017   последний            5.30  \n",
       "6221                  2018   последний           15.46  \n",
       "6621                  2017      другой            4.60  \n",
       "8018                  2015   последний            5.74  \n",
       "9826                  2017      другой            6.83  \n",
       "12401                 2017   последний            5.74  \n",
       "12859                 2019   последний            4.97  \n",
       "13749                 2017   последний            5.30  \n",
       "14088                 2017      другой            5.05  \n",
       "14706                 2016   последний            2.39  \n",
       "14991                 2018      другой            4.34  \n",
       "15016                 2016   последний            6.15  \n",
       "15651                 2017      другой            5.30  \n",
       "19540                 2017   последний            7.88  \n",
       "20273                 2019      первый           15.46  \n",
       "21955                 2017      другой             NaN  \n",
       "22131                 2018      другой           16.55  \n",
       "22494                 2017   последний            5.84  \n",
       "\n",
       "[23 rows x 28 columns]"
      ]
     },
     "execution_count": 99,
     "metadata": {},
     "output_type": "execute_result"
    }
   ],
   "source": [
    "data[data['total_area']>400]"
   ]
  },
  {
   "cell_type": "markdown",
   "metadata": {},
   "source": [
    "Похоже на нормальные значени по соотнешению с комнатами."
   ]
  },
  {
   "cell_type": "code",
   "execution_count": 100,
   "metadata": {
    "scrolled": true
   },
   "outputs": [
    {
     "data": {
      "text/html": [
       "<div>\n",
       "<style scoped>\n",
       "    .dataframe tbody tr th:only-of-type {\n",
       "        vertical-align: middle;\n",
       "    }\n",
       "\n",
       "    .dataframe tbody tr th {\n",
       "        vertical-align: top;\n",
       "    }\n",
       "\n",
       "    .dataframe thead th {\n",
       "        text-align: right;\n",
       "    }\n",
       "</style>\n",
       "<table border=\"1\" class=\"dataframe\">\n",
       "  <thead>\n",
       "    <tr style=\"text-align: right;\">\n",
       "      <th></th>\n",
       "      <th>total_images</th>\n",
       "      <th>last_price</th>\n",
       "      <th>total_area</th>\n",
       "      <th>first_day_exposition</th>\n",
       "      <th>rooms</th>\n",
       "      <th>ceiling_height</th>\n",
       "      <th>floors_total</th>\n",
       "      <th>living_area</th>\n",
       "      <th>floor</th>\n",
       "      <th>is_apartment</th>\n",
       "      <th>...</th>\n",
       "      <th>parks_nearest</th>\n",
       "      <th>ponds_around3000</th>\n",
       "      <th>ponds_nearest</th>\n",
       "      <th>days_exposition</th>\n",
       "      <th>price_meter</th>\n",
       "      <th>day_exposition_week</th>\n",
       "      <th>day_exposition_month</th>\n",
       "      <th>day_exposition_year</th>\n",
       "      <th>type_floor</th>\n",
       "      <th>cityCenters_km</th>\n",
       "    </tr>\n",
       "  </thead>\n",
       "  <tbody>\n",
       "    <tr>\n",
       "      <th>94</th>\n",
       "      <td>3</td>\n",
       "      <td>3500000.0</td>\n",
       "      <td>29.5</td>\n",
       "      <td>2019-04-26</td>\n",
       "      <td>1</td>\n",
       "      <td>2.5</td>\n",
       "      <td>5</td>\n",
       "      <td>15.60</td>\n",
       "      <td>2</td>\n",
       "      <td>NaN</td>\n",
       "      <td>...</td>\n",
       "      <td>NaN</td>\n",
       "      <td>0.0</td>\n",
       "      <td>NaN</td>\n",
       "      <td>4.0</td>\n",
       "      <td>118644.07</td>\n",
       "      <td>4</td>\n",
       "      <td>4</td>\n",
       "      <td>2019</td>\n",
       "      <td>другой</td>\n",
       "      <td>7.30</td>\n",
       "    </tr>\n",
       "    <tr>\n",
       "      <th>114</th>\n",
       "      <td>5</td>\n",
       "      <td>4000000.0</td>\n",
       "      <td>21.4</td>\n",
       "      <td>2019-02-07</td>\n",
       "      <td>1</td>\n",
       "      <td>2.9</td>\n",
       "      <td>8</td>\n",
       "      <td>8.30</td>\n",
       "      <td>7</td>\n",
       "      <td>NaN</td>\n",
       "      <td>...</td>\n",
       "      <td>488.0</td>\n",
       "      <td>1.0</td>\n",
       "      <td>286.0</td>\n",
       "      <td>0.0</td>\n",
       "      <td>186915.89</td>\n",
       "      <td>3</td>\n",
       "      <td>2</td>\n",
       "      <td>2019</td>\n",
       "      <td>другой</td>\n",
       "      <td>5.79</td>\n",
       "    </tr>\n",
       "    <tr>\n",
       "      <th>144</th>\n",
       "      <td>1</td>\n",
       "      <td>2450000.0</td>\n",
       "      <td>27.0</td>\n",
       "      <td>2017-03-30</td>\n",
       "      <td>0</td>\n",
       "      <td>NaN</td>\n",
       "      <td>24</td>\n",
       "      <td>15.50</td>\n",
       "      <td>2</td>\n",
       "      <td>NaN</td>\n",
       "      <td>...</td>\n",
       "      <td>NaN</td>\n",
       "      <td>NaN</td>\n",
       "      <td>NaN</td>\n",
       "      <td>181.0</td>\n",
       "      <td>90740.74</td>\n",
       "      <td>3</td>\n",
       "      <td>3</td>\n",
       "      <td>2017</td>\n",
       "      <td>другой</td>\n",
       "      <td>NaN</td>\n",
       "    </tr>\n",
       "    <tr>\n",
       "      <th>237</th>\n",
       "      <td>4</td>\n",
       "      <td>2438033.0</td>\n",
       "      <td>28.1</td>\n",
       "      <td>2016-11-23</td>\n",
       "      <td>1</td>\n",
       "      <td>NaN</td>\n",
       "      <td>&lt;NA&gt;</td>\n",
       "      <td>20.75</td>\n",
       "      <td>1</td>\n",
       "      <td>NaN</td>\n",
       "      <td>...</td>\n",
       "      <td>NaN</td>\n",
       "      <td>1.0</td>\n",
       "      <td>374.0</td>\n",
       "      <td>251.0</td>\n",
       "      <td>86762.74</td>\n",
       "      <td>2</td>\n",
       "      <td>11</td>\n",
       "      <td>2016</td>\n",
       "      <td>первый</td>\n",
       "      <td>17.37</td>\n",
       "    </tr>\n",
       "    <tr>\n",
       "      <th>296</th>\n",
       "      <td>4</td>\n",
       "      <td>1690000.0</td>\n",
       "      <td>28.0</td>\n",
       "      <td>2017-08-09</td>\n",
       "      <td>1</td>\n",
       "      <td>NaN</td>\n",
       "      <td>5</td>\n",
       "      <td>17.00</td>\n",
       "      <td>1</td>\n",
       "      <td>NaN</td>\n",
       "      <td>...</td>\n",
       "      <td>NaN</td>\n",
       "      <td>NaN</td>\n",
       "      <td>NaN</td>\n",
       "      <td>14.0</td>\n",
       "      <td>60357.14</td>\n",
       "      <td>2</td>\n",
       "      <td>8</td>\n",
       "      <td>2017</td>\n",
       "      <td>первый</td>\n",
       "      <td>NaN</td>\n",
       "    </tr>\n",
       "    <tr>\n",
       "      <th>...</th>\n",
       "      <td>...</td>\n",
       "      <td>...</td>\n",
       "      <td>...</td>\n",
       "      <td>...</td>\n",
       "      <td>...</td>\n",
       "      <td>...</td>\n",
       "      <td>...</td>\n",
       "      <td>...</td>\n",
       "      <td>...</td>\n",
       "      <td>...</td>\n",
       "      <td>...</td>\n",
       "      <td>...</td>\n",
       "      <td>...</td>\n",
       "      <td>...</td>\n",
       "      <td>...</td>\n",
       "      <td>...</td>\n",
       "      <td>...</td>\n",
       "      <td>...</td>\n",
       "      <td>...</td>\n",
       "      <td>...</td>\n",
       "      <td>...</td>\n",
       "    </tr>\n",
       "    <tr>\n",
       "      <th>23579</th>\n",
       "      <td>7</td>\n",
       "      <td>2350000.0</td>\n",
       "      <td>24.8</td>\n",
       "      <td>2018-06-07</td>\n",
       "      <td>1</td>\n",
       "      <td>NaN</td>\n",
       "      <td>10</td>\n",
       "      <td>18.00</td>\n",
       "      <td>2</td>\n",
       "      <td>NaN</td>\n",
       "      <td>...</td>\n",
       "      <td>NaN</td>\n",
       "      <td>NaN</td>\n",
       "      <td>NaN</td>\n",
       "      <td>89.0</td>\n",
       "      <td>94758.06</td>\n",
       "      <td>3</td>\n",
       "      <td>6</td>\n",
       "      <td>2018</td>\n",
       "      <td>другой</td>\n",
       "      <td>NaN</td>\n",
       "    </tr>\n",
       "    <tr>\n",
       "      <th>23592</th>\n",
       "      <td>10</td>\n",
       "      <td>1450000.0</td>\n",
       "      <td>29.0</td>\n",
       "      <td>2017-11-11</td>\n",
       "      <td>0</td>\n",
       "      <td>NaN</td>\n",
       "      <td>9</td>\n",
       "      <td>18.00</td>\n",
       "      <td>8</td>\n",
       "      <td>NaN</td>\n",
       "      <td>...</td>\n",
       "      <td>NaN</td>\n",
       "      <td>NaN</td>\n",
       "      <td>NaN</td>\n",
       "      <td>82.0</td>\n",
       "      <td>50000.00</td>\n",
       "      <td>5</td>\n",
       "      <td>11</td>\n",
       "      <td>2017</td>\n",
       "      <td>другой</td>\n",
       "      <td>NaN</td>\n",
       "    </tr>\n",
       "    <tr>\n",
       "      <th>23610</th>\n",
       "      <td>16</td>\n",
       "      <td>2950000.0</td>\n",
       "      <td>29.0</td>\n",
       "      <td>2018-08-04</td>\n",
       "      <td>1</td>\n",
       "      <td>2.5</td>\n",
       "      <td>9</td>\n",
       "      <td>18.60</td>\n",
       "      <td>1</td>\n",
       "      <td>NaN</td>\n",
       "      <td>...</td>\n",
       "      <td>NaN</td>\n",
       "      <td>0.0</td>\n",
       "      <td>NaN</td>\n",
       "      <td>107.0</td>\n",
       "      <td>101724.14</td>\n",
       "      <td>5</td>\n",
       "      <td>8</td>\n",
       "      <td>2018</td>\n",
       "      <td>первый</td>\n",
       "      <td>12.94</td>\n",
       "    </tr>\n",
       "    <tr>\n",
       "      <th>23637</th>\n",
       "      <td>8</td>\n",
       "      <td>2350000.0</td>\n",
       "      <td>26.0</td>\n",
       "      <td>2018-06-26</td>\n",
       "      <td>0</td>\n",
       "      <td>NaN</td>\n",
       "      <td>25</td>\n",
       "      <td>17.00</td>\n",
       "      <td>4</td>\n",
       "      <td>NaN</td>\n",
       "      <td>...</td>\n",
       "      <td>NaN</td>\n",
       "      <td>NaN</td>\n",
       "      <td>NaN</td>\n",
       "      <td>207.0</td>\n",
       "      <td>90384.62</td>\n",
       "      <td>1</td>\n",
       "      <td>6</td>\n",
       "      <td>2018</td>\n",
       "      <td>другой</td>\n",
       "      <td>NaN</td>\n",
       "    </tr>\n",
       "    <tr>\n",
       "      <th>23673</th>\n",
       "      <td>9</td>\n",
       "      <td>3100000.0</td>\n",
       "      <td>23.0</td>\n",
       "      <td>2018-03-19</td>\n",
       "      <td>1</td>\n",
       "      <td>2.8</td>\n",
       "      <td>9</td>\n",
       "      <td>12.60</td>\n",
       "      <td>1</td>\n",
       "      <td>NaN</td>\n",
       "      <td>...</td>\n",
       "      <td>262.0</td>\n",
       "      <td>1.0</td>\n",
       "      <td>442.0</td>\n",
       "      <td>41.0</td>\n",
       "      <td>134782.61</td>\n",
       "      <td>0</td>\n",
       "      <td>3</td>\n",
       "      <td>2018</td>\n",
       "      <td>первый</td>\n",
       "      <td>11.88</td>\n",
       "    </tr>\n",
       "  </tbody>\n",
       "</table>\n",
       "<p>693 rows × 28 columns</p>\n",
       "</div>"
      ],
      "text/plain": [
       "       total_images  last_price  total_area first_day_exposition  rooms  \\\n",
       "94                3   3500000.0        29.5           2019-04-26      1   \n",
       "114               5   4000000.0        21.4           2019-02-07      1   \n",
       "144               1   2450000.0        27.0           2017-03-30      0   \n",
       "237               4   2438033.0        28.1           2016-11-23      1   \n",
       "296               4   1690000.0        28.0           2017-08-09      1   \n",
       "...             ...         ...         ...                  ...    ...   \n",
       "23579             7   2350000.0        24.8           2018-06-07      1   \n",
       "23592            10   1450000.0        29.0           2017-11-11      0   \n",
       "23610            16   2950000.0        29.0           2018-08-04      1   \n",
       "23637             8   2350000.0        26.0           2018-06-26      0   \n",
       "23673             9   3100000.0        23.0           2018-03-19      1   \n",
       "\n",
       "       ceiling_height  floors_total  living_area  floor is_apartment  ...  \\\n",
       "94                2.5             5        15.60      2          NaN  ...   \n",
       "114               2.9             8         8.30      7          NaN  ...   \n",
       "144               NaN            24        15.50      2          NaN  ...   \n",
       "237               NaN          <NA>        20.75      1          NaN  ...   \n",
       "296               NaN             5        17.00      1          NaN  ...   \n",
       "...               ...           ...          ...    ...          ...  ...   \n",
       "23579             NaN            10        18.00      2          NaN  ...   \n",
       "23592             NaN             9        18.00      8          NaN  ...   \n",
       "23610             2.5             9        18.60      1          NaN  ...   \n",
       "23637             NaN            25        17.00      4          NaN  ...   \n",
       "23673             2.8             9        12.60      1          NaN  ...   \n",
       "\n",
       "       parks_nearest  ponds_around3000  ponds_nearest  days_exposition  \\\n",
       "94               NaN               0.0            NaN              4.0   \n",
       "114            488.0               1.0          286.0              0.0   \n",
       "144              NaN               NaN            NaN            181.0   \n",
       "237              NaN               1.0          374.0            251.0   \n",
       "296              NaN               NaN            NaN             14.0   \n",
       "...              ...               ...            ...              ...   \n",
       "23579            NaN               NaN            NaN             89.0   \n",
       "23592            NaN               NaN            NaN             82.0   \n",
       "23610            NaN               0.0            NaN            107.0   \n",
       "23637            NaN               NaN            NaN            207.0   \n",
       "23673          262.0               1.0          442.0             41.0   \n",
       "\n",
       "      price_meter  day_exposition_week  day_exposition_month  \\\n",
       "94      118644.07                    4                     4   \n",
       "114     186915.89                    3                     2   \n",
       "144      90740.74                    3                     3   \n",
       "237      86762.74                    2                    11   \n",
       "296      60357.14                    2                     8   \n",
       "...           ...                  ...                   ...   \n",
       "23579    94758.06                    3                     6   \n",
       "23592    50000.00                    5                    11   \n",
       "23610   101724.14                    5                     8   \n",
       "23637    90384.62                    1                     6   \n",
       "23673   134782.61                    0                     3   \n",
       "\n",
       "       day_exposition_year  type_floor  cityCenters_km  \n",
       "94                    2019      другой            7.30  \n",
       "114                   2019      другой            5.79  \n",
       "144                   2017      другой             NaN  \n",
       "237                   2016      первый           17.37  \n",
       "296                   2017      первый             NaN  \n",
       "...                    ...         ...             ...  \n",
       "23579                 2018      другой             NaN  \n",
       "23592                 2017      другой             NaN  \n",
       "23610                 2018      первый           12.94  \n",
       "23637                 2018      другой             NaN  \n",
       "23673                 2018      первый           11.88  \n",
       "\n",
       "[693 rows x 28 columns]"
      ]
     },
     "execution_count": 100,
     "metadata": {},
     "output_type": "execute_result"
    }
   ],
   "source": [
    "data[data['total_area']<30]"
   ]
  },
  {
   "cell_type": "markdown",
   "metadata": {},
   "source": [
    "Обычно 30 квадратных метров одна комната, так, что квартиры 20 метров квадратных и больше, выглядит нормальным."
   ]
  },
  {
   "cell_type": "markdown",
   "metadata": {},
   "source": [
    "Проверим какиое количество квартир с площадью более 400  метров квадратных от общего числа квартир."
   ]
  },
  {
   "cell_type": "code",
   "execution_count": 101,
   "metadata": {
    "scrolled": true
   },
   "outputs": [
    {
     "data": {
      "text/plain": [
       "0.09705050846027258"
      ]
     },
     "execution_count": 101,
     "metadata": {},
     "output_type": "execute_result"
    }
   ],
   "source": [
    "len(data[data['total_area']>400])/len(data['total_area'])*100"
   ]
  },
  {
   "cell_type": "markdown",
   "metadata": {},
   "source": [
    "Меньше 1 %, значит можно удалить эти данные из распределения"
   ]
  },
  {
   "cell_type": "code",
   "execution_count": 102,
   "metadata": {},
   "outputs": [
    {
     "data": {
      "text/html": [
       "<div>\n",
       "<style scoped>\n",
       "    .dataframe tbody tr th:only-of-type {\n",
       "        vertical-align: middle;\n",
       "    }\n",
       "\n",
       "    .dataframe tbody tr th {\n",
       "        vertical-align: top;\n",
       "    }\n",
       "\n",
       "    .dataframe thead th {\n",
       "        text-align: right;\n",
       "    }\n",
       "</style>\n",
       "<table border=\"1\" class=\"dataframe\">\n",
       "  <thead>\n",
       "    <tr style=\"text-align: right;\">\n",
       "      <th></th>\n",
       "      <th>total_images</th>\n",
       "      <th>last_price</th>\n",
       "      <th>total_area</th>\n",
       "      <th>first_day_exposition</th>\n",
       "      <th>rooms</th>\n",
       "      <th>ceiling_height</th>\n",
       "      <th>floors_total</th>\n",
       "      <th>living_area</th>\n",
       "      <th>floor</th>\n",
       "      <th>is_apartment</th>\n",
       "      <th>...</th>\n",
       "      <th>parks_nearest</th>\n",
       "      <th>ponds_around3000</th>\n",
       "      <th>ponds_nearest</th>\n",
       "      <th>days_exposition</th>\n",
       "      <th>price_meter</th>\n",
       "      <th>day_exposition_week</th>\n",
       "      <th>day_exposition_month</th>\n",
       "      <th>day_exposition_year</th>\n",
       "      <th>type_floor</th>\n",
       "      <th>cityCenters_km</th>\n",
       "    </tr>\n",
       "  </thead>\n",
       "  <tbody>\n",
       "    <tr>\n",
       "      <th>0</th>\n",
       "      <td>20</td>\n",
       "      <td>13000000.0</td>\n",
       "      <td>108.00</td>\n",
       "      <td>2019-03-07</td>\n",
       "      <td>3</td>\n",
       "      <td>2.70</td>\n",
       "      <td>16</td>\n",
       "      <td>51.0</td>\n",
       "      <td>8</td>\n",
       "      <td>NaN</td>\n",
       "      <td>...</td>\n",
       "      <td>482.0</td>\n",
       "      <td>2.0</td>\n",
       "      <td>755.0</td>\n",
       "      <td>0.0</td>\n",
       "      <td>120370.37</td>\n",
       "      <td>3</td>\n",
       "      <td>3</td>\n",
       "      <td>2019</td>\n",
       "      <td>другой</td>\n",
       "      <td>16.03</td>\n",
       "    </tr>\n",
       "    <tr>\n",
       "      <th>1</th>\n",
       "      <td>7</td>\n",
       "      <td>3350000.0</td>\n",
       "      <td>40.40</td>\n",
       "      <td>2018-12-04</td>\n",
       "      <td>1</td>\n",
       "      <td>NaN</td>\n",
       "      <td>11</td>\n",
       "      <td>18.6</td>\n",
       "      <td>1</td>\n",
       "      <td>NaN</td>\n",
       "      <td>...</td>\n",
       "      <td>NaN</td>\n",
       "      <td>0.0</td>\n",
       "      <td>NaN</td>\n",
       "      <td>81.0</td>\n",
       "      <td>82920.79</td>\n",
       "      <td>1</td>\n",
       "      <td>12</td>\n",
       "      <td>2018</td>\n",
       "      <td>первый</td>\n",
       "      <td>18.60</td>\n",
       "    </tr>\n",
       "    <tr>\n",
       "      <th>2</th>\n",
       "      <td>10</td>\n",
       "      <td>5196000.0</td>\n",
       "      <td>56.00</td>\n",
       "      <td>2015-08-20</td>\n",
       "      <td>2</td>\n",
       "      <td>NaN</td>\n",
       "      <td>5</td>\n",
       "      <td>34.3</td>\n",
       "      <td>4</td>\n",
       "      <td>NaN</td>\n",
       "      <td>...</td>\n",
       "      <td>90.0</td>\n",
       "      <td>2.0</td>\n",
       "      <td>574.0</td>\n",
       "      <td>558.0</td>\n",
       "      <td>92785.71</td>\n",
       "      <td>3</td>\n",
       "      <td>8</td>\n",
       "      <td>2015</td>\n",
       "      <td>другой</td>\n",
       "      <td>13.93</td>\n",
       "    </tr>\n",
       "    <tr>\n",
       "      <th>3</th>\n",
       "      <td>0</td>\n",
       "      <td>64900000.0</td>\n",
       "      <td>159.00</td>\n",
       "      <td>2015-07-24</td>\n",
       "      <td>3</td>\n",
       "      <td>NaN</td>\n",
       "      <td>14</td>\n",
       "      <td>NaN</td>\n",
       "      <td>9</td>\n",
       "      <td>NaN</td>\n",
       "      <td>...</td>\n",
       "      <td>84.0</td>\n",
       "      <td>3.0</td>\n",
       "      <td>234.0</td>\n",
       "      <td>424.0</td>\n",
       "      <td>408176.10</td>\n",
       "      <td>4</td>\n",
       "      <td>7</td>\n",
       "      <td>2015</td>\n",
       "      <td>другой</td>\n",
       "      <td>6.80</td>\n",
       "    </tr>\n",
       "    <tr>\n",
       "      <th>4</th>\n",
       "      <td>2</td>\n",
       "      <td>10000000.0</td>\n",
       "      <td>100.00</td>\n",
       "      <td>2018-06-19</td>\n",
       "      <td>2</td>\n",
       "      <td>3.03</td>\n",
       "      <td>14</td>\n",
       "      <td>32.0</td>\n",
       "      <td>13</td>\n",
       "      <td>NaN</td>\n",
       "      <td>...</td>\n",
       "      <td>112.0</td>\n",
       "      <td>1.0</td>\n",
       "      <td>48.0</td>\n",
       "      <td>121.0</td>\n",
       "      <td>100000.00</td>\n",
       "      <td>1</td>\n",
       "      <td>6</td>\n",
       "      <td>2018</td>\n",
       "      <td>другой</td>\n",
       "      <td>8.10</td>\n",
       "    </tr>\n",
       "    <tr>\n",
       "      <th>...</th>\n",
       "      <td>...</td>\n",
       "      <td>...</td>\n",
       "      <td>...</td>\n",
       "      <td>...</td>\n",
       "      <td>...</td>\n",
       "      <td>...</td>\n",
       "      <td>...</td>\n",
       "      <td>...</td>\n",
       "      <td>...</td>\n",
       "      <td>...</td>\n",
       "      <td>...</td>\n",
       "      <td>...</td>\n",
       "      <td>...</td>\n",
       "      <td>...</td>\n",
       "      <td>...</td>\n",
       "      <td>...</td>\n",
       "      <td>...</td>\n",
       "      <td>...</td>\n",
       "      <td>...</td>\n",
       "      <td>...</td>\n",
       "      <td>...</td>\n",
       "    </tr>\n",
       "    <tr>\n",
       "      <th>23668</th>\n",
       "      <td>9</td>\n",
       "      <td>9700000.0</td>\n",
       "      <td>133.81</td>\n",
       "      <td>2017-03-21</td>\n",
       "      <td>3</td>\n",
       "      <td>3.70</td>\n",
       "      <td>5</td>\n",
       "      <td>73.3</td>\n",
       "      <td>3</td>\n",
       "      <td>NaN</td>\n",
       "      <td>...</td>\n",
       "      <td>796.0</td>\n",
       "      <td>3.0</td>\n",
       "      <td>381.0</td>\n",
       "      <td>0.0</td>\n",
       "      <td>72490.85</td>\n",
       "      <td>1</td>\n",
       "      <td>3</td>\n",
       "      <td>2017</td>\n",
       "      <td>другой</td>\n",
       "      <td>4.23</td>\n",
       "    </tr>\n",
       "    <tr>\n",
       "      <th>23669</th>\n",
       "      <td>14</td>\n",
       "      <td>3100000.0</td>\n",
       "      <td>59.00</td>\n",
       "      <td>2018-01-15</td>\n",
       "      <td>3</td>\n",
       "      <td>NaN</td>\n",
       "      <td>5</td>\n",
       "      <td>38.0</td>\n",
       "      <td>4</td>\n",
       "      <td>NaN</td>\n",
       "      <td>...</td>\n",
       "      <td>NaN</td>\n",
       "      <td>NaN</td>\n",
       "      <td>NaN</td>\n",
       "      <td>45.0</td>\n",
       "      <td>52542.37</td>\n",
       "      <td>0</td>\n",
       "      <td>1</td>\n",
       "      <td>2018</td>\n",
       "      <td>другой</td>\n",
       "      <td>NaN</td>\n",
       "    </tr>\n",
       "    <tr>\n",
       "      <th>23670</th>\n",
       "      <td>18</td>\n",
       "      <td>2500000.0</td>\n",
       "      <td>56.70</td>\n",
       "      <td>2018-02-11</td>\n",
       "      <td>2</td>\n",
       "      <td>NaN</td>\n",
       "      <td>3</td>\n",
       "      <td>29.7</td>\n",
       "      <td>1</td>\n",
       "      <td>NaN</td>\n",
       "      <td>...</td>\n",
       "      <td>NaN</td>\n",
       "      <td>NaN</td>\n",
       "      <td>NaN</td>\n",
       "      <td>0.0</td>\n",
       "      <td>44091.71</td>\n",
       "      <td>6</td>\n",
       "      <td>2</td>\n",
       "      <td>2018</td>\n",
       "      <td>первый</td>\n",
       "      <td>NaN</td>\n",
       "    </tr>\n",
       "    <tr>\n",
       "      <th>23671</th>\n",
       "      <td>13</td>\n",
       "      <td>11475000.0</td>\n",
       "      <td>76.75</td>\n",
       "      <td>2017-03-28</td>\n",
       "      <td>2</td>\n",
       "      <td>3.00</td>\n",
       "      <td>17</td>\n",
       "      <td>NaN</td>\n",
       "      <td>12</td>\n",
       "      <td>NaN</td>\n",
       "      <td>...</td>\n",
       "      <td>173.0</td>\n",
       "      <td>3.0</td>\n",
       "      <td>196.0</td>\n",
       "      <td>602.0</td>\n",
       "      <td>149511.40</td>\n",
       "      <td>1</td>\n",
       "      <td>3</td>\n",
       "      <td>2017</td>\n",
       "      <td>другой</td>\n",
       "      <td>10.36</td>\n",
       "    </tr>\n",
       "    <tr>\n",
       "      <th>23672</th>\n",
       "      <td>4</td>\n",
       "      <td>1350000.0</td>\n",
       "      <td>32.30</td>\n",
       "      <td>2017-07-21</td>\n",
       "      <td>1</td>\n",
       "      <td>2.50</td>\n",
       "      <td>5</td>\n",
       "      <td>12.3</td>\n",
       "      <td>1</td>\n",
       "      <td>NaN</td>\n",
       "      <td>...</td>\n",
       "      <td>NaN</td>\n",
       "      <td>NaN</td>\n",
       "      <td>NaN</td>\n",
       "      <td>0.0</td>\n",
       "      <td>41795.67</td>\n",
       "      <td>4</td>\n",
       "      <td>7</td>\n",
       "      <td>2017</td>\n",
       "      <td>первый</td>\n",
       "      <td>NaN</td>\n",
       "    </tr>\n",
       "  </tbody>\n",
       "</table>\n",
       "<p>23673 rows × 28 columns</p>\n",
       "</div>"
      ],
      "text/plain": [
       "       total_images  last_price  total_area first_day_exposition  rooms  \\\n",
       "0                20  13000000.0      108.00           2019-03-07      3   \n",
       "1                 7   3350000.0       40.40           2018-12-04      1   \n",
       "2                10   5196000.0       56.00           2015-08-20      2   \n",
       "3                 0  64900000.0      159.00           2015-07-24      3   \n",
       "4                 2  10000000.0      100.00           2018-06-19      2   \n",
       "...             ...         ...         ...                  ...    ...   \n",
       "23668             9   9700000.0      133.81           2017-03-21      3   \n",
       "23669            14   3100000.0       59.00           2018-01-15      3   \n",
       "23670            18   2500000.0       56.70           2018-02-11      2   \n",
       "23671            13  11475000.0       76.75           2017-03-28      2   \n",
       "23672             4   1350000.0       32.30           2017-07-21      1   \n",
       "\n",
       "       ceiling_height  floors_total  living_area  floor is_apartment  ...  \\\n",
       "0                2.70            16         51.0      8          NaN  ...   \n",
       "1                 NaN            11         18.6      1          NaN  ...   \n",
       "2                 NaN             5         34.3      4          NaN  ...   \n",
       "3                 NaN            14          NaN      9          NaN  ...   \n",
       "4                3.03            14         32.0     13          NaN  ...   \n",
       "...               ...           ...          ...    ...          ...  ...   \n",
       "23668            3.70             5         73.3      3          NaN  ...   \n",
       "23669             NaN             5         38.0      4          NaN  ...   \n",
       "23670             NaN             3         29.7      1          NaN  ...   \n",
       "23671            3.00            17          NaN     12          NaN  ...   \n",
       "23672            2.50             5         12.3      1          NaN  ...   \n",
       "\n",
       "       parks_nearest  ponds_around3000  ponds_nearest  days_exposition  \\\n",
       "0              482.0               2.0          755.0              0.0   \n",
       "1                NaN               0.0            NaN             81.0   \n",
       "2               90.0               2.0          574.0            558.0   \n",
       "3               84.0               3.0          234.0            424.0   \n",
       "4              112.0               1.0           48.0            121.0   \n",
       "...              ...               ...            ...              ...   \n",
       "23668          796.0               3.0          381.0              0.0   \n",
       "23669            NaN               NaN            NaN             45.0   \n",
       "23670            NaN               NaN            NaN              0.0   \n",
       "23671          173.0               3.0          196.0            602.0   \n",
       "23672            NaN               NaN            NaN              0.0   \n",
       "\n",
       "      price_meter  day_exposition_week  day_exposition_month  \\\n",
       "0       120370.37                    3                     3   \n",
       "1        82920.79                    1                    12   \n",
       "2        92785.71                    3                     8   \n",
       "3       408176.10                    4                     7   \n",
       "4       100000.00                    1                     6   \n",
       "...           ...                  ...                   ...   \n",
       "23668    72490.85                    1                     3   \n",
       "23669    52542.37                    0                     1   \n",
       "23670    44091.71                    6                     2   \n",
       "23671   149511.40                    1                     3   \n",
       "23672    41795.67                    4                     7   \n",
       "\n",
       "       day_exposition_year  type_floor  cityCenters_km  \n",
       "0                     2019      другой           16.03  \n",
       "1                     2018      первый           18.60  \n",
       "2                     2015      другой           13.93  \n",
       "3                     2015      другой            6.80  \n",
       "4                     2018      другой            8.10  \n",
       "...                    ...         ...             ...  \n",
       "23668                 2017      другой            4.23  \n",
       "23669                 2018      другой             NaN  \n",
       "23670                 2018      первый             NaN  \n",
       "23671                 2017      другой           10.36  \n",
       "23672                 2017      первый             NaN  \n",
       "\n",
       "[23673 rows x 28 columns]"
      ]
     },
     "execution_count": 102,
     "metadata": {},
     "output_type": "execute_result"
    }
   ],
   "source": [
    "data = data[data['total_area']<400].reset_index(drop=True)\n",
    "data"
   ]
  },
  {
   "cell_type": "markdown",
   "metadata": {},
   "source": [
    "**По графику можно сказать, больше всего квартир с общей площадью 35квадратных метров.**"
   ]
  },
  {
   "cell_type": "code",
   "execution_count": 103,
   "metadata": {},
   "outputs": [
    {
     "data": {
      "text/plain": [
       "'Жилая Площадь'"
      ]
     },
     "execution_count": 103,
     "metadata": {},
     "output_type": "execute_result"
    },
    {
     "data": {
      "image/png": "[encoded data removed]",
      "text/plain": [
       "<Figure size 432x288 with 1 Axes>"
      ]
     },
     "metadata": {
      "needs_background": "light"
     },
     "output_type": "display_data"
    }
   ],
   "source": [
    "data['living_area'].hist()\n",
    "'Жилая площадь'.title()"
   ]
  },
  {
   "cell_type": "markdown",
   "metadata": {},
   "source": [
    "Тоже распределение выглядит нормальным."
   ]
  },
  {
   "cell_type": "code",
   "execution_count": 104,
   "metadata": {},
   "outputs": [
    {
     "data": {
      "text/plain": [
       "'Жилая Площадь'"
      ]
     },
     "execution_count": 104,
     "metadata": {},
     "output_type": "execute_result"
    },
    {
     "data": {
      "image/png": "[encoded data removed]",
      "text/plain": [
       "<Figure size 432x288 with 1 Axes>"
      ]
     },
     "metadata": {
      "needs_background": "light"
     },
     "output_type": "display_data"
    }
   ],
   "source": [
    "data['living_area'].hist(bins=400)\n",
    "'Жилая площадь'.title()"
   ]
  },
  {
   "cell_type": "code",
   "execution_count": 105,
   "metadata": {},
   "outputs": [
    {
     "data": {
      "text/plain": [
       "'Жилая Площадь'"
      ]
     },
     "execution_count": 105,
     "metadata": {},
     "output_type": "execute_result"
    },
    {
     "data": {
      "image/png": "[encoded data removed]",
      "text/plain": [
       "<Figure size 432x288 with 1 Axes>"
      ]
     },
     "metadata": {
      "needs_background": "light"
     },
     "output_type": "display_data"
    }
   ],
   "source": [
    "data['living_area'].hist(bins=150, range=(0, 150))\n",
    "'Жилая площадь'.title()"
   ]
  },
  {
   "cell_type": "markdown",
   "metadata": {},
   "source": [
    "**По графику можно сказать, больше всего квартир с жилой площадью 18 квадратных метров.**"
   ]
  },
  {
   "cell_type": "code",
   "execution_count": 106,
   "metadata": {
    "scrolled": true
   },
   "outputs": [
    {
     "data": {
      "text/plain": [
       "'Площадь Кухни'"
      ]
     },
     "execution_count": 106,
     "metadata": {},
     "output_type": "execute_result"
    },
    {
     "data": {
      "image/png": "[encoded data removed]",
      "text/plain": [
       "<Figure size 432x288 with 1 Axes>"
      ]
     },
     "metadata": {
      "needs_background": "light"
     },
     "output_type": "display_data"
    }
   ],
   "source": [
    "data['kitchen_area'].hist()\n",
    "'Площадь кухни'.title()"
   ]
  },
  {
   "cell_type": "code",
   "execution_count": 107,
   "metadata": {},
   "outputs": [
    {
     "data": {
      "text/plain": [
       "'Площадь Кухни'"
      ]
     },
     "execution_count": 107,
     "metadata": {},
     "output_type": "execute_result"
    },
    {
     "data": {
      "image/png": "[encoded data removed]",
      "text/plain": [
       "<Figure size 432x288 with 1 Axes>"
      ]
     },
     "metadata": {
      "needs_background": "light"
     },
     "output_type": "display_data"
    }
   ],
   "source": [
    "data['kitchen_area'].hist(bins=60, range=(0, 60))\n",
    "'Площадь кухни'.title()"
   ]
  },
  {
   "cell_type": "markdown",
   "metadata": {},
   "source": [
    "<div class=\"alert alert-block alert-success\">\n",
    " \n",
    "### Комментарий ревьюера\n",
    "    \n",
    "#### Успех\n",
    "    \n",
    "Вот кухни у нас совсем небольшие в данных. "
   ]
  },
  {
   "cell_type": "markdown",
   "metadata": {},
   "source": [
    "**По графику можно сказать, что больше всего квартир с кухней площадью 9 квадратных метров.**"
   ]
  },
  {
   "cell_type": "code",
   "execution_count": 108,
   "metadata": {},
   "outputs": [
    {
     "data": {
      "text/plain": [
       "'Цена'"
      ]
     },
     "execution_count": 108,
     "metadata": {},
     "output_type": "execute_result"
    },
    {
     "data": {
      "image/png": "[encoded data removed]",
      "text/plain": [
       "<Figure size 432x288 with 1 Axes>"
      ]
     },
     "metadata": {
      "needs_background": "light"
     },
     "output_type": "display_data"
    }
   ],
   "source": [
    "data['last_price'].hist()\n",
    "'Цена'.title()"
   ]
  },
  {
   "cell_type": "code",
   "execution_count": 109,
   "metadata": {},
   "outputs": [
    {
     "data": {
      "text/plain": [
       "'Цена'"
      ]
     },
     "execution_count": 109,
     "metadata": {},
     "output_type": "execute_result"
    },
    {
     "data": {
      "image/png": "[encoded data removed]",
      "text/plain": [
       "<Figure size 432x288 with 1 Axes>"
      ]
     },
     "metadata": {
      "needs_background": "light"
     },
     "output_type": "display_data"
    }
   ],
   "source": [
    "data['last_price'].hist(bins=100, range=(0,20000000))\n",
    "'Цена'.title()"
   ]
  },
  {
   "cell_type": "markdown",
   "metadata": {},
   "source": [
    "**Самая распространненая цена 2,75миллинов рублей.**"
   ]
  },
  {
   "cell_type": "code",
   "execution_count": 110,
   "metadata": {},
   "outputs": [
    {
     "data": {
      "text/plain": [
       "'Количество Комнат'"
      ]
     },
     "execution_count": 110,
     "metadata": {},
     "output_type": "execute_result"
    },
    {
     "data": {
      "image/png": "[encoded data removed]",
      "text/plain": [
       "<Figure size 432x288 with 1 Axes>"
      ]
     },
     "metadata": {
      "needs_background": "light"
     },
     "output_type": "display_data"
    }
   ],
   "source": [
    "data['rooms'].hist()\n",
    "'Количество комнат'.title()"
   ]
  },
  {
   "cell_type": "code",
   "execution_count": 111,
   "metadata": {},
   "outputs": [
    {
     "data": {
      "text/plain": [
       "'Количество Комнат'"
      ]
     },
     "execution_count": 111,
     "metadata": {},
     "output_type": "execute_result"
    },
    {
     "data": {
      "image/png": "[encoded data removed]",
      "text/plain": [
       "<Figure size 432x288 with 1 Axes>"
      ]
     },
     "metadata": {
      "needs_background": "light"
     },
     "output_type": "display_data"
    }
   ],
   "source": [
    "data['rooms'].hist(bins=10, range=(0,10))\n",
    "'Количество комнат'.title()"
   ]
  },
  {
   "cell_type": "markdown",
   "metadata": {},
   "source": [
    "**Чаще всего встречаются двухкомнатные и трехкомнатные квартиры.**"
   ]
  },
  {
   "cell_type": "code",
   "execution_count": 112,
   "metadata": {},
   "outputs": [
    {
     "data": {
      "text/plain": [
       "'Высота Потолков'"
      ]
     },
     "execution_count": 112,
     "metadata": {},
     "output_type": "execute_result"
    },
    {
     "data": {
      "image/png": "[encoded data removed]",
      "text/plain": [
       "<Figure size 432x288 with 1 Axes>"
      ]
     },
     "metadata": {
      "needs_background": "light"
     },
     "output_type": "display_data"
    }
   ],
   "source": [
    "data['ceiling_height'].hist()\n",
    "'Высота потолков'.title()"
   ]
  },
  {
   "cell_type": "code",
   "execution_count": 113,
   "metadata": {},
   "outputs": [
    {
     "data": {
      "text/plain": [
       "array([  2.7 ,    nan,   3.03,   2.5 ,   2.67,   2.56,   3.05,   2.75,\n",
       "         2.6 ,   2.9 ,   2.8 ,   2.55,   3.  ,   2.65,   3.2 ,   2.61,\n",
       "         3.25,   3.45,   2.77,   2.85,   2.64,   2.57,   4.15,   3.5 ,\n",
       "         3.3 ,   2.71,   4.  ,   2.47,   2.73,   2.84,   3.1 ,   2.34,\n",
       "         3.4 ,   3.06,   2.72,   2.54,   2.51,   2.78,   2.76,  25.  ,\n",
       "         2.58,   3.7 ,   2.52,   5.2 ,   2.87,   2.66,   2.59,   2.  ,\n",
       "         2.45,   3.6 ,   2.92,   3.11,   3.13,   3.8 ,   3.15,   3.55,\n",
       "         3.16,   3.62,   3.12,   2.53,   2.74,   2.96,   2.46,   5.3 ,\n",
       "         5.  ,   2.79,   2.95,   4.06,   2.94,   3.82,   3.54,   3.53,\n",
       "         2.83,   4.7 ,   2.4 ,   3.38,   3.01,   5.6 ,   3.65,   3.9 ,\n",
       "         3.18,   3.35,   2.3 ,   3.57,   2.48,   2.62,   2.82,   3.98,\n",
       "         2.63,   3.83,   3.52,   3.95,   3.75,   2.88,   3.67,   3.87,\n",
       "         3.66,   3.85,   3.86,   4.19,   3.24,   4.8 ,   4.5 ,   4.2 ,\n",
       "         3.36,  32.  ,   3.08,   3.68,   3.07,   3.37,   3.09,   8.  ,\n",
       "         3.26,   3.34,   2.81,   3.44,   2.97,   3.14,   4.37,   2.68,\n",
       "         3.22,   3.27,  27.  ,   4.1 ,   2.93,   3.46,  24.  ,   3.47,\n",
       "         3.33,   3.63,   3.32,  26.  ,   1.2 ,   8.3 ,   2.98,   2.86,\n",
       "         3.17,   4.4 ,   3.28,   3.04,   4.45,   5.5 ,   3.84,   3.23,\n",
       "         3.02,   3.21,   3.43,   3.78,   4.3 ,   3.39,   2.69,   3.31,\n",
       "         3.56,   2.2 ,   3.51,   3.93,   3.42,   2.99,   3.49,  14.  ,\n",
       "         4.14,   2.91,   3.88,   1.75,   4.25,   3.29,  20.  ,   2.25,\n",
       "         3.76,   3.69,   6.  ,  22.6 ,   2.89,   3.58,   5.8 ,  27.5 ,\n",
       "         2.49,   4.9 ,   3.48,  10.3 ,   1.  , 100.  ,   3.59])"
      ]
     },
     "execution_count": 113,
     "metadata": {},
     "output_type": "execute_result"
    }
   ],
   "source": [
    "data['ceiling_height'].unique()\n"
   ]
  },
  {
   "cell_type": "markdown",
   "metadata": {},
   "source": [
    "Во всех значениях выше 20 метров и меншьше 40, сместим знак запятой на один знак влево, так как это скорей всего ошиблись и хотели написать, например 2,75 метров, а не 27,5. А высота потолков обычно от 2 до 4 метров."
   ]
  },
  {
   "cell_type": "code",
   "execution_count": 114,
   "metadata": {},
   "outputs": [],
   "source": [
    "def height_fix(row):\n",
    "    try:\n",
    "        if 20.0<=row['ceiling_height']<=40.0:\n",
    "            return row['ceiling_height']/10\n",
    "    except:\n",
    "        return row['ceiling_height']\n",
    "    return row['ceiling_height']       "
   ]
  },
  {
   "cell_type": "code",
   "execution_count": 115,
   "metadata": {},
   "outputs": [
    {
     "data": {
      "text/plain": [
       "array([  2.7 ,    nan,   3.03,   2.5 ,   2.67,   2.56,   3.05,   2.75,\n",
       "         2.6 ,   2.9 ,   2.8 ,   2.55,   3.  ,   2.65,   3.2 ,   2.61,\n",
       "         3.25,   3.45,   2.77,   2.85,   2.64,   2.57,   4.15,   3.5 ,\n",
       "         3.3 ,   2.71,   4.  ,   2.47,   2.73,   2.84,   3.1 ,   2.34,\n",
       "         3.4 ,   3.06,   2.72,   2.54,   2.51,   2.78,   2.76,   2.58,\n",
       "         3.7 ,   2.52,   5.2 ,   2.87,   2.66,   2.59,   2.  ,   2.45,\n",
       "         3.6 ,   2.92,   3.11,   3.13,   3.8 ,   3.15,   3.55,   3.16,\n",
       "         3.62,   3.12,   2.53,   2.74,   2.96,   2.46,   5.3 ,   5.  ,\n",
       "         2.79,   2.95,   4.06,   2.94,   3.82,   3.54,   3.53,   2.83,\n",
       "         4.7 ,   2.4 ,   3.38,   3.01,   5.6 ,   3.65,   3.9 ,   3.18,\n",
       "         3.35,   2.3 ,   3.57,   2.48,   2.62,   2.82,   3.98,   2.63,\n",
       "         3.83,   3.52,   3.95,   3.75,   2.88,   3.67,   3.87,   3.66,\n",
       "         3.85,   3.86,   4.19,   3.24,   4.8 ,   4.5 ,   4.2 ,   3.36,\n",
       "         3.08,   3.68,   3.07,   3.37,   3.09,   8.  ,   3.26,   3.34,\n",
       "         2.81,   3.44,   2.97,   3.14,   4.37,   2.68,   3.22,   3.27,\n",
       "         4.1 ,   2.93,   3.46,   3.47,   3.33,   3.63,   3.32,   1.2 ,\n",
       "         8.3 ,   2.98,   2.86,   3.17,   4.4 ,   3.28,   3.04,   4.45,\n",
       "         5.5 ,   3.84,   3.23,   3.02,   3.21,   3.43,   3.78,   4.3 ,\n",
       "         3.39,   2.69,   3.31,   3.56,   2.2 ,   3.51,   3.93,   3.42,\n",
       "         2.99,   3.49,  14.  ,   4.14,   2.91,   3.88,   1.75,   4.25,\n",
       "         3.29,   2.25,   3.76,   3.69,   6.  ,   2.26,   2.89,   3.58,\n",
       "         5.8 ,   2.49,   4.9 ,   3.48,  10.3 ,   1.  , 100.  ,   3.59])"
      ]
     },
     "execution_count": 115,
     "metadata": {},
     "output_type": "execute_result"
    }
   ],
   "source": [
    "data['ceiling_height'] = data.apply(height_fix, axis =1)\n",
    "data['ceiling_height'].unique()"
   ]
  },
  {
   "cell_type": "markdown",
   "metadata": {},
   "source": [
    "**Посчитаем долю выбивающихся значений от общего числа значений. Доля потолков до 2 и от 8 метров(До 8 метров, так как обычно стены от 2 до 4 метров, но бывают комнаты двухэтажные).Если меньше будет меньше 5%, то удалим эти значения.**"
   ]
  },
  {
   "cell_type": "code",
   "execution_count": 116,
   "metadata": {},
   "outputs": [
    {
     "data": {
      "text/plain": [
       "0.029569551810078993"
      ]
     },
     "execution_count": 116,
     "metadata": {},
     "output_type": "execute_result"
    }
   ],
   "source": [
    "(len(data[(data['ceiling_height']<2.0) | (data['ceiling_height']>8.0)])/len(data))*100"
   ]
  },
  {
   "cell_type": "code",
   "execution_count": 118,
   "metadata": {},
   "outputs": [
    {
     "data": {
      "text/html": [
       "<div>\n",
       "<style scoped>\n",
       "    .dataframe tbody tr th:only-of-type {\n",
       "        vertical-align: middle;\n",
       "    }\n",
       "\n",
       "    .dataframe tbody tr th {\n",
       "        vertical-align: top;\n",
       "    }\n",
       "\n",
       "    .dataframe thead th {\n",
       "        text-align: right;\n",
       "    }\n",
       "</style>\n",
       "<table border=\"1\" class=\"dataframe\">\n",
       "  <thead>\n",
       "    <tr style=\"text-align: right;\">\n",
       "      <th></th>\n",
       "      <th>total_images</th>\n",
       "      <th>last_price</th>\n",
       "      <th>total_area</th>\n",
       "      <th>first_day_exposition</th>\n",
       "      <th>rooms</th>\n",
       "      <th>ceiling_height</th>\n",
       "      <th>floors_total</th>\n",
       "      <th>living_area</th>\n",
       "      <th>floor</th>\n",
       "      <th>is_apartment</th>\n",
       "      <th>...</th>\n",
       "      <th>parks_nearest</th>\n",
       "      <th>ponds_around3000</th>\n",
       "      <th>ponds_nearest</th>\n",
       "      <th>days_exposition</th>\n",
       "      <th>price_meter</th>\n",
       "      <th>day_exposition_week</th>\n",
       "      <th>day_exposition_month</th>\n",
       "      <th>day_exposition_year</th>\n",
       "      <th>type_floor</th>\n",
       "      <th>cityCenters_km</th>\n",
       "    </tr>\n",
       "  </thead>\n",
       "  <tbody>\n",
       "    <tr>\n",
       "      <th>0</th>\n",
       "      <td>20</td>\n",
       "      <td>13000000.0</td>\n",
       "      <td>108.00</td>\n",
       "      <td>2019-03-07</td>\n",
       "      <td>3</td>\n",
       "      <td>2.70</td>\n",
       "      <td>16</td>\n",
       "      <td>51.0</td>\n",
       "      <td>8</td>\n",
       "      <td>NaN</td>\n",
       "      <td>...</td>\n",
       "      <td>482.0</td>\n",
       "      <td>2.0</td>\n",
       "      <td>755.0</td>\n",
       "      <td>0.0</td>\n",
       "      <td>120370.37</td>\n",
       "      <td>3</td>\n",
       "      <td>3</td>\n",
       "      <td>2019</td>\n",
       "      <td>другой</td>\n",
       "      <td>16.03</td>\n",
       "    </tr>\n",
       "    <tr>\n",
       "      <th>1</th>\n",
       "      <td>7</td>\n",
       "      <td>3350000.0</td>\n",
       "      <td>40.40</td>\n",
       "      <td>2018-12-04</td>\n",
       "      <td>1</td>\n",
       "      <td>NaN</td>\n",
       "      <td>11</td>\n",
       "      <td>18.6</td>\n",
       "      <td>1</td>\n",
       "      <td>NaN</td>\n",
       "      <td>...</td>\n",
       "      <td>NaN</td>\n",
       "      <td>0.0</td>\n",
       "      <td>NaN</td>\n",
       "      <td>81.0</td>\n",
       "      <td>82920.79</td>\n",
       "      <td>1</td>\n",
       "      <td>12</td>\n",
       "      <td>2018</td>\n",
       "      <td>первый</td>\n",
       "      <td>18.60</td>\n",
       "    </tr>\n",
       "    <tr>\n",
       "      <th>2</th>\n",
       "      <td>10</td>\n",
       "      <td>5196000.0</td>\n",
       "      <td>56.00</td>\n",
       "      <td>2015-08-20</td>\n",
       "      <td>2</td>\n",
       "      <td>NaN</td>\n",
       "      <td>5</td>\n",
       "      <td>34.3</td>\n",
       "      <td>4</td>\n",
       "      <td>NaN</td>\n",
       "      <td>...</td>\n",
       "      <td>90.0</td>\n",
       "      <td>2.0</td>\n",
       "      <td>574.0</td>\n",
       "      <td>558.0</td>\n",
       "      <td>92785.71</td>\n",
       "      <td>3</td>\n",
       "      <td>8</td>\n",
       "      <td>2015</td>\n",
       "      <td>другой</td>\n",
       "      <td>13.93</td>\n",
       "    </tr>\n",
       "    <tr>\n",
       "      <th>3</th>\n",
       "      <td>0</td>\n",
       "      <td>64900000.0</td>\n",
       "      <td>159.00</td>\n",
       "      <td>2015-07-24</td>\n",
       "      <td>3</td>\n",
       "      <td>NaN</td>\n",
       "      <td>14</td>\n",
       "      <td>NaN</td>\n",
       "      <td>9</td>\n",
       "      <td>NaN</td>\n",
       "      <td>...</td>\n",
       "      <td>84.0</td>\n",
       "      <td>3.0</td>\n",
       "      <td>234.0</td>\n",
       "      <td>424.0</td>\n",
       "      <td>408176.10</td>\n",
       "      <td>4</td>\n",
       "      <td>7</td>\n",
       "      <td>2015</td>\n",
       "      <td>другой</td>\n",
       "      <td>6.80</td>\n",
       "    </tr>\n",
       "    <tr>\n",
       "      <th>4</th>\n",
       "      <td>2</td>\n",
       "      <td>10000000.0</td>\n",
       "      <td>100.00</td>\n",
       "      <td>2018-06-19</td>\n",
       "      <td>2</td>\n",
       "      <td>3.03</td>\n",
       "      <td>14</td>\n",
       "      <td>32.0</td>\n",
       "      <td>13</td>\n",
       "      <td>NaN</td>\n",
       "      <td>...</td>\n",
       "      <td>112.0</td>\n",
       "      <td>1.0</td>\n",
       "      <td>48.0</td>\n",
       "      <td>121.0</td>\n",
       "      <td>100000.00</td>\n",
       "      <td>1</td>\n",
       "      <td>6</td>\n",
       "      <td>2018</td>\n",
       "      <td>другой</td>\n",
       "      <td>8.10</td>\n",
       "    </tr>\n",
       "    <tr>\n",
       "      <th>...</th>\n",
       "      <td>...</td>\n",
       "      <td>...</td>\n",
       "      <td>...</td>\n",
       "      <td>...</td>\n",
       "      <td>...</td>\n",
       "      <td>...</td>\n",
       "      <td>...</td>\n",
       "      <td>...</td>\n",
       "      <td>...</td>\n",
       "      <td>...</td>\n",
       "      <td>...</td>\n",
       "      <td>...</td>\n",
       "      <td>...</td>\n",
       "      <td>...</td>\n",
       "      <td>...</td>\n",
       "      <td>...</td>\n",
       "      <td>...</td>\n",
       "      <td>...</td>\n",
       "      <td>...</td>\n",
       "      <td>...</td>\n",
       "      <td>...</td>\n",
       "    </tr>\n",
       "    <tr>\n",
       "      <th>23646</th>\n",
       "      <td>9</td>\n",
       "      <td>9700000.0</td>\n",
       "      <td>133.81</td>\n",
       "      <td>2017-03-21</td>\n",
       "      <td>3</td>\n",
       "      <td>3.70</td>\n",
       "      <td>5</td>\n",
       "      <td>73.3</td>\n",
       "      <td>3</td>\n",
       "      <td>NaN</td>\n",
       "      <td>...</td>\n",
       "      <td>796.0</td>\n",
       "      <td>3.0</td>\n",
       "      <td>381.0</td>\n",
       "      <td>0.0</td>\n",
       "      <td>72490.85</td>\n",
       "      <td>1</td>\n",
       "      <td>3</td>\n",
       "      <td>2017</td>\n",
       "      <td>другой</td>\n",
       "      <td>4.23</td>\n",
       "    </tr>\n",
       "    <tr>\n",
       "      <th>23647</th>\n",
       "      <td>14</td>\n",
       "      <td>3100000.0</td>\n",
       "      <td>59.00</td>\n",
       "      <td>2018-01-15</td>\n",
       "      <td>3</td>\n",
       "      <td>NaN</td>\n",
       "      <td>5</td>\n",
       "      <td>38.0</td>\n",
       "      <td>4</td>\n",
       "      <td>NaN</td>\n",
       "      <td>...</td>\n",
       "      <td>NaN</td>\n",
       "      <td>NaN</td>\n",
       "      <td>NaN</td>\n",
       "      <td>45.0</td>\n",
       "      <td>52542.37</td>\n",
       "      <td>0</td>\n",
       "      <td>1</td>\n",
       "      <td>2018</td>\n",
       "      <td>другой</td>\n",
       "      <td>NaN</td>\n",
       "    </tr>\n",
       "    <tr>\n",
       "      <th>23648</th>\n",
       "      <td>18</td>\n",
       "      <td>2500000.0</td>\n",
       "      <td>56.70</td>\n",
       "      <td>2018-02-11</td>\n",
       "      <td>2</td>\n",
       "      <td>NaN</td>\n",
       "      <td>3</td>\n",
       "      <td>29.7</td>\n",
       "      <td>1</td>\n",
       "      <td>NaN</td>\n",
       "      <td>...</td>\n",
       "      <td>NaN</td>\n",
       "      <td>NaN</td>\n",
       "      <td>NaN</td>\n",
       "      <td>0.0</td>\n",
       "      <td>44091.71</td>\n",
       "      <td>6</td>\n",
       "      <td>2</td>\n",
       "      <td>2018</td>\n",
       "      <td>первый</td>\n",
       "      <td>NaN</td>\n",
       "    </tr>\n",
       "    <tr>\n",
       "      <th>23649</th>\n",
       "      <td>13</td>\n",
       "      <td>11475000.0</td>\n",
       "      <td>76.75</td>\n",
       "      <td>2017-03-28</td>\n",
       "      <td>2</td>\n",
       "      <td>3.00</td>\n",
       "      <td>17</td>\n",
       "      <td>NaN</td>\n",
       "      <td>12</td>\n",
       "      <td>NaN</td>\n",
       "      <td>...</td>\n",
       "      <td>173.0</td>\n",
       "      <td>3.0</td>\n",
       "      <td>196.0</td>\n",
       "      <td>602.0</td>\n",
       "      <td>149511.40</td>\n",
       "      <td>1</td>\n",
       "      <td>3</td>\n",
       "      <td>2017</td>\n",
       "      <td>другой</td>\n",
       "      <td>10.36</td>\n",
       "    </tr>\n",
       "    <tr>\n",
       "      <th>23650</th>\n",
       "      <td>4</td>\n",
       "      <td>1350000.0</td>\n",
       "      <td>32.30</td>\n",
       "      <td>2017-07-21</td>\n",
       "      <td>1</td>\n",
       "      <td>2.50</td>\n",
       "      <td>5</td>\n",
       "      <td>12.3</td>\n",
       "      <td>1</td>\n",
       "      <td>NaN</td>\n",
       "      <td>...</td>\n",
       "      <td>NaN</td>\n",
       "      <td>NaN</td>\n",
       "      <td>NaN</td>\n",
       "      <td>0.0</td>\n",
       "      <td>41795.67</td>\n",
       "      <td>4</td>\n",
       "      <td>7</td>\n",
       "      <td>2017</td>\n",
       "      <td>первый</td>\n",
       "      <td>NaN</td>\n",
       "    </tr>\n",
       "  </tbody>\n",
       "</table>\n",
       "<p>23651 rows × 28 columns</p>\n",
       "</div>"
      ],
      "text/plain": [
       "       total_images  last_price  total_area first_day_exposition  rooms  \\\n",
       "0                20  13000000.0      108.00           2019-03-07      3   \n",
       "1                 7   3350000.0       40.40           2018-12-04      1   \n",
       "2                10   5196000.0       56.00           2015-08-20      2   \n",
       "3                 0  64900000.0      159.00           2015-07-24      3   \n",
       "4                 2  10000000.0      100.00           2018-06-19      2   \n",
       "...             ...         ...         ...                  ...    ...   \n",
       "23646             9   9700000.0      133.81           2017-03-21      3   \n",
       "23647            14   3100000.0       59.00           2018-01-15      3   \n",
       "23648            18   2500000.0       56.70           2018-02-11      2   \n",
       "23649            13  11475000.0       76.75           2017-03-28      2   \n",
       "23650             4   1350000.0       32.30           2017-07-21      1   \n",
       "\n",
       "       ceiling_height  floors_total  living_area  floor is_apartment  ...  \\\n",
       "0                2.70            16         51.0      8          NaN  ...   \n",
       "1                 NaN            11         18.6      1          NaN  ...   \n",
       "2                 NaN             5         34.3      4          NaN  ...   \n",
       "3                 NaN            14          NaN      9          NaN  ...   \n",
       "4                3.03            14         32.0     13          NaN  ...   \n",
       "...               ...           ...          ...    ...          ...  ...   \n",
       "23646            3.70             5         73.3      3          NaN  ...   \n",
       "23647             NaN             5         38.0      4          NaN  ...   \n",
       "23648             NaN             3         29.7      1          NaN  ...   \n",
       "23649            3.00            17          NaN     12          NaN  ...   \n",
       "23650            2.50             5         12.3      1          NaN  ...   \n",
       "\n",
       "       parks_nearest  ponds_around3000  ponds_nearest  days_exposition  \\\n",
       "0              482.0               2.0          755.0              0.0   \n",
       "1                NaN               0.0            NaN             81.0   \n",
       "2               90.0               2.0          574.0            558.0   \n",
       "3               84.0               3.0          234.0            424.0   \n",
       "4              112.0               1.0           48.0            121.0   \n",
       "...              ...               ...            ...              ...   \n",
       "23646          796.0               3.0          381.0              0.0   \n",
       "23647            NaN               NaN            NaN             45.0   \n",
       "23648            NaN               NaN            NaN              0.0   \n",
       "23649          173.0               3.0          196.0            602.0   \n",
       "23650            NaN               NaN            NaN              0.0   \n",
       "\n",
       "      price_meter  day_exposition_week  day_exposition_month  \\\n",
       "0       120370.37                    3                     3   \n",
       "1        82920.79                    1                    12   \n",
       "2        92785.71                    3                     8   \n",
       "3       408176.10                    4                     7   \n",
       "4       100000.00                    1                     6   \n",
       "...           ...                  ...                   ...   \n",
       "23646    72490.85                    1                     3   \n",
       "23647    52542.37                    0                     1   \n",
       "23648    44091.71                    6                     2   \n",
       "23649   149511.40                    1                     3   \n",
       "23650    41795.67                    4                     7   \n",
       "\n",
       "       day_exposition_year  type_floor  cityCenters_km  \n",
       "0                     2019      другой           16.03  \n",
       "1                     2018      первый           18.60  \n",
       "2                     2015      другой           13.93  \n",
       "3                     2015      другой            6.80  \n",
       "4                     2018      другой            8.10  \n",
       "...                    ...         ...             ...  \n",
       "23646                 2017      другой            4.23  \n",
       "23647                 2018      другой             NaN  \n",
       "23648                 2018      первый             NaN  \n",
       "23649                 2017      другой           10.36  \n",
       "23650                 2017      первый             NaN  \n",
       "\n",
       "[23651 rows x 28 columns]"
      ]
     },
     "execution_count": 118,
     "metadata": {},
     "output_type": "execute_result"
    }
   ],
   "source": [
    "data = data[(data['ceiling_height']>2.0) & (data['ceiling_height']<8.0) | (data['ceiling_height'].isna())].reset_index(drop=True)\n",
    "data"
   ]
  },
  {
   "cell_type": "markdown",
   "metadata": {},
   "source": [
    "**Теперь посмотрим график гистограммы без выбивающихся значений ,от 2 до 8 метров.**"
   ]
  },
  {
   "cell_type": "code",
   "execution_count": 119,
   "metadata": {},
   "outputs": [
    {
     "data": {
      "text/plain": [
       "'Высота Потолков'"
      ]
     },
     "execution_count": 119,
     "metadata": {},
     "output_type": "execute_result"
    },
    {
     "data": {
      "image/png": "[encoded data removed]",
      "text/plain": [
       "<Figure size 432x288 with 1 Axes>"
      ]
     },
     "metadata": {
      "needs_background": "light"
     },
     "output_type": "display_data"
    }
   ],
   "source": [
    "data['ceiling_height'].hist(bins=20)\n",
    "'Высота потолков'.title()"
   ]
  },
  {
   "cell_type": "markdown",
   "metadata": {},
   "source": [
    "**Чаще всего потолки встречаются с высотой 2,75 метров.**"
   ]
  },
  {
   "cell_type": "code",
   "execution_count": 120,
   "metadata": {},
   "outputs": [
    {
     "data": {
      "text/plain": [
       "'Тип Квартиры'"
      ]
     },
     "execution_count": 120,
     "metadata": {},
     "output_type": "execute_result"
    },
    {
     "data": {
      "image/png": "[encoded data removed]",
      "text/plain": [
       "<Figure size 432x288 with 1 Axes>"
      ]
     },
     "metadata": {
      "needs_background": "light"
     },
     "output_type": "display_data"
    }
   ],
   "source": [
    "data['type_floor'].hist()\n",
    "'Тип квартиры'.title()"
   ]
  },
  {
   "cell_type": "markdown",
   "metadata": {},
   "source": [
    "**Чаще всего этаж встречается с типом \"другой\", реже всего с типом \"первый\".**"
   ]
  },
  {
   "cell_type": "code",
   "execution_count": 121,
   "metadata": {
    "scrolled": true
   },
   "outputs": [
    {
     "data": {
      "text/plain": [
       "'Всего Этажей'"
      ]
     },
     "execution_count": 121,
     "metadata": {},
     "output_type": "execute_result"
    },
    {
     "data": {
      "image/png": "[encoded data removed]",
      "text/plain": [
       "<Figure size 432x288 with 1 Axes>"
      ]
     },
     "metadata": {
      "needs_background": "light"
     },
     "output_type": "display_data"
    }
   ],
   "source": [
    "data['floors_total'].hist()\n",
    "'Всего этажей'.title()"
   ]
  },
  {
   "cell_type": "markdown",
   "metadata": {},
   "source": [
    "Попробуем сделать график точнее, чтобы было не 10, а 100 значений, и ограничим до 30 этажей, так как дальше идут уже редкие случаи, а мы хотим посмотреть самые частые."
   ]
  },
  {
   "cell_type": "code",
   "execution_count": 122,
   "metadata": {
    "scrolled": true
   },
   "outputs": [
    {
     "data": {
      "text/plain": [
       "'Всего Этажей'"
      ]
     },
     "execution_count": 122,
     "metadata": {},
     "output_type": "execute_result"
    },
    {
     "data": {
      "image/png": "[encoded data removed]",
      "text/plain": [
       "<Figure size 432x288 with 1 Axes>"
      ]
     },
     "metadata": {
      "needs_background": "light"
     },
     "output_type": "display_data"
    }
   ],
   "source": [
    "data['floors_total'].hist(bins=100, range=(0,30))\n",
    "'Всего этажей'.title()"
   ]
  },
  {
   "cell_type": "markdown",
   "metadata": {},
   "source": [
    "<div class=\"alert alert-block alert-success\">\n",
    " \n",
    "### Комментарий ревьюера\n",
    "    \n",
    "#### Успех\n",
    "    \n",
    "У нас в данных много домов типовой застройки"
   ]
  },
  {
   "cell_type": "markdown",
   "metadata": {},
   "source": [
    "Чаще всего встречаются пятиэтажки."
   ]
  },
  {
   "cell_type": "code",
   "execution_count": 123,
   "metadata": {},
   "outputs": [
    {
     "data": {
      "text/plain": [
       "'Удаленность От Центра'"
      ]
     },
     "execution_count": 123,
     "metadata": {},
     "output_type": "execute_result"
    },
    {
     "data": {
      "image/png": "[encoded data removed]",
      "text/plain": [
       "<Figure size 432x288 with 1 Axes>"
      ]
     },
     "metadata": {
      "needs_background": "light"
     },
     "output_type": "display_data"
    }
   ],
   "source": [
    "data['cityCenters_nearest'].hist()\n",
    "'Удаленность от центра'.title()"
   ]
  },
  {
   "cell_type": "markdown",
   "metadata": {},
   "source": [
    "Сократим разброс, выкинув выбросы, так как хотим выяснить какие самые частые значения.Сделаем с 0 до 40 000. Увеличим количство корзин до 100."
   ]
  },
  {
   "cell_type": "code",
   "execution_count": 124,
   "metadata": {},
   "outputs": [
    {
     "data": {
      "text/plain": [
       "'Удаленность От Центра'"
      ]
     },
     "execution_count": 124,
     "metadata": {},
     "output_type": "execute_result"
    },
    {
     "data": {
      "image/png": "[encoded data removed]",
      "text/plain": [
       "<Figure size 432x288 with 1 Axes>"
      ]
     },
     "metadata": {
      "needs_background": "light"
     },
     "output_type": "display_data"
    }
   ],
   "source": [
    "data['cityCenters_nearest'].hist(bins=100, range=(0, 40000))\n",
    "'Удаленность от центра'.title()"
   ]
  },
  {
   "cell_type": "markdown",
   "metadata": {},
   "source": [
    "Самое частое расстояние до центра 15 км."
   ]
  },
  {
   "cell_type": "code",
   "execution_count": 125,
   "metadata": {
    "scrolled": true
   },
   "outputs": [
    {
     "data": {
      "text/plain": [
       "'Удаленность От Парка'"
      ]
     },
     "execution_count": 125,
     "metadata": {},
     "output_type": "execute_result"
    },
    {
     "data": {
      "image/png": "[encoded data removed]",
      "text/plain": [
       "<Figure size 432x288 with 1 Axes>"
      ]
     },
     "metadata": {
      "needs_background": "light"
     },
     "output_type": "display_data"
    }
   ],
   "source": [
    "data['parks_nearest'].hist()\n",
    "'Удаленность от парка'.title()"
   ]
  },
  {
   "cell_type": "markdown",
   "metadata": {},
   "source": [
    "Самое частое расстояние до парка 500 метров."
   ]
  },
  {
   "cell_type": "markdown",
   "metadata": {},
   "source": [
    "**Вывод: больше всего квартир с общей площадью 35 квадратных метров,с жилой площадью 18 метров квадратных, с площадью кухни 9 квадратных метров. Меньше всего общая площадь - от 400 метров квадратных до 900. Самая распространненая цена 2,75миллинов рублей. Чаще всего встречаются двухкомнатные и трехкомнатные квартиры. Чаще всего встречаются квартиры на первом этаже или на последнем,с высотой 2,75 метров в пятиэтажке, с расстоянием до центра 15 км, а до центра 500 метров.Общий тренд такой, что чем больше площадь квартиры,жилая площадь,площадь кухни,цена,число комнат, высота потолков, общее количество этажей, расстояние до центра, расстояние до парка тем количество таких квартир уменьшается.**"
   ]
  },
  {
   "cell_type": "markdown",
   "metadata": {},
   "source": [
    "#### Изучим, как быстро продавались квартиры (столбец days_exposition). Этот параметр показывает, сколько дней было размещено каждое объявление.\n",
    "\n",
    "**Построим гистограмму.**\n",
    "\n",
    "**Посчитаем среднее и медиану.**"
   ]
  },
  {
   "cell_type": "code",
   "execution_count": 126,
   "metadata": {},
   "outputs": [
    {
     "data": {
      "text/plain": [
       "'Сколько Продавалась Квартира'"
      ]
     },
     "execution_count": 126,
     "metadata": {},
     "output_type": "execute_result"
    },
    {
     "data": {
      "image/png": "[encoded data removed]",
      "text/plain": [
       "<Figure size 432x288 with 1 Axes>"
      ]
     },
     "metadata": {
      "needs_background": "light"
     },
     "output_type": "display_data"
    }
   ],
   "source": [
    "data['days_exposition'].hist()\n",
    "'Сколько продавалась квартира'.title()"
   ]
  },
  {
   "cell_type": "code",
   "execution_count": 127,
   "metadata": {},
   "outputs": [
    {
     "name": "stdout",
     "output_type": "stream",
     "text": [
      "156.65286880047356\n",
      "74.0\n"
     ]
    }
   ],
   "source": [
    "print(data['days_exposition'].mean())\n",
    "print(data['days_exposition'].median())"
   ]
  },
  {
   "cell_type": "code",
   "execution_count": 128,
   "metadata": {},
   "outputs": [
    {
     "data": {
      "text/plain": [
       "'Сколько Продавалась Квартира'"
      ]
     },
     "execution_count": 128,
     "metadata": {},
     "output_type": "execute_result"
    },
    {
     "data": {
      "image/png": "[encoded data removed]",
      "text/plain": [
       "<Figure size 432x288 with 1 Axes>"
      ]
     },
     "metadata": {
      "needs_background": "light"
     },
     "output_type": "display_data"
    }
   ],
   "source": [
    "data['days_exposition'].hist(bins=100)\n",
    "'Сколько продавалась квартира'.title()"
   ]
  },
  {
   "cell_type": "code",
   "execution_count": 129,
   "metadata": {},
   "outputs": [
    {
     "data": {
      "text/plain": [
       "'Сколько Продавалась Квартира'"
      ]
     },
     "execution_count": 129,
     "metadata": {},
     "output_type": "execute_result"
    },
    {
     "data": {
      "image/png": "[encoded data removed]",
      "text/plain": [
       "<Figure size 432x288 with 1 Axes>"
      ]
     },
     "metadata": {
      "needs_background": "light"
     },
     "output_type": "display_data"
    }
   ],
   "source": [
    "data['days_exposition'].hist(bins=100, range=(0, 100))\n",
    "'Сколько продавалась квартира'.title()"
   ]
  },
  {
   "cell_type": "markdown",
   "metadata": {},
   "source": [
    "Мы видим, что чаще всего продавались квартиры зв 0 дней. Думаю эти значения появились, потому что мы Nan заменили на ноль. Там как раз было 3181 пропущенное значение. На графике как раз 3 тысячи с чем-то таких объявлений. Так же мы видим, что выбиваются данные на 45 и 60 день. Думаю, это либо какие-то события в мире повлияли на продажу квартир,например появилась льготная ипотека для IT-ников, либо, может на сайте можно бесплатно держать объявление 45 или 60 дней, а потом они автоматически закрываются."
   ]
  },
  {
   "cell_type": "markdown",
   "metadata": {},
   "source": [
    "**Вывод: обычно продажа занимает 72 дня.Продажи в 5 дней можно считать быстрыми, а от 1200 дней — необычно долгими.**"
   ]
  },
  {
   "cell_type": "markdown",
   "metadata": {},
   "source": [
    "#### Изучим какие факторы больше всего влияют на общую (полную) стоимость объекта.\n",
    "\n",
    "**Изучим, зависит ли цена от:**\n",
    "\n",
    "**общей площади;**\n",
    "\n",
    "**жилой площади;**\n",
    "\n",
    "**площади кухни;**\n",
    "\n",
    "**количества комнат;**\n",
    "\n",
    "**тип этажа, на котором расположена квартира (первый, последний, другой);**\n",
    "\n",
    "**даты размещения (день недели, месяц, год).**"
   ]
  },
  {
   "cell_type": "code",
   "execution_count": 130,
   "metadata": {},
   "outputs": [
    {
     "data": {
      "text/plain": [
       "<matplotlib.axes._subplots.AxesSubplot at 0x1fcc2cfcd88>"
      ]
     },
     "execution_count": 130,
     "metadata": {},
     "output_type": "execute_result"
    },
    {
     "data": {
      "image/png": "[encoded data removed]",
      "text/plain": [
       "<Figure size 432x288 with 1 Axes>"
      ]
     },
     "metadata": {
      "needs_background": "light"
     },
     "output_type": "display_data"
    }
   ],
   "source": [
    "data.plot(x='last_price', y='total_area', kind='scatter')"
   ]
  },
  {
   "cell_type": "markdown",
   "metadata": {},
   "source": [
    "**Если не обращать внимание на выбросы, то мы наблюдаем положительную корреляцию.Чем больше площадь квартиры, тем больше цена.**"
   ]
  },
  {
   "cell_type": "code",
   "execution_count": 131,
   "metadata": {},
   "outputs": [
    {
     "data": {
      "text/plain": [
       "<matplotlib.axes._subplots.AxesSubplot at 0x1fcc35e05c8>"
      ]
     },
     "execution_count": 131,
     "metadata": {},
     "output_type": "execute_result"
    },
    {
     "data": {
      "image/png": "[encoded data removed]",
      "text/plain": [
       "<Figure size 432x288 with 1 Axes>"
      ]
     },
     "metadata": {
      "needs_background": "light"
     },
     "output_type": "display_data"
    }
   ],
   "source": [
    "data.plot(x='last_price', y='living_area', kind='scatter')"
   ]
  },
  {
   "cell_type": "markdown",
   "metadata": {},
   "source": [
    "**Если не обращать внимание на выбросы, то мы наблюдаем положительную корреляцию.Чем больше площадь жилой площади квартиры, тем больше цена.**"
   ]
  },
  {
   "cell_type": "code",
   "execution_count": 132,
   "metadata": {},
   "outputs": [
    {
     "data": {
      "text/plain": [
       "<matplotlib.axes._subplots.AxesSubplot at 0x1fcc0d27c88>"
      ]
     },
     "execution_count": 132,
     "metadata": {},
     "output_type": "execute_result"
    },
    {
     "data": {
      "image/png": "[encoded data removed]",
      "text/plain": [
       "<Figure size 432x288 with 1 Axes>"
      ]
     },
     "metadata": {
      "needs_background": "light"
     },
     "output_type": "display_data"
    }
   ],
   "source": [
    "data.plot(x='last_price', y='kitchen_area', kind='scatter')"
   ]
  },
  {
   "cell_type": "markdown",
   "metadata": {},
   "source": [
    "**Если не обращать внимание на выбросы, то мы наблюдаем положительную корреляцию.Чем больше площадь кухни в квартире, тем больше цена.**"
   ]
  },
  {
   "cell_type": "code",
   "execution_count": 133,
   "metadata": {},
   "outputs": [
    {
     "data": {
      "text/plain": [
       "<matplotlib.axes._subplots.AxesSubplot at 0x1fcc3905d48>"
      ]
     },
     "execution_count": 133,
     "metadata": {},
     "output_type": "execute_result"
    },
    {
     "data": {
      "image/png": "[encoded data removed]",
      "text/plain": [
       "<Figure size 432x288 with 1 Axes>"
      ]
     },
     "metadata": {
      "needs_background": "light"
     },
     "output_type": "display_data"
    }
   ],
   "source": [
    "data.plot(x='last_price', y='rooms', kind='scatter')"
   ]
  },
  {
   "cell_type": "markdown",
   "metadata": {},
   "source": [
    "**Если не обращать внимание на выбросы, то мы наблюдаем положительную корреляцию.Чем больше комнат в квартире, тем больше цена.**"
   ]
  },
  {
   "cell_type": "code",
   "execution_count": 134,
   "metadata": {
    "scrolled": true
   },
   "outputs": [
    {
     "data": {
      "text/plain": [
       "<matplotlib.axes._subplots.AxesSubplot at 0x1fcc2d7f388>"
      ]
     },
     "execution_count": 134,
     "metadata": {},
     "output_type": "execute_result"
    },
    {
     "data": {
      "image/png": "[encoded data removed]",
      "text/plain": [
       "<Figure size 432x288 with 1 Axes>"
      ]
     },
     "metadata": {
      "needs_background": "light"
     },
     "output_type": "display_data"
    }
   ],
   "source": [
    "data.plot(x='last_price', y='type_floor', kind='scatter', alpha=0.2)"
   ]
  },
  {
   "cell_type": "markdown",
   "metadata": {},
   "source": [
    "**Первый этаж самый дешевый, последний - второй по дороговизне, и все остальные этажи самые дорогие.**"
   ]
  },
  {
   "cell_type": "code",
   "execution_count": 135,
   "metadata": {},
   "outputs": [
    {
     "data": {
      "text/plain": [
       "3    4287\n",
       "1    4176\n",
       "4    3995\n",
       "2    3963\n",
       "0    3607\n",
       "5    1929\n",
       "6    1694\n",
       "Name: day_exposition_week, dtype: int64"
      ]
     },
     "execution_count": 135,
     "metadata": {},
     "output_type": "execute_result"
    }
   ],
   "source": [
    "data['day_exposition_week'].value_counts()"
   ]
  },
  {
   "cell_type": "code",
   "execution_count": 136,
   "metadata": {},
   "outputs": [
    {
     "data": {
      "text/plain": [
       "<matplotlib.axes._subplots.AxesSubplot at 0x1fcc02cfe48>"
      ]
     },
     "execution_count": 136,
     "metadata": {},
     "output_type": "execute_result"
    },
    {
     "data": {
      "image/png": "[encoded data removed]",
      "text/plain": [
       "<Figure size 432x288 with 1 Axes>"
      ]
     },
     "metadata": {
      "needs_background": "light"
     },
     "output_type": "display_data"
    }
   ],
   "source": [
    "data.groupby(by= 'day_exposition_week')['last_price'].mean().plot.bar()"
   ]
  },
  {
   "cell_type": "markdown",
   "metadata": {},
   "source": [
    "**Во все дни недели продаются квартиры примерно одинаково.**"
   ]
  },
  {
   "cell_type": "code",
   "execution_count": 137,
   "metadata": {},
   "outputs": [
    {
     "data": {
      "text/plain": [
       "<matplotlib.axes._subplots.AxesSubplot at 0x1fcc3677248>"
      ]
     },
     "execution_count": 137,
     "metadata": {},
     "output_type": "execute_result"
    },
    {
     "data": {
      "image/png": "[encoded data removed]",
      "text/plain": [
       "<Figure size 432x288 with 1 Axes>"
      ]
     },
     "metadata": {
      "needs_background": "light"
     },
     "output_type": "display_data"
    }
   ],
   "source": [
    "data.groupby(by= 'day_exposition_month')['last_price'].mean().plot.bar()"
   ]
  },
  {
   "cell_type": "markdown",
   "metadata": {},
   "source": [
    "**Во все месяцы продаются квартиры примерно одинаково.**"
   ]
  },
  {
   "cell_type": "code",
   "execution_count": 138,
   "metadata": {},
   "outputs": [
    {
     "data": {
      "text/plain": [
       "<matplotlib.axes._subplots.AxesSubplot at 0x1fcc27f9588>"
      ]
     },
     "execution_count": 138,
     "metadata": {},
     "output_type": "execute_result"
    },
    {
     "data": {
      "image/png": "[encoded data removed]",
      "text/plain": [
       "<Figure size 432x288 with 1 Axes>"
      ]
     },
     "metadata": {
      "needs_background": "light"
     },
     "output_type": "display_data"
    }
   ],
   "source": [
    "data.groupby(by= 'day_exposition_year')['last_price'].mean().plot.bar()"
   ]
  },
  {
   "cell_type": "markdown",
   "metadata": {},
   "source": [
    "**До 2017 года наблюдалась положительная кореляция, с каждым годом цена квартиры увеличивалась, далее с 2017 года по 2019 с каждым годом цена уменьшалась.**"
   ]
  },
  {
   "cell_type": "markdown",
   "metadata": {},
   "source": [
    "**Вывод: цена завист от общей площади, жилой площади, площади кухни, количества комнат. Здесть идет положительная корреляция.С увеличеним общей площади, жилой площади, площади кухни, количества комнат увеличивается и цена. Квартиры на первом этаже самые дешевые, последний - вторые по дороговизне, и все остальные этажи самые дорогие. День недели  и месяц, когда было выставлено объявление и не влияют на цену, а вот год - до 2017 года наблюдалась положительная кореляция, с каждым годом цена квартиры увеличивалась, далее с 2017 года по 2019 с каждым годом цена уменьшалась.**"
   ]
  },
  {
   "cell_type": "markdown",
   "metadata": {},
   "source": [
    " Проанализируем стоимость квадратного метра\n",
    "\n",
    "**Посчитаем среднюю цену одного квадратного метра в 10 населённых пунктах с наибольшим числом объявлений — построем сводную таблицу с количеством объявлений и средней ценой квадратного метра для этих населенных пунктов. Выделим населённые пункты с самой высокой и низкой стоимостью квадратного метра.**"
   ]
  },
  {
   "cell_type": "code",
   "execution_count": 140,
   "metadata": {},
   "outputs": [
    {
     "data": {
      "text/html": [
       "<div>\n",
       "<style scoped>\n",
       "    .dataframe tbody tr th:only-of-type {\n",
       "        vertical-align: middle;\n",
       "    }\n",
       "\n",
       "    .dataframe tbody tr th {\n",
       "        vertical-align: top;\n",
       "    }\n",
       "\n",
       "    .dataframe thead th {\n",
       "        text-align: right;\n",
       "    }\n",
       "</style>\n",
       "<table border=\"1\" class=\"dataframe\">\n",
       "  <thead>\n",
       "    <tr style=\"text-align: right;\">\n",
       "      <th></th>\n",
       "      <th>locality_name</th>\n",
       "      <th>mean_price_meter</th>\n",
       "      <th>count_ad</th>\n",
       "    </tr>\n",
       "  </thead>\n",
       "  <tbody>\n",
       "    <tr>\n",
       "      <th>0</th>\n",
       "      <td>Санкт-Петербург</td>\n",
       "      <td>114511.93</td>\n",
       "      <td>15685</td>\n",
       "    </tr>\n",
       "    <tr>\n",
       "      <th>1</th>\n",
       "      <td>поселок Мурино</td>\n",
       "      <td>85681.76</td>\n",
       "      <td>556</td>\n",
       "    </tr>\n",
       "    <tr>\n",
       "      <th>2</th>\n",
       "      <td>поселок Шушары</td>\n",
       "      <td>78677.36</td>\n",
       "      <td>440</td>\n",
       "    </tr>\n",
       "    <tr>\n",
       "      <th>3</th>\n",
       "      <td>Всеволожск</td>\n",
       "      <td>68719.32</td>\n",
       "      <td>397</td>\n",
       "    </tr>\n",
       "    <tr>\n",
       "      <th>4</th>\n",
       "      <td>Пушкин</td>\n",
       "      <td>103125.82</td>\n",
       "      <td>369</td>\n",
       "    </tr>\n",
       "    <tr>\n",
       "      <th>5</th>\n",
       "      <td>Колпино</td>\n",
       "      <td>75424.58</td>\n",
       "      <td>338</td>\n",
       "    </tr>\n",
       "    <tr>\n",
       "      <th>6</th>\n",
       "      <td>поселок Парголово</td>\n",
       "      <td>90175.91</td>\n",
       "      <td>327</td>\n",
       "    </tr>\n",
       "    <tr>\n",
       "      <th>7</th>\n",
       "      <td>Гатчина</td>\n",
       "      <td>68746.15</td>\n",
       "      <td>307</td>\n",
       "    </tr>\n",
       "    <tr>\n",
       "      <th>8</th>\n",
       "      <td>деревня Кудрово</td>\n",
       "      <td>92473.55</td>\n",
       "      <td>299</td>\n",
       "    </tr>\n",
       "    <tr>\n",
       "      <th>9</th>\n",
       "      <td>Выборг</td>\n",
       "      <td>58238.14</td>\n",
       "      <td>235</td>\n",
       "    </tr>\n",
       "  </tbody>\n",
       "</table>\n",
       "</div>"
      ],
      "text/plain": [
       "       locality_name  mean_price_meter  count_ad\n",
       "0    Санкт-Петербург         114511.93     15685\n",
       "1     поселок Мурино          85681.76       556\n",
       "2     поселок Шушары          78677.36       440\n",
       "3         Всеволожск          68719.32       397\n",
       "4             Пушкин         103125.82       369\n",
       "5            Колпино          75424.58       338\n",
       "6  поселок Парголово          90175.91       327\n",
       "7            Гатчина          68746.15       307\n",
       "8    деревня Кудрово          92473.55       299\n",
       "9             Выборг          58238.14       235"
      ]
     },
     "execution_count": 140,
     "metadata": {},
     "output_type": "execute_result"
    }
   ],
   "source": [
    "a = pd.pivot_table(data, values='price_meter', index='locality_name', aggfunc=['mean', 'count'])\n",
    "a.columns = ['mean_price_meter','count_ad']\n",
    "a=a.reset_index()\n",
    "a=a.sort_values(by='count_ad', axis=0, ascending=False).reset_index(drop=True).loc[0:9]\n",
    "a['mean_price_meter'] = a['mean_price_meter'].round(2)\n",
    "a\n"
   ]
  },
  {
   "cell_type": "markdown",
   "metadata": {},
   "source": [
    "**Вывод: самая всокая цена за квадратный метр в Санкт-Петербурге, самая низкая цена-во Всеволожске.**"
   ]
  },
  {
   "cell_type": "markdown",
   "metadata": {},
   "source": [
    "#### Посмотрим, как стоимость объектов зависит от расстояния до центра города.\n",
    "\n",
    "**Выделим квартиры в Санкт-Петербурге с помощью столбца locality_name и вычислим среднюю цену каждого километра. Опишем, как стоимость объектов зависит от расстояния до центра города — построем график изменения средней цены для каждого километра от центра Петербурга.**"
   ]
  },
  {
   "cell_type": "code",
   "execution_count": 141,
   "metadata": {},
   "outputs": [
    {
     "data": {
      "text/plain": [
       "<matplotlib.axes._subplots.AxesSubplot at 0x1fcc0346a08>"
      ]
     },
     "execution_count": 141,
     "metadata": {},
     "output_type": "execute_result"
    },
    {
     "data": {
      "image/png": "[encoded data removed]",
      "text/plain": [
       "<Figure size 432x288 with 1 Axes>"
      ]
     },
     "metadata": {
      "needs_background": "light"
     },
     "output_type": "display_data"
    }
   ],
   "source": [
    "data[data['locality_name']=='Санкт-Петербург'].groupby(data['cityCenters_km'].dropna().astype('int'))['last_price'].mean().plot()"
   ]
  },
  {
   "cell_type": "markdown",
   "metadata": {},
   "source": [
    "**Вывод: с увеличенением удаленности от центра увеличивается цена квартиры.**"
   ]
  },
  {
   "cell_type": "markdown",
   "metadata": {},
   "source": [
    "Первый пик, примерно, на 5 км, вероятно,это какое-то кольцо с удобными остановками, может быть Обвобной канал и набережные. Следующий пик идет ,скорей всего близко ко мкаду на 18 км. А с 25 км, растет цена, так как это пригород начинается."
   ]
  },
  {
   "cell_type": "markdown",
   "metadata": {},
   "source": [
    "### Общий вывод"
   ]
  },
  {
   "cell_type": "markdown",
   "metadata": {},
   "source": [
    "**Исследование объявлений о продаже квартир началось с предобработки данных.**\n",
    "\n",
    "**Мы проверили и исправили соотвествие типов каждому столбцу, формат даты перевели из object в datetime, количество балконов и этажей перевели в целочисленный тип.**\n",
    "\n",
    "**Убрали видающиеся значения в столбце с высотой потолков.**\n",
    "\n",
    "**Вывод: больше всего квартир с общей площадью 35 квадратных метров,с жилой площадью 18 метров квадратных, с площадью кухни 9 квадратных метров. Меньше всего общая площадь - от 400 метров квадратных до 900. Самая распространненая цена 2,75миллинов рублей. Чаще всего встречаются двухкомнатные и трехкомнатные квартиры. Чаще всего встречаются квартиры на первом этаже или на последнем,с высотой 2,75 метров в пятиэтажке, с расстоянием до центра 15 км, а до центра 500 метров.Общий тренд такой, что чем больше площадь квартиры,жилая площадь,площадь кухни,цена,число комнат, высота потолков, общее количество этажей, расстояние до центра, расстояние до парка, тем больше количество таких квартир уменьшается.**\n",
    "\n",
    "**Продажа занимает 72 дня.Продажи в 5 дней можно считать быстрыми, а от 1200 дней — необычно долгими.**\n",
    "\n",
    "**Цена завист от общей площади, жилой площади, площади кухни, количества комнат,удаленности от центра. Здесть идет положительная корреляция.С увеличеним общей площади, жилой площади, площади кухни, количества комнат,удаленности от центра увеличивается и цена. Квартиры на первом этаже самые дешевые, последний - вторые по дороговизне, и все остальные этажи самые дорогие. День недели  и месяц, когда было выставлено объявление и не влияют на цену, а вот год - до 2017 года наблюдалась положительная кореляция, с каждым годом цена квартиры увеличивалась, далее с 2017 года по 2019 с каждым годом цена уменьшалась.**\n",
    "\n",
    "**Самая высокая цена за квадратный метр в Санкт-Петербурге, самая низкая цена-во Всеволожске.**\n",
    "\n",
    "\n",
    "**Рекомендациями по улучшению сбора данных и системы скоринга:**\n",
    "\n",
    "**столбец с датой собирать в типе datetime;**\n",
    "\n",
    "**столбец с балконами и этажами собирать в типе int;**\n",
    "\n",
    "**сделать столбец с балконами обязательным к заполнению**"
   ]
  }
 ],
 "metadata": {
  "ExecuteTimeLog": [
   {
    "duration": 745,
    "start_time": "2023-10-06T19:23:49.832Z"
   },
   {
    "duration": 93,
    "start_time": "2023-10-06T19:25:16.295Z"
   },
   {
    "duration": 58,
    "start_time": "2023-10-06T19:25:17.209Z"
   },
   {
    "duration": 14,
    "start_time": "2023-10-06T19:25:40.870Z"
   },
   {
    "duration": 87,
    "start_time": "2023-10-07T02:16:47.286Z"
   },
   {
    "duration": 98,
    "start_time": "2023-10-07T02:17:26.596Z"
   },
   {
    "duration": 80,
    "start_time": "2023-10-07T02:18:03.229Z"
   },
   {
    "duration": 7,
    "start_time": "2023-10-07T02:18:05.302Z"
   },
   {
    "duration": 91,
    "start_time": "2023-10-07T02:18:10.633Z"
   },
   {
    "duration": 108,
    "start_time": "2023-10-07T02:18:26.001Z"
   },
   {
    "duration": 108,
    "start_time": "2023-10-07T02:19:13.390Z"
   },
   {
    "duration": 97,
    "start_time": "2023-10-07T02:20:14.471Z"
   },
   {
    "duration": 15,
    "start_time": "2023-10-07T02:20:41.900Z"
   },
   {
    "duration": 2194,
    "start_time": "2023-10-07T02:23:00.798Z"
   },
   {
    "duration": 91,
    "start_time": "2023-10-07T02:23:46.485Z"
   },
   {
    "duration": 2,
    "start_time": "2023-10-07T02:27:01.262Z"
   },
   {
    "duration": 124,
    "start_time": "2023-10-07T02:32:33.668Z"
   },
   {
    "duration": 108,
    "start_time": "2023-10-07T02:34:45.579Z"
   },
   {
    "duration": 12,
    "start_time": "2023-10-07T02:35:22.427Z"
   },
   {
    "duration": 15,
    "start_time": "2023-10-07T02:55:39.170Z"
   },
   {
    "duration": 3340,
    "start_time": "2023-10-07T02:55:44.488Z"
   },
   {
    "duration": 6,
    "start_time": "2023-10-07T02:56:17.346Z"
   },
   {
    "duration": 13,
    "start_time": "2023-10-07T02:56:38.473Z"
   },
   {
    "duration": 6,
    "start_time": "2023-10-07T02:56:55.525Z"
   },
   {
    "duration": 6,
    "start_time": "2023-10-07T02:58:20.078Z"
   },
   {
    "duration": 7,
    "start_time": "2023-10-07T02:58:34.239Z"
   },
   {
    "duration": 5,
    "start_time": "2023-10-07T02:59:02.464Z"
   },
   {
    "duration": 7,
    "start_time": "2023-10-07T02:59:33.670Z"
   },
   {
    "duration": 6,
    "start_time": "2023-10-07T02:59:55.217Z"
   },
   {
    "duration": 4,
    "start_time": "2023-10-07T03:00:09.477Z"
   },
   {
    "duration": 6,
    "start_time": "2023-10-07T03:36:08.479Z"
   },
   {
    "duration": 5,
    "start_time": "2023-10-07T03:45:23.549Z"
   },
   {
    "duration": 7,
    "start_time": "2023-10-07T03:45:51.424Z"
   },
   {
    "duration": 12,
    "start_time": "2023-10-07T03:46:07.148Z"
   },
   {
    "duration": 14,
    "start_time": "2023-10-07T03:46:42.441Z"
   },
   {
    "duration": 119,
    "start_time": "2023-10-07T03:47:11.665Z"
   },
   {
    "duration": 616,
    "start_time": "2023-10-07T03:51:22.844Z"
   },
   {
    "duration": 687,
    "start_time": "2023-10-07T03:56:19.905Z"
   },
   {
    "duration": 9,
    "start_time": "2023-10-07T03:56:43.993Z"
   },
   {
    "duration": 639,
    "start_time": "2023-10-07T03:56:56.825Z"
   },
   {
    "duration": 7,
    "start_time": "2023-10-07T03:57:08.478Z"
   },
   {
    "duration": 12,
    "start_time": "2023-10-07T03:57:17.082Z"
   },
   {
    "duration": 7,
    "start_time": "2023-10-07T03:57:47.979Z"
   },
   {
    "duration": 2,
    "start_time": "2023-10-07T03:59:23.573Z"
   },
   {
    "duration": 81,
    "start_time": "2023-10-07T04:03:03.466Z"
   },
   {
    "duration": 7,
    "start_time": "2023-10-07T04:03:05.229Z"
   },
   {
    "duration": 111,
    "start_time": "2023-10-07T04:03:08.809Z"
   },
   {
    "duration": 14,
    "start_time": "2023-10-07T04:03:13.093Z"
   },
   {
    "duration": 1844,
    "start_time": "2023-10-07T04:03:15.712Z"
   },
   {
    "duration": 9,
    "start_time": "2023-10-07T04:03:21.741Z"
   },
   {
    "duration": 4,
    "start_time": "2023-10-07T04:03:22.519Z"
   },
   {
    "duration": 2,
    "start_time": "2023-10-07T04:03:25.132Z"
   },
   {
    "duration": 2,
    "start_time": "2023-10-07T04:03:25.760Z"
   },
   {
    "duration": 6,
    "start_time": "2023-10-07T12:34:20.469Z"
   },
   {
    "duration": 1546,
    "start_time": "2023-10-07T12:46:17.782Z"
   },
   {
    "duration": 90,
    "start_time": "2023-10-07T12:46:32.386Z"
   },
   {
    "duration": 8,
    "start_time": "2023-10-07T12:46:33.433Z"
   },
   {
    "duration": 125,
    "start_time": "2023-10-07T12:46:34.706Z"
   },
   {
    "duration": 15,
    "start_time": "2023-10-07T12:46:36.578Z"
   },
   {
    "duration": 1968,
    "start_time": "2023-10-07T12:46:38.666Z"
   },
   {
    "duration": 10,
    "start_time": "2023-10-07T12:46:43.977Z"
   },
   {
    "duration": 4,
    "start_time": "2023-10-07T12:46:45.208Z"
   },
   {
    "duration": 7,
    "start_time": "2023-10-07T12:46:48.572Z"
   },
   {
    "duration": 1785,
    "start_time": "2023-10-07T12:46:50.775Z"
   },
   {
    "duration": 11,
    "start_time": "2023-10-07T12:47:28.207Z"
   },
   {
    "duration": 24,
    "start_time": "2023-10-07T12:48:25.945Z"
   },
   {
    "duration": 9,
    "start_time": "2023-10-07T12:48:33.418Z"
   },
   {
    "duration": 10,
    "start_time": "2023-10-07T12:49:40.144Z"
   },
   {
    "duration": 161,
    "start_time": "2023-10-07T13:05:07.765Z"
   },
   {
    "duration": 15,
    "start_time": "2023-10-07T13:06:11.598Z"
   },
   {
    "duration": 14,
    "start_time": "2023-10-07T13:06:22.533Z"
   },
   {
    "duration": 121,
    "start_time": "2023-10-07T13:06:34.694Z"
   },
   {
    "duration": 8,
    "start_time": "2023-10-07T13:10:47.705Z"
   },
   {
    "duration": 11,
    "start_time": "2023-10-07T13:15:00.357Z"
   },
   {
    "duration": 12,
    "start_time": "2023-10-07T13:15:58.188Z"
   },
   {
    "duration": 5,
    "start_time": "2023-10-07T13:16:19.213Z"
   },
   {
    "duration": 99,
    "start_time": "2023-10-07T13:16:39.743Z"
   },
   {
    "duration": 9,
    "start_time": "2023-10-07T13:16:39.844Z"
   },
   {
    "duration": 99,
    "start_time": "2023-10-07T13:16:39.855Z"
   },
   {
    "duration": 22,
    "start_time": "2023-10-07T13:16:39.957Z"
   },
   {
    "duration": 2126,
    "start_time": "2023-10-07T13:16:39.980Z"
   },
   {
    "duration": 10,
    "start_time": "2023-10-07T13:16:42.107Z"
   },
   {
    "duration": 30,
    "start_time": "2023-10-07T13:16:42.118Z"
   },
   {
    "duration": 44,
    "start_time": "2023-10-07T13:16:42.149Z"
   },
   {
    "duration": 12,
    "start_time": "2023-10-07T13:16:46.493Z"
   },
   {
    "duration": 16,
    "start_time": "2023-10-07T13:17:06.921Z"
   },
   {
    "duration": 11,
    "start_time": "2023-10-07T13:17:10.969Z"
   },
   {
    "duration": 101,
    "start_time": "2023-10-07T13:21:01.223Z"
   },
   {
    "duration": 86,
    "start_time": "2023-10-07T13:22:39.780Z"
   },
   {
    "duration": 4,
    "start_time": "2023-10-07T13:23:50.206Z"
   },
   {
    "duration": 80,
    "start_time": "2023-10-07T13:31:34.518Z"
   },
   {
    "duration": 10,
    "start_time": "2023-10-07T13:31:56.220Z"
   },
   {
    "duration": 92,
    "start_time": "2023-10-07T13:32:00.923Z"
   },
   {
    "duration": 5,
    "start_time": "2023-10-07T13:35:58.665Z"
   },
   {
    "duration": 11,
    "start_time": "2023-10-07T13:36:01.811Z"
   },
   {
    "duration": 6,
    "start_time": "2023-10-07T16:25:19.622Z"
   },
   {
    "duration": 5,
    "start_time": "2023-10-07T16:25:40.132Z"
   },
   {
    "duration": 4,
    "start_time": "2023-10-07T16:29:24.793Z"
   },
   {
    "duration": 38,
    "start_time": "2023-10-07T16:59:49.282Z"
   },
   {
    "duration": 14,
    "start_time": "2023-10-07T17:14:26.454Z"
   },
   {
    "duration": 5,
    "start_time": "2023-10-07T17:32:23.245Z"
   },
   {
    "duration": 9,
    "start_time": "2023-10-07T18:25:37.750Z"
   },
   {
    "duration": 5,
    "start_time": "2023-10-07T18:25:38.503Z"
   },
   {
    "duration": 1370,
    "start_time": "2023-10-07T18:30:11.585Z"
   },
   {
    "duration": 1423,
    "start_time": "2023-10-07T18:31:05.089Z"
   },
   {
    "duration": 5,
    "start_time": "2023-10-07T18:31:12.725Z"
   },
   {
    "duration": 15,
    "start_time": "2023-10-07T18:32:42.139Z"
   },
   {
    "duration": 6,
    "start_time": "2023-10-07T18:32:43.155Z"
   },
   {
    "duration": 5,
    "start_time": "2023-10-07T18:33:40.387Z"
   },
   {
    "duration": 3,
    "start_time": "2023-10-07T18:36:17.555Z"
   },
   {
    "duration": 3,
    "start_time": "2023-10-07T18:36:31.885Z"
   },
   {
    "duration": 4,
    "start_time": "2023-10-07T18:37:03.796Z"
   },
   {
    "duration": 17,
    "start_time": "2023-10-07T18:38:26.002Z"
   },
   {
    "duration": 10,
    "start_time": "2023-10-07T18:39:47.178Z"
   },
   {
    "duration": 11,
    "start_time": "2023-10-07T18:39:54.902Z"
   },
   {
    "duration": 6,
    "start_time": "2023-10-07T18:59:52.614Z"
   },
   {
    "duration": 13,
    "start_time": "2023-10-07T19:00:46.113Z"
   },
   {
    "duration": 5,
    "start_time": "2023-10-07T19:11:10.623Z"
   },
   {
    "duration": 1056,
    "start_time": "2023-10-07T22:58:58.516Z"
   },
   {
    "duration": 15,
    "start_time": "2023-10-07T22:59:00.061Z"
   },
   {
    "duration": 125,
    "start_time": "2023-10-07T22:59:01.366Z"
   },
   {
    "duration": 18,
    "start_time": "2023-10-07T22:59:03.105Z"
   },
   {
    "duration": 2415,
    "start_time": "2023-10-07T22:59:04.659Z"
   },
   {
    "duration": 11,
    "start_time": "2023-10-07T22:59:09.057Z"
   },
   {
    "duration": 6,
    "start_time": "2023-10-07T22:59:10.330Z"
   },
   {
    "duration": 6,
    "start_time": "2023-10-07T22:59:24.961Z"
   },
   {
    "duration": 17,
    "start_time": "2023-10-07T22:59:34.963Z"
   },
   {
    "duration": 21,
    "start_time": "2023-10-07T23:00:28.157Z"
   },
   {
    "duration": 26,
    "start_time": "2023-10-07T23:01:05.879Z"
   },
   {
    "duration": 80,
    "start_time": "2023-10-07T23:01:32.059Z"
   },
   {
    "duration": 28,
    "start_time": "2023-10-07T23:01:48.797Z"
   },
   {
    "duration": 2,
    "start_time": "2023-10-07T23:05:27.470Z"
   },
   {
    "duration": 7,
    "start_time": "2023-10-07T23:12:04.899Z"
   },
   {
    "duration": 9,
    "start_time": "2023-10-07T23:17:27.198Z"
   },
   {
    "duration": 9,
    "start_time": "2023-10-07T23:17:39.671Z"
   },
   {
    "duration": 11,
    "start_time": "2023-10-07T23:17:44.435Z"
   },
   {
    "duration": 10,
    "start_time": "2023-10-07T23:19:38.083Z"
   },
   {
    "duration": 7,
    "start_time": "2023-10-07T23:19:56.972Z"
   },
   {
    "duration": 28,
    "start_time": "2023-10-07T23:23:54.539Z"
   },
   {
    "duration": 21,
    "start_time": "2023-10-07T23:26:33.848Z"
   },
   {
    "duration": 13,
    "start_time": "2023-10-07T23:27:11.580Z"
   },
   {
    "duration": 3,
    "start_time": "2023-10-07T23:27:33.809Z"
   },
   {
    "duration": 8,
    "start_time": "2023-10-07T23:27:40.794Z"
   },
   {
    "duration": 12,
    "start_time": "2023-10-07T23:32:12.604Z"
   },
   {
    "duration": 16,
    "start_time": "2023-10-07T23:32:26.230Z"
   },
   {
    "duration": 18,
    "start_time": "2023-10-07T23:32:44.844Z"
   },
   {
    "duration": 16,
    "start_time": "2023-10-07T23:32:53.439Z"
   },
   {
    "duration": 313,
    "start_time": "2023-10-08T00:04:30.127Z"
   },
   {
    "duration": 59,
    "start_time": "2023-10-08T00:04:48.818Z"
   },
   {
    "duration": 49,
    "start_time": "2023-10-08T00:11:31.747Z"
   },
   {
    "duration": 90,
    "start_time": "2023-10-08T00:15:27.940Z"
   },
   {
    "duration": 87,
    "start_time": "2023-10-08T00:17:11.846Z"
   },
   {
    "duration": 8,
    "start_time": "2023-10-08T00:17:13.126Z"
   },
   {
    "duration": 121,
    "start_time": "2023-10-08T00:17:14.363Z"
   },
   {
    "duration": 17,
    "start_time": "2023-10-08T00:17:15.972Z"
   },
   {
    "duration": 2049,
    "start_time": "2023-10-08T00:17:17.675Z"
   },
   {
    "duration": 12,
    "start_time": "2023-10-08T00:17:22.160Z"
   },
   {
    "duration": 6,
    "start_time": "2023-10-08T00:17:23.087Z"
   },
   {
    "duration": 6,
    "start_time": "2023-10-08T00:17:25.475Z"
   },
   {
    "duration": 13,
    "start_time": "2023-10-08T00:17:27.613Z"
   },
   {
    "duration": 16,
    "start_time": "2023-10-08T00:17:29.479Z"
   },
   {
    "duration": 28,
    "start_time": "2023-10-08T00:17:31.729Z"
   },
   {
    "duration": 24,
    "start_time": "2023-10-08T00:17:34.767Z"
   },
   {
    "duration": 7,
    "start_time": "2023-10-08T00:17:39.956Z"
   },
   {
    "duration": 55,
    "start_time": "2023-10-08T00:18:15.367Z"
   },
   {
    "duration": 68,
    "start_time": "2023-10-08T00:18:55.373Z"
   },
   {
    "duration": 119,
    "start_time": "2023-10-08T00:22:29.786Z"
   },
   {
    "duration": 154,
    "start_time": "2023-10-08T00:30:10.695Z"
   },
   {
    "duration": 248,
    "start_time": "2023-10-08T00:40:25.854Z"
   },
   {
    "duration": 501,
    "start_time": "2023-10-08T01:14:12.786Z"
   },
   {
    "duration": 553,
    "start_time": "2023-10-08T01:21:12.129Z"
   },
   {
    "duration": 625,
    "start_time": "2023-10-08T01:29:41.088Z"
   },
   {
    "duration": 795,
    "start_time": "2023-10-08T01:37:34.375Z"
   },
   {
    "duration": 874,
    "start_time": "2023-10-08T02:20:40.713Z"
   },
   {
    "duration": 15,
    "start_time": "2023-10-08T02:24:30.054Z"
   },
   {
    "duration": 9,
    "start_time": "2023-10-08T02:30:37.452Z"
   },
   {
    "duration": 6,
    "start_time": "2023-10-08T02:38:54.802Z"
   },
   {
    "duration": 7,
    "start_time": "2023-10-08T02:39:01.273Z"
   },
   {
    "duration": 8,
    "start_time": "2023-10-08T02:39:26.268Z"
   },
   {
    "duration": 6,
    "start_time": "2023-10-08T02:41:39.416Z"
   },
   {
    "duration": 1256,
    "start_time": "2023-10-08T02:49:47.847Z"
   },
   {
    "duration": 2233,
    "start_time": "2023-10-08T02:50:15.000Z"
   },
   {
    "duration": 11,
    "start_time": "2023-10-08T02:54:12.308Z"
   },
   {
    "duration": 52,
    "start_time": "2023-10-08T02:54:37.785Z"
   },
   {
    "duration": 84,
    "start_time": "2023-10-08T02:55:08.082Z"
   },
   {
    "duration": 15,
    "start_time": "2023-10-08T02:55:13.170Z"
   },
   {
    "duration": 14,
    "start_time": "2023-10-08T02:55:59.314Z"
   },
   {
    "duration": 5,
    "start_time": "2023-10-08T03:01:19.246Z"
   },
   {
    "duration": 8,
    "start_time": "2023-10-08T03:01:35.967Z"
   },
   {
    "duration": 10,
    "start_time": "2023-10-08T03:02:47.211Z"
   },
   {
    "duration": 8,
    "start_time": "2023-10-08T03:03:03.846Z"
   },
   {
    "duration": 5462,
    "start_time": "2023-10-08T03:05:29.015Z"
   },
   {
    "duration": 6059,
    "start_time": "2023-10-08T03:15:38.568Z"
   },
   {
    "duration": 9,
    "start_time": "2023-10-08T03:15:56.145Z"
   },
   {
    "duration": 10,
    "start_time": "2023-10-08T03:18:58.633Z"
   },
   {
    "duration": 9,
    "start_time": "2023-10-08T03:19:47.455Z"
   },
   {
    "duration": 2018,
    "start_time": "2023-10-08T03:57:20.117Z"
   },
   {
    "duration": 61,
    "start_time": "2023-10-08T03:58:16.030Z"
   },
   {
    "duration": 3,
    "start_time": "2023-10-08T03:59:40.334Z"
   },
   {
    "duration": 17,
    "start_time": "2023-10-08T03:59:47.755Z"
   },
   {
    "duration": 8,
    "start_time": "2023-10-08T03:59:58.948Z"
   },
   {
    "duration": 7,
    "start_time": "2023-10-08T04:00:06.066Z"
   },
   {
    "duration": 3,
    "start_time": "2023-10-08T04:01:43.683Z"
   },
   {
    "duration": 764,
    "start_time": "2023-10-08T04:02:25.633Z"
   },
   {
    "duration": 375,
    "start_time": "2023-10-08T04:05:55.014Z"
   },
   {
    "duration": 11,
    "start_time": "2023-10-08T04:07:55.566Z"
   },
   {
    "duration": 110,
    "start_time": "2023-10-08T04:09:43.105Z"
   },
   {
    "duration": 15,
    "start_time": "2023-10-08T04:09:44.634Z"
   },
   {
    "duration": 116,
    "start_time": "2023-10-08T04:10:14.617Z"
   },
   {
    "duration": 311,
    "start_time": "2023-10-08T04:11:10.854Z"
   },
   {
    "duration": 1031,
    "start_time": "2023-10-08T13:56:56.502Z"
   },
   {
    "duration": 12,
    "start_time": "2023-10-08T13:56:58.046Z"
   },
   {
    "duration": 117,
    "start_time": "2023-10-08T13:56:59.890Z"
   },
   {
    "duration": 22,
    "start_time": "2023-10-08T13:57:01.859Z"
   },
   {
    "duration": 2161,
    "start_time": "2023-10-08T13:57:03.671Z"
   },
   {
    "duration": 12,
    "start_time": "2023-10-08T13:57:08.444Z"
   },
   {
    "duration": 4,
    "start_time": "2023-10-08T13:57:09.550Z"
   },
   {
    "duration": 5,
    "start_time": "2023-10-08T13:57:12.048Z"
   },
   {
    "duration": 13,
    "start_time": "2023-10-08T13:57:13.874Z"
   },
   {
    "duration": 14,
    "start_time": "2023-10-08T13:57:15.864Z"
   },
   {
    "duration": 28,
    "start_time": "2023-10-08T13:57:17.764Z"
   },
   {
    "duration": 14,
    "start_time": "2023-10-08T13:57:19.309Z"
   },
   {
    "duration": 13,
    "start_time": "2023-10-08T13:57:20.267Z"
   },
   {
    "duration": 19,
    "start_time": "2023-10-08T13:57:23.251Z"
   },
   {
    "duration": 7,
    "start_time": "2023-10-08T13:57:26.290Z"
   },
   {
    "duration": 29,
    "start_time": "2023-10-08T14:07:32.160Z"
   },
   {
    "duration": 1532,
    "start_time": "2023-10-08T14:07:49.190Z"
   },
   {
    "duration": 7,
    "start_time": "2023-10-08T14:08:01.242Z"
   },
   {
    "duration": 81,
    "start_time": "2023-10-08T14:10:52.206Z"
   },
   {
    "duration": 3,
    "start_time": "2023-10-08T14:11:09.846Z"
   },
   {
    "duration": 13,
    "start_time": "2023-10-08T14:11:14.692Z"
   },
   {
    "duration": 7,
    "start_time": "2023-10-08T14:14:48.198Z"
   },
   {
    "duration": 38,
    "start_time": "2023-10-08T14:16:00.766Z"
   },
   {
    "duration": 38,
    "start_time": "2023-10-08T14:17:39.237Z"
   },
   {
    "duration": 39,
    "start_time": "2023-10-08T14:18:01.113Z"
   },
   {
    "duration": 43,
    "start_time": "2023-10-08T14:18:08.375Z"
   },
   {
    "duration": 8,
    "start_time": "2023-10-08T14:18:20.318Z"
   },
   {
    "duration": 38,
    "start_time": "2023-10-08T14:18:28.344Z"
   },
   {
    "duration": 80,
    "start_time": "2023-10-08T14:22:39.088Z"
   },
   {
    "duration": 28,
    "start_time": "2023-10-08T14:29:29.043Z"
   },
   {
    "duration": 21,
    "start_time": "2023-10-08T14:30:04.789Z"
   },
   {
    "duration": 86,
    "start_time": "2023-10-08T14:32:27.752Z"
   },
   {
    "duration": 7,
    "start_time": "2023-10-08T14:32:38.773Z"
   },
   {
    "duration": 10,
    "start_time": "2023-10-08T15:06:37.771Z"
   },
   {
    "duration": 52,
    "start_time": "2023-10-08T21:54:50.837Z"
   },
   {
    "duration": 832,
    "start_time": "2023-10-08T21:55:01.999Z"
   },
   {
    "duration": 14,
    "start_time": "2023-10-08T21:55:02.834Z"
   },
   {
    "duration": 219,
    "start_time": "2023-10-08T21:55:02.849Z"
   },
   {
    "duration": 17,
    "start_time": "2023-10-08T21:55:03.070Z"
   },
   {
    "duration": 2676,
    "start_time": "2023-10-08T21:55:03.102Z"
   },
   {
    "duration": 11,
    "start_time": "2023-10-08T21:55:05.780Z"
   },
   {
    "duration": 22,
    "start_time": "2023-10-08T21:55:05.793Z"
   },
   {
    "duration": 15,
    "start_time": "2023-10-08T21:55:05.817Z"
   },
   {
    "duration": 32,
    "start_time": "2023-10-08T21:55:05.834Z"
   },
   {
    "duration": 18,
    "start_time": "2023-10-08T21:55:05.868Z"
   },
   {
    "duration": 49,
    "start_time": "2023-10-08T21:55:05.888Z"
   },
   {
    "duration": 12,
    "start_time": "2023-10-08T21:55:05.939Z"
   },
   {
    "duration": 17,
    "start_time": "2023-10-08T21:55:05.952Z"
   },
   {
    "duration": 41,
    "start_time": "2023-10-08T21:55:05.972Z"
   },
   {
    "duration": 6,
    "start_time": "2023-10-08T21:55:06.016Z"
   },
   {
    "duration": 979,
    "start_time": "2023-10-08T21:55:06.024Z"
   },
   {
    "duration": 13,
    "start_time": "2023-10-08T21:55:07.005Z"
   },
   {
    "duration": 33,
    "start_time": "2023-10-08T21:55:07.020Z"
   },
   {
    "duration": 24,
    "start_time": "2023-10-08T21:55:07.055Z"
   },
   {
    "duration": 35,
    "start_time": "2023-10-08T21:55:07.081Z"
   },
   {
    "duration": 44,
    "start_time": "2023-10-08T21:55:07.118Z"
   },
   {
    "duration": 69,
    "start_time": "2023-10-08T21:55:07.163Z"
   },
   {
    "duration": 36,
    "start_time": "2023-10-08T21:55:07.234Z"
   },
   {
    "duration": 7,
    "start_time": "2023-10-08T21:55:10.360Z"
   },
   {
    "duration": 454,
    "start_time": "2023-10-08T21:59:48.764Z"
   },
   {
    "duration": 4,
    "start_time": "2023-10-08T22:01:20.342Z"
   },
   {
    "duration": 7,
    "start_time": "2023-10-08T22:01:45.020Z"
   },
   {
    "duration": 4,
    "start_time": "2023-10-08T22:01:52.955Z"
   },
   {
    "duration": 4,
    "start_time": "2023-10-08T22:01:56.398Z"
   },
   {
    "duration": 340,
    "start_time": "2023-10-08T22:02:24.748Z"
   },
   {
    "duration": 596,
    "start_time": "2023-10-08T22:02:52.113Z"
   },
   {
    "duration": 323,
    "start_time": "2023-10-08T22:02:58.875Z"
   },
   {
    "duration": 4,
    "start_time": "2023-10-08T22:04:23.199Z"
   },
   {
    "duration": 4,
    "start_time": "2023-10-08T22:08:54.795Z"
   },
   {
    "duration": 585,
    "start_time": "2023-10-08T22:08:55.902Z"
   },
   {
    "duration": 116,
    "start_time": "2023-10-08T22:12:31.499Z"
   },
   {
    "duration": 0,
    "start_time": "2023-10-08T22:12:31.617Z"
   },
   {
    "duration": 5,
    "start_time": "2023-10-08T22:13:16.685Z"
   },
   {
    "duration": 330,
    "start_time": "2023-10-08T22:13:21.254Z"
   },
   {
    "duration": 330,
    "start_time": "2023-10-08T22:13:37.405Z"
   },
   {
    "duration": 87,
    "start_time": "2023-10-08T22:14:16.669Z"
   },
   {
    "duration": 94,
    "start_time": "2023-10-08T22:14:19.965Z"
   },
   {
    "duration": 8,
    "start_time": "2023-10-08T23:18:30.326Z"
   },
   {
    "duration": 10,
    "start_time": "2023-10-08T23:20:01.769Z"
   },
   {
    "duration": 83,
    "start_time": "2023-10-08T23:27:46.396Z"
   },
   {
    "duration": 138,
    "start_time": "2023-10-08T23:33:37.098Z"
   },
   {
    "duration": 6,
    "start_time": "2023-10-08T23:34:05.808Z"
   },
   {
    "duration": 5,
    "start_time": "2023-10-08T23:34:59.103Z"
   },
   {
    "duration": 7,
    "start_time": "2023-10-08T23:35:11.378Z"
   },
   {
    "duration": 35,
    "start_time": "2023-10-08T23:46:11.002Z"
   },
   {
    "duration": 1510,
    "start_time": "2023-10-08T23:51:23.938Z"
   },
   {
    "duration": 124,
    "start_time": "2023-10-08T23:51:53.814Z"
   },
   {
    "duration": 22,
    "start_time": "2023-10-08T23:51:55.726Z"
   },
   {
    "duration": 90,
    "start_time": "2023-10-08T23:54:02.482Z"
   },
   {
    "duration": 7,
    "start_time": "2023-10-08T23:54:56.537Z"
   },
   {
    "duration": 878,
    "start_time": "2023-10-08T23:58:24.269Z"
   },
   {
    "duration": 44,
    "start_time": "2023-10-09T00:10:18.858Z"
   },
   {
    "duration": 49,
    "start_time": "2023-10-09T00:12:07.386Z"
   },
   {
    "duration": 57,
    "start_time": "2023-10-09T00:13:35.058Z"
   },
   {
    "duration": 199,
    "start_time": "2023-10-09T01:29:49.172Z"
   },
   {
    "duration": 170,
    "start_time": "2023-10-09T01:32:43.235Z"
   },
   {
    "duration": 819,
    "start_time": "2023-10-09T01:33:11.626Z"
   },
   {
    "duration": 121,
    "start_time": "2023-10-09T01:34:17.126Z"
   },
   {
    "duration": 944,
    "start_time": "2023-10-09T01:34:22.819Z"
   },
   {
    "duration": 390,
    "start_time": "2023-10-09T01:34:45.958Z"
   },
   {
    "duration": 218,
    "start_time": "2023-10-09T01:43:26.244Z"
   },
   {
    "duration": 223,
    "start_time": "2023-10-09T01:43:42.547Z"
   },
   {
    "duration": 116,
    "start_time": "2023-10-09T01:46:00.269Z"
   },
   {
    "duration": 160,
    "start_time": "2023-10-09T01:49:31.121Z"
   },
   {
    "duration": 13,
    "start_time": "2023-10-09T01:50:10.995Z"
   },
   {
    "duration": 10,
    "start_time": "2023-10-09T01:54:26.937Z"
   },
   {
    "duration": 336,
    "start_time": "2023-10-09T01:54:54.653Z"
   },
   {
    "duration": 104,
    "start_time": "2023-10-09T01:55:33.095Z"
   },
   {
    "duration": 473,
    "start_time": "2023-10-09T01:55:41.456Z"
   },
   {
    "duration": 393,
    "start_time": "2023-10-09T01:55:54.398Z"
   },
   {
    "duration": 303,
    "start_time": "2023-10-09T01:56:23.969Z"
   },
   {
    "duration": 364,
    "start_time": "2023-10-09T01:56:34.756Z"
   },
   {
    "duration": 1800,
    "start_time": "2023-10-09T01:57:10.495Z"
   },
   {
    "duration": 150,
    "start_time": "2023-10-09T01:57:49.034Z"
   },
   {
    "duration": 0,
    "start_time": "2023-10-09T02:02:29.160Z"
   },
   {
    "duration": 0,
    "start_time": "2023-10-09T02:02:29.162Z"
   },
   {
    "duration": 139,
    "start_time": "2023-10-09T02:02:42.092Z"
   },
   {
    "duration": 8,
    "start_time": "2023-10-09T02:02:43.556Z"
   },
   {
    "duration": 139,
    "start_time": "2023-10-09T02:02:45.071Z"
   },
   {
    "duration": 15,
    "start_time": "2023-10-09T02:02:46.643Z"
   },
   {
    "duration": 13833,
    "start_time": "2023-10-09T02:02:48.300Z"
   },
   {
    "duration": 12,
    "start_time": "2023-10-09T02:03:11.045Z"
   },
   {
    "duration": 6,
    "start_time": "2023-10-09T02:03:11.752Z"
   },
   {
    "duration": 8,
    "start_time": "2023-10-09T02:03:13.430Z"
   },
   {
    "duration": 12,
    "start_time": "2023-10-09T02:03:16.487Z"
   },
   {
    "duration": 16,
    "start_time": "2023-10-09T02:03:18.883Z"
   },
   {
    "duration": 27,
    "start_time": "2023-10-09T02:03:21.435Z"
   },
   {
    "duration": 13,
    "start_time": "2023-10-09T02:03:23.170Z"
   },
   {
    "duration": 33,
    "start_time": "2023-10-09T02:03:23.899Z"
   },
   {
    "duration": 23,
    "start_time": "2023-10-09T02:03:25.859Z"
   },
   {
    "duration": 7,
    "start_time": "2023-10-09T02:03:28.133Z"
   },
   {
    "duration": 1058,
    "start_time": "2023-10-09T02:03:29.271Z"
   },
   {
    "duration": 9,
    "start_time": "2023-10-09T02:03:33.383Z"
   },
   {
    "duration": 11,
    "start_time": "2023-10-09T02:03:34.538Z"
   },
   {
    "duration": 9,
    "start_time": "2023-10-09T02:03:35.342Z"
   },
   {
    "duration": 9,
    "start_time": "2023-10-09T02:03:36.262Z"
   },
   {
    "duration": 3,
    "start_time": "2023-10-09T02:03:37.153Z"
   },
   {
    "duration": 388,
    "start_time": "2023-10-09T02:03:38.070Z"
   },
   {
    "duration": 7,
    "start_time": "2023-10-09T02:03:42.751Z"
   },
   {
    "duration": 134,
    "start_time": "2023-10-09T02:03:45.123Z"
   },
   {
    "duration": 28,
    "start_time": "2023-10-09T02:03:46.139Z"
   },
   {
    "duration": 757,
    "start_time": "2023-10-09T02:03:47.984Z"
   },
   {
    "duration": 50,
    "start_time": "2023-10-09T02:04:01.271Z"
   },
   {
    "duration": 42,
    "start_time": "2023-10-09T02:04:03.565Z"
   },
   {
    "duration": 188,
    "start_time": "2023-10-09T02:04:07.059Z"
   },
   {
    "duration": 716,
    "start_time": "2023-10-09T02:04:17.269Z"
   },
   {
    "duration": 369,
    "start_time": "2023-10-09T02:04:31.752Z"
   },
   {
    "duration": 158,
    "start_time": "2023-10-09T02:04:38.039Z"
   },
   {
    "duration": 218,
    "start_time": "2023-10-09T02:04:40.237Z"
   },
   {
    "duration": 163,
    "start_time": "2023-10-09T02:04:45.267Z"
   },
   {
    "duration": 284,
    "start_time": "2023-10-09T02:04:59.433Z"
   },
   {
    "duration": 102,
    "start_time": "2023-10-09T02:07:01.287Z"
   },
   {
    "duration": 172,
    "start_time": "2023-10-09T02:19:13.574Z"
   },
   {
    "duration": 164,
    "start_time": "2023-10-09T02:20:13.034Z"
   },
   {
    "duration": 118,
    "start_time": "2023-10-09T02:21:23.668Z"
   },
   {
    "duration": 153,
    "start_time": "2023-10-09T02:27:00.139Z"
   },
   {
    "duration": 9,
    "start_time": "2023-10-09T02:27:37.894Z"
   },
   {
    "duration": 8,
    "start_time": "2023-10-09T02:28:34.366Z"
   },
   {
    "duration": 6,
    "start_time": "2023-10-09T02:28:43.585Z"
   },
   {
    "duration": 39,
    "start_time": "2023-10-09T02:29:00.049Z"
   },
   {
    "duration": 3,
    "start_time": "2023-10-09T02:38:29.070Z"
   },
   {
    "duration": 339,
    "start_time": "2023-10-09T02:40:53.552Z"
   },
   {
    "duration": 103,
    "start_time": "2023-10-09T02:41:28.171Z"
   },
   {
    "duration": 91,
    "start_time": "2023-10-09T02:41:50.370Z"
   },
   {
    "duration": 8,
    "start_time": "2023-10-09T02:41:51.392Z"
   },
   {
    "duration": 133,
    "start_time": "2023-10-09T02:41:52.485Z"
   },
   {
    "duration": 16,
    "start_time": "2023-10-09T02:41:53.520Z"
   },
   {
    "duration": 2065,
    "start_time": "2023-10-09T02:41:54.590Z"
   },
   {
    "duration": 16,
    "start_time": "2023-10-09T02:41:56.896Z"
   },
   {
    "duration": 6,
    "start_time": "2023-10-09T02:41:57.588Z"
   },
   {
    "duration": 5,
    "start_time": "2023-10-09T02:41:58.861Z"
   },
   {
    "duration": 14,
    "start_time": "2023-10-09T02:42:00.125Z"
   },
   {
    "duration": 15,
    "start_time": "2023-10-09T02:42:02.430Z"
   },
   {
    "duration": 26,
    "start_time": "2023-10-09T02:42:03.652Z"
   },
   {
    "duration": 11,
    "start_time": "2023-10-09T02:42:05.071Z"
   },
   {
    "duration": 14,
    "start_time": "2023-10-09T02:42:05.727Z"
   },
   {
    "duration": 6,
    "start_time": "2023-10-09T02:42:21.222Z"
   },
   {
    "duration": 947,
    "start_time": "2023-10-09T02:42:22.100Z"
   },
   {
    "duration": 8,
    "start_time": "2023-10-09T02:42:27.674Z"
   },
   {
    "duration": 10,
    "start_time": "2023-10-09T02:42:30.615Z"
   },
   {
    "duration": 9,
    "start_time": "2023-10-09T02:42:33.716Z"
   },
   {
    "duration": 9,
    "start_time": "2023-10-09T02:42:35.216Z"
   },
   {
    "duration": 4,
    "start_time": "2023-10-09T02:42:36.238Z"
   },
   {
    "duration": 340,
    "start_time": "2023-10-09T02:42:39.182Z"
   },
   {
    "duration": 8,
    "start_time": "2023-10-09T02:42:40.354Z"
   },
   {
    "duration": 113,
    "start_time": "2023-10-09T02:42:43.562Z"
   },
   {
    "duration": 22,
    "start_time": "2023-10-09T02:42:44.770Z"
   },
   {
    "duration": 615,
    "start_time": "2023-10-09T02:42:47.270Z"
   },
   {
    "duration": 36,
    "start_time": "2023-10-09T02:42:49.820Z"
   },
   {
    "duration": 35,
    "start_time": "2023-10-09T02:42:52.820Z"
   },
   {
    "duration": 164,
    "start_time": "2023-10-09T02:43:06.191Z"
   },
   {
    "duration": 667,
    "start_time": "2023-10-09T02:43:09.251Z"
   },
   {
    "duration": 389,
    "start_time": "2023-10-09T02:43:10.238Z"
   },
   {
    "duration": 175,
    "start_time": "2023-10-09T02:43:12.479Z"
   },
   {
    "duration": 209,
    "start_time": "2023-10-09T02:43:13.623Z"
   },
   {
    "duration": 133,
    "start_time": "2023-10-09T02:43:17.138Z"
   },
   {
    "duration": 248,
    "start_time": "2023-10-09T02:43:18.725Z"
   },
   {
    "duration": 165,
    "start_time": "2023-10-09T02:43:22.115Z"
   },
   {
    "duration": 157,
    "start_time": "2023-10-09T02:43:23.101Z"
   },
   {
    "duration": 137,
    "start_time": "2023-10-09T02:43:25.227Z"
   },
   {
    "duration": 8,
    "start_time": "2023-10-09T02:43:29.360Z"
   },
   {
    "duration": 3,
    "start_time": "2023-10-09T02:43:32.598Z"
   },
   {
    "duration": 3,
    "start_time": "2023-10-09T02:44:07.616Z"
   },
   {
    "duration": 725,
    "start_time": "2023-10-09T02:47:32.606Z"
   },
   {
    "duration": 14,
    "start_time": "2023-10-09T02:47:34.997Z"
   },
   {
    "duration": 119,
    "start_time": "2023-10-09T02:47:37.024Z"
   },
   {
    "duration": 16,
    "start_time": "2023-10-09T02:47:39.030Z"
   },
   {
    "duration": 2362,
    "start_time": "2023-10-09T02:47:43.344Z"
   },
   {
    "duration": 11,
    "start_time": "2023-10-09T02:47:48.944Z"
   },
   {
    "duration": 5,
    "start_time": "2023-10-09T02:47:49.496Z"
   },
   {
    "duration": 4,
    "start_time": "2023-10-09T02:47:50.759Z"
   },
   {
    "duration": 20,
    "start_time": "2023-10-09T02:47:52.027Z"
   },
   {
    "duration": 15,
    "start_time": "2023-10-09T02:47:53.150Z"
   },
   {
    "duration": 46,
    "start_time": "2023-10-09T02:47:54.266Z"
   },
   {
    "duration": 11,
    "start_time": "2023-10-09T02:47:55.981Z"
   },
   {
    "duration": 15,
    "start_time": "2023-10-09T02:47:56.663Z"
   },
   {
    "duration": 20,
    "start_time": "2023-10-09T02:47:58.129Z"
   },
   {
    "duration": 7,
    "start_time": "2023-10-09T02:48:00.226Z"
   },
   {
    "duration": 849,
    "start_time": "2023-10-09T02:48:01.209Z"
   },
   {
    "duration": 9,
    "start_time": "2023-10-09T02:48:05.461Z"
   },
   {
    "duration": 8,
    "start_time": "2023-10-09T02:48:06.395Z"
   },
   {
    "duration": 11,
    "start_time": "2023-10-09T02:48:08.546Z"
   },
   {
    "duration": 9,
    "start_time": "2023-10-09T02:48:09.235Z"
   },
   {
    "duration": 4,
    "start_time": "2023-10-09T02:48:09.919Z"
   },
   {
    "duration": 323,
    "start_time": "2023-10-09T02:48:10.963Z"
   },
   {
    "duration": 8,
    "start_time": "2023-10-09T02:48:12.235Z"
   },
   {
    "duration": 116,
    "start_time": "2023-10-09T02:48:14.872Z"
   },
   {
    "duration": 26,
    "start_time": "2023-10-09T02:48:15.811Z"
   },
   {
    "duration": 693,
    "start_time": "2023-10-09T02:48:17.292Z"
   },
   {
    "duration": 39,
    "start_time": "2023-10-09T02:48:28.835Z"
   },
   {
    "duration": 37,
    "start_time": "2023-10-09T02:48:45.381Z"
   },
   {
    "duration": 159,
    "start_time": "2023-10-09T02:49:00.626Z"
   },
   {
    "duration": 690,
    "start_time": "2023-10-09T02:49:04.222Z"
   },
   {
    "duration": 319,
    "start_time": "2023-10-09T02:49:10.440Z"
   },
   {
    "duration": 263,
    "start_time": "2023-10-09T02:49:21.841Z"
   },
   {
    "duration": 196,
    "start_time": "2023-10-09T02:49:23.235Z"
   },
   {
    "duration": 144,
    "start_time": "2023-10-09T02:49:26.701Z"
   },
   {
    "duration": 259,
    "start_time": "2023-10-09T02:49:30.398Z"
   },
   {
    "duration": 144,
    "start_time": "2023-10-09T02:49:43.762Z"
   },
   {
    "duration": 151,
    "start_time": "2023-10-09T02:49:46.947Z"
   },
   {
    "duration": 161,
    "start_time": "2023-10-09T02:49:56.999Z"
   },
   {
    "duration": 3,
    "start_time": "2023-10-09T02:50:28.885Z"
   },
   {
    "duration": 288,
    "start_time": "2023-10-09T02:50:30.026Z"
   },
   {
    "duration": 128,
    "start_time": "2023-10-09T02:54:26.255Z"
   },
   {
    "duration": 130,
    "start_time": "2023-10-09T02:55:02.774Z"
   },
   {
    "duration": 266,
    "start_time": "2023-10-09T02:55:23.344Z"
   },
   {
    "duration": 162,
    "start_time": "2023-10-09T02:56:37.830Z"
   },
   {
    "duration": 129,
    "start_time": "2023-10-09T02:58:16.584Z"
   },
   {
    "duration": 179,
    "start_time": "2023-10-09T03:00:42.843Z"
   },
   {
    "duration": 128,
    "start_time": "2023-10-09T03:03:31.238Z"
   },
   {
    "duration": 235,
    "start_time": "2023-10-09T03:04:18.786Z"
   },
   {
    "duration": 123,
    "start_time": "2023-10-09T03:05:09.076Z"
   },
   {
    "duration": 279,
    "start_time": "2023-10-09T03:05:14.637Z"
   },
   {
    "duration": 130,
    "start_time": "2023-10-09T03:05:25.952Z"
   },
   {
    "duration": 242,
    "start_time": "2023-10-09T03:07:13.333Z"
   },
   {
    "duration": 109,
    "start_time": "2023-10-09T03:07:49.003Z"
   },
   {
    "duration": 135,
    "start_time": "2023-10-09T03:26:31.886Z"
   },
   {
    "duration": 268,
    "start_time": "2023-10-09T03:30:48.320Z"
   },
   {
    "duration": 73,
    "start_time": "2023-10-09T03:33:34.752Z"
   },
   {
    "duration": 142,
    "start_time": "2023-10-09T03:33:41.856Z"
   },
   {
    "duration": 392,
    "start_time": "2023-10-09T03:34:33.401Z"
   },
   {
    "duration": 12,
    "start_time": "2023-10-09T03:36:42.355Z"
   },
   {
    "duration": 6,
    "start_time": "2023-10-09T03:43:47.311Z"
   },
   {
    "duration": 40,
    "start_time": "2023-10-09T03:44:38.103Z"
   },
   {
    "duration": 28,
    "start_time": "2023-10-09T03:45:11.990Z"
   },
   {
    "duration": 12,
    "start_time": "2023-10-09T03:46:39.701Z"
   },
   {
    "duration": 7,
    "start_time": "2023-10-09T03:47:16.796Z"
   },
   {
    "duration": 8,
    "start_time": "2023-10-09T03:47:34.618Z"
   },
   {
    "duration": 9,
    "start_time": "2023-10-09T03:49:04.636Z"
   },
   {
    "duration": 2,
    "start_time": "2023-10-09T03:58:27.246Z"
   },
   {
    "duration": 3,
    "start_time": "2023-10-09T04:04:35.520Z"
   },
   {
    "duration": 153,
    "start_time": "2023-10-09T04:06:46.949Z"
   },
   {
    "duration": 18,
    "start_time": "2023-10-09T04:32:41.495Z"
   },
   {
    "duration": 16,
    "start_time": "2023-10-09T04:35:20.271Z"
   },
   {
    "duration": 48,
    "start_time": "2023-10-09T21:27:43.323Z"
   },
   {
    "duration": 6,
    "start_time": "2023-10-09T21:28:01.234Z"
   },
   {
    "duration": 569,
    "start_time": "2023-10-09T21:28:22.623Z"
   },
   {
    "duration": 13,
    "start_time": "2023-10-09T21:28:23.194Z"
   },
   {
    "duration": 94,
    "start_time": "2023-10-09T21:28:23.209Z"
   },
   {
    "duration": 14,
    "start_time": "2023-10-09T21:28:23.305Z"
   },
   {
    "duration": 2329,
    "start_time": "2023-10-09T21:28:23.321Z"
   },
   {
    "duration": 11,
    "start_time": "2023-10-09T21:28:25.652Z"
   },
   {
    "duration": 25,
    "start_time": "2023-10-09T21:28:25.665Z"
   },
   {
    "duration": 33,
    "start_time": "2023-10-09T21:28:25.692Z"
   },
   {
    "duration": 32,
    "start_time": "2023-10-09T21:28:25.727Z"
   },
   {
    "duration": 15,
    "start_time": "2023-10-09T21:28:25.761Z"
   },
   {
    "duration": 44,
    "start_time": "2023-10-09T21:28:25.778Z"
   },
   {
    "duration": 11,
    "start_time": "2023-10-09T21:28:25.823Z"
   },
   {
    "duration": 30,
    "start_time": "2023-10-09T21:28:25.835Z"
   },
   {
    "duration": 24,
    "start_time": "2023-10-09T21:28:25.867Z"
   },
   {
    "duration": 6,
    "start_time": "2023-10-09T21:28:25.892Z"
   },
   {
    "duration": 833,
    "start_time": "2023-10-09T21:28:25.900Z"
   },
   {
    "duration": 16,
    "start_time": "2023-10-09T21:28:26.735Z"
   },
   {
    "duration": 15,
    "start_time": "2023-10-09T21:28:26.753Z"
   },
   {
    "duration": 8,
    "start_time": "2023-10-09T21:28:26.770Z"
   },
   {
    "duration": 15,
    "start_time": "2023-10-09T21:28:26.779Z"
   },
   {
    "duration": 4,
    "start_time": "2023-10-09T21:28:26.796Z"
   },
   {
    "duration": 329,
    "start_time": "2023-10-09T21:28:26.802Z"
   },
   {
    "duration": 14,
    "start_time": "2023-10-09T21:28:27.132Z"
   },
   {
    "duration": 121,
    "start_time": "2023-10-09T21:28:27.148Z"
   },
   {
    "duration": 23,
    "start_time": "2023-10-09T21:28:27.271Z"
   },
   {
    "duration": 681,
    "start_time": "2023-10-09T21:28:27.296Z"
   },
   {
    "duration": 34,
    "start_time": "2023-10-09T21:28:27.978Z"
   },
   {
    "duration": 40,
    "start_time": "2023-10-09T21:28:28.015Z"
   },
   {
    "duration": 5,
    "start_time": "2023-10-09T21:28:28.056Z"
   },
   {
    "duration": 94,
    "start_time": "2023-10-09T21:34:49.265Z"
   },
   {
    "duration": 89,
    "start_time": "2023-10-09T21:35:25.233Z"
   },
   {
    "duration": 6,
    "start_time": "2023-10-09T21:35:41.181Z"
   },
   {
    "duration": 42,
    "start_time": "2023-10-09T21:40:53.842Z"
   },
   {
    "duration": 43,
    "start_time": "2023-10-09T21:45:19.243Z"
   },
   {
    "duration": 8,
    "start_time": "2023-10-09T21:46:16.728Z"
   },
   {
    "duration": 1709,
    "start_time": "2023-10-09T21:46:26.983Z"
   },
   {
    "duration": 4,
    "start_time": "2023-10-09T21:46:40.244Z"
   },
   {
    "duration": 7,
    "start_time": "2023-10-09T21:47:42.095Z"
   },
   {
    "duration": 5,
    "start_time": "2023-10-09T21:48:19.477Z"
   },
   {
    "duration": 789,
    "start_time": "2023-10-10T16:14:59.115Z"
   },
   {
    "duration": 14,
    "start_time": "2023-10-10T16:14:59.906Z"
   },
   {
    "duration": 139,
    "start_time": "2023-10-10T16:14:59.921Z"
   },
   {
    "duration": 15,
    "start_time": "2023-10-10T16:15:00.062Z"
   },
   {
    "duration": 3459,
    "start_time": "2023-10-10T16:15:00.079Z"
   },
   {
    "duration": 15,
    "start_time": "2023-10-10T16:15:03.540Z"
   },
   {
    "duration": 112,
    "start_time": "2023-10-10T16:15:03.556Z"
   },
   {
    "duration": 83,
    "start_time": "2023-10-10T16:15:03.671Z"
   },
   {
    "duration": 50,
    "start_time": "2023-10-10T16:15:03.756Z"
   },
   {
    "duration": 161,
    "start_time": "2023-10-10T16:15:03.808Z"
   },
   {
    "duration": 82,
    "start_time": "2023-10-10T16:15:03.971Z"
   },
   {
    "duration": 32,
    "start_time": "2023-10-10T16:15:04.055Z"
   },
   {
    "duration": 54,
    "start_time": "2023-10-10T16:15:04.088Z"
   },
   {
    "duration": 72,
    "start_time": "2023-10-10T16:15:04.146Z"
   },
   {
    "duration": 44,
    "start_time": "2023-10-10T16:15:04.220Z"
   },
   {
    "duration": 1017,
    "start_time": "2023-10-10T16:15:04.266Z"
   },
   {
    "duration": 8,
    "start_time": "2023-10-10T16:15:05.285Z"
   },
   {
    "duration": 58,
    "start_time": "2023-10-10T16:15:05.295Z"
   },
   {
    "duration": 50,
    "start_time": "2023-10-10T16:15:05.355Z"
   },
   {
    "duration": 35,
    "start_time": "2023-10-10T16:15:05.406Z"
   },
   {
    "duration": 27,
    "start_time": "2023-10-10T16:15:05.443Z"
   },
   {
    "duration": 466,
    "start_time": "2023-10-10T16:15:05.473Z"
   },
   {
    "duration": 15,
    "start_time": "2023-10-10T16:15:05.940Z"
   },
   {
    "duration": 189,
    "start_time": "2023-10-10T16:15:05.958Z"
   },
   {
    "duration": 32,
    "start_time": "2023-10-10T16:15:06.149Z"
   },
   {
    "duration": 787,
    "start_time": "2023-10-10T16:15:06.183Z"
   },
   {
    "duration": 51,
    "start_time": "2023-10-10T16:15:06.973Z"
   },
   {
    "duration": 171,
    "start_time": "2023-10-10T16:15:07.030Z"
   },
   {
    "duration": 97,
    "start_time": "2023-10-10T16:15:07.202Z"
   },
   {
    "duration": 314,
    "start_time": "2023-10-10T16:15:07.301Z"
   },
   {
    "duration": 218,
    "start_time": "2023-10-10T16:15:07.617Z"
   },
   {
    "duration": 663,
    "start_time": "2023-10-10T16:15:07.840Z"
   },
   {
    "duration": 483,
    "start_time": "2023-10-10T16:15:08.505Z"
   },
   {
    "duration": 172,
    "start_time": "2023-10-10T16:15:08.990Z"
   },
   {
    "duration": 220,
    "start_time": "2023-10-10T16:15:09.164Z"
   },
   {
    "duration": 160,
    "start_time": "2023-10-10T16:15:09.385Z"
   },
   {
    "duration": 258,
    "start_time": "2023-10-10T16:15:09.551Z"
   },
   {
    "duration": 160,
    "start_time": "2023-10-10T16:15:09.811Z"
   },
   {
    "duration": 168,
    "start_time": "2023-10-10T16:15:09.973Z"
   },
   {
    "duration": 170,
    "start_time": "2023-10-10T16:15:10.144Z"
   },
   {
    "duration": 21,
    "start_time": "2023-10-10T16:15:10.316Z"
   },
   {
    "duration": 20,
    "start_time": "2023-10-10T16:15:10.339Z"
   },
   {
    "duration": 501,
    "start_time": "2023-10-10T16:15:10.362Z"
   },
   {
    "duration": 171,
    "start_time": "2023-10-10T16:15:10.865Z"
   },
   {
    "duration": 142,
    "start_time": "2023-10-10T16:15:11.038Z"
   },
   {
    "duration": 156,
    "start_time": "2023-10-10T16:15:11.181Z"
   },
   {
    "duration": 267,
    "start_time": "2023-10-10T16:15:11.339Z"
   },
   {
    "duration": 161,
    "start_time": "2023-10-10T16:15:11.607Z"
   },
   {
    "duration": 285,
    "start_time": "2023-10-10T16:15:11.769Z"
   },
   {
    "duration": 158,
    "start_time": "2023-10-10T16:15:12.055Z"
   },
   {
    "duration": 180,
    "start_time": "2023-10-10T16:15:12.215Z"
   },
   {
    "duration": 6,
    "start_time": "2023-10-10T16:15:12.396Z"
   },
   {
    "duration": 88,
    "start_time": "2023-10-10T16:34:13.488Z"
   },
   {
    "duration": 417,
    "start_time": "2023-10-10T16:36:18.834Z"
   },
   {
    "duration": 17,
    "start_time": "2023-10-10T16:37:08.110Z"
   },
   {
    "duration": 29,
    "start_time": "2023-10-10T16:37:42.920Z"
   },
   {
    "duration": 6,
    "start_time": "2023-10-10T16:39:29.645Z"
   },
   {
    "duration": 6,
    "start_time": "2023-10-10T16:39:36.467Z"
   },
   {
    "duration": 43,
    "start_time": "2023-10-10T16:41:47.672Z"
   },
   {
    "duration": 143,
    "start_time": "2023-10-10T16:42:34.663Z"
   },
   {
    "duration": 137,
    "start_time": "2023-10-10T16:43:07.179Z"
   },
   {
    "duration": 125,
    "start_time": "2023-10-10T16:46:02.133Z"
   },
   {
    "duration": 131,
    "start_time": "2023-10-10T16:46:43.686Z"
   },
   {
    "duration": 5,
    "start_time": "2023-10-10T16:46:53.210Z"
   },
   {
    "duration": 264,
    "start_time": "2023-10-10T16:50:01.682Z"
   },
   {
    "duration": 370,
    "start_time": "2023-10-10T16:51:46.971Z"
   },
   {
    "duration": 979,
    "start_time": "2023-10-11T05:03:27.091Z"
   },
   {
    "duration": 17,
    "start_time": "2023-10-11T05:03:28.072Z"
   },
   {
    "duration": 175,
    "start_time": "2023-10-11T05:03:28.091Z"
   },
   {
    "duration": 17,
    "start_time": "2023-10-11T05:03:28.275Z"
   },
   {
    "duration": 3268,
    "start_time": "2023-10-11T05:03:28.294Z"
   },
   {
    "duration": 14,
    "start_time": "2023-10-11T05:03:31.565Z"
   },
   {
    "duration": 50,
    "start_time": "2023-10-11T05:03:31.580Z"
   },
   {
    "duration": 45,
    "start_time": "2023-10-11T05:03:31.632Z"
   },
   {
    "duration": 64,
    "start_time": "2023-10-11T05:03:31.679Z"
   },
   {
    "duration": 28,
    "start_time": "2023-10-11T05:03:31.746Z"
   },
   {
    "duration": 93,
    "start_time": "2023-10-11T05:03:31.776Z"
   },
   {
    "duration": 272,
    "start_time": "2023-10-11T05:03:31.871Z"
   },
   {
    "duration": 78,
    "start_time": "2023-10-11T05:03:32.145Z"
   },
   {
    "duration": 60,
    "start_time": "2023-10-11T05:03:32.225Z"
   },
   {
    "duration": 59,
    "start_time": "2023-10-11T05:03:32.287Z"
   },
   {
    "duration": 1407,
    "start_time": "2023-10-11T05:03:32.352Z"
   },
   {
    "duration": 13,
    "start_time": "2023-10-11T05:03:33.764Z"
   },
   {
    "duration": 60,
    "start_time": "2023-10-11T05:03:33.779Z"
   },
   {
    "duration": 19,
    "start_time": "2023-10-11T05:03:33.841Z"
   },
   {
    "duration": 54,
    "start_time": "2023-10-11T05:03:33.863Z"
   },
   {
    "duration": 17,
    "start_time": "2023-10-11T05:03:33.919Z"
   },
   {
    "duration": 507,
    "start_time": "2023-10-11T05:03:33.938Z"
   },
   {
    "duration": 11,
    "start_time": "2023-10-11T05:03:34.447Z"
   },
   {
    "duration": 174,
    "start_time": "2023-10-11T05:03:34.459Z"
   },
   {
    "duration": 37,
    "start_time": "2023-10-11T05:03:34.643Z"
   },
   {
    "duration": 968,
    "start_time": "2023-10-11T05:03:34.683Z"
   },
   {
    "duration": 50,
    "start_time": "2023-10-11T05:03:35.655Z"
   },
   {
    "duration": 173,
    "start_time": "2023-10-11T05:03:35.713Z"
   },
   {
    "duration": 27,
    "start_time": "2023-10-11T05:03:35.888Z"
   },
   {
    "duration": 82,
    "start_time": "2023-10-11T05:03:35.917Z"
   },
   {
    "duration": 210,
    "start_time": "2023-10-11T05:03:36.001Z"
   },
   {
    "duration": 774,
    "start_time": "2023-10-11T05:03:36.213Z"
   },
   {
    "duration": 576,
    "start_time": "2023-10-11T05:03:36.989Z"
   },
   {
    "duration": 179,
    "start_time": "2023-10-11T05:03:37.571Z"
   },
   {
    "duration": 286,
    "start_time": "2023-10-11T05:03:37.752Z"
   },
   {
    "duration": 178,
    "start_time": "2023-10-11T05:03:38.040Z"
   },
   {
    "duration": 433,
    "start_time": "2023-10-11T05:03:38.220Z"
   },
   {
    "duration": 228,
    "start_time": "2023-10-11T05:03:38.655Z"
   },
   {
    "duration": 250,
    "start_time": "2023-10-11T05:03:38.885Z"
   },
   {
    "duration": 199,
    "start_time": "2023-10-11T05:03:39.139Z"
   },
   {
    "duration": 8,
    "start_time": "2023-10-11T05:03:39.339Z"
   },
   {
    "duration": 14,
    "start_time": "2023-10-11T05:03:39.350Z"
   },
   {
    "duration": 541,
    "start_time": "2023-10-11T05:03:39.366Z"
   },
   {
    "duration": 16,
    "start_time": "2023-10-11T05:03:39.909Z"
   },
   {
    "duration": 63,
    "start_time": "2023-10-11T05:03:39.928Z"
   },
   {
    "duration": 263,
    "start_time": "2023-10-11T05:03:39.993Z"
   },
   {
    "duration": 134,
    "start_time": "2023-10-11T05:03:40.258Z"
   },
   {
    "duration": 188,
    "start_time": "2023-10-11T05:03:40.393Z"
   },
   {
    "duration": 313,
    "start_time": "2023-10-11T05:03:40.583Z"
   },
   {
    "duration": 192,
    "start_time": "2023-10-11T05:03:40.901Z"
   },
   {
    "duration": 341,
    "start_time": "2023-10-11T05:03:41.095Z"
   },
   {
    "duration": 182,
    "start_time": "2023-10-11T05:03:41.446Z"
   },
   {
    "duration": 196,
    "start_time": "2023-10-11T05:03:41.634Z"
   },
   {
    "duration": 21,
    "start_time": "2023-10-11T05:03:41.839Z"
   },
   {
    "duration": 368,
    "start_time": "2023-10-11T05:03:41.862Z"
   },
   {
    "duration": 319,
    "start_time": "2023-10-11T05:03:42.232Z"
   },
   {
    "duration": 114,
    "start_time": "2023-10-11T05:03:42.558Z"
   },
   {
    "duration": 0,
    "start_time": "2023-10-11T05:03:42.674Z"
   },
   {
    "duration": 172,
    "start_time": "2023-10-11T05:24:05.797Z"
   },
   {
    "duration": 52,
    "start_time": "2023-10-11T05:24:13.827Z"
   },
   {
    "duration": 17,
    "start_time": "2023-10-11T05:37:28.191Z"
   },
   {
    "duration": 268,
    "start_time": "2023-10-11T05:37:38.856Z"
   },
   {
    "duration": 215,
    "start_time": "2023-10-11T05:49:54.467Z"
   },
   {
    "duration": 115,
    "start_time": "2023-10-11T05:50:33.241Z"
   },
   {
    "duration": 332,
    "start_time": "2023-10-11T05:52:20.967Z"
   },
   {
    "duration": 230,
    "start_time": "2023-10-11T05:54:35.552Z"
   },
   {
    "duration": 257,
    "start_time": "2023-10-11T05:57:30.991Z"
   },
   {
    "duration": 246,
    "start_time": "2023-10-11T06:02:54.162Z"
   },
   {
    "duration": 331,
    "start_time": "2023-10-11T06:03:04.948Z"
   },
   {
    "duration": 167,
    "start_time": "2023-10-11T06:07:13.616Z"
   },
   {
    "duration": 253,
    "start_time": "2023-10-11T06:27:59.440Z"
   },
   {
    "duration": 238,
    "start_time": "2023-10-11T06:39:53.722Z"
   },
   {
    "duration": 175,
    "start_time": "2023-10-11T06:42:28.792Z"
   },
   {
    "duration": 2364,
    "start_time": "2023-10-11T06:43:52.263Z"
   },
   {
    "duration": 271,
    "start_time": "2023-10-11T06:46:39.535Z"
   },
   {
    "duration": 281,
    "start_time": "2023-10-11T06:47:14.627Z"
   },
   {
    "duration": 122,
    "start_time": "2023-10-11T06:48:05.298Z"
   },
   {
    "duration": 242,
    "start_time": "2023-10-11T06:49:29.730Z"
   },
   {
    "duration": 179,
    "start_time": "2023-10-11T06:51:30.116Z"
   },
   {
    "duration": 116,
    "start_time": "2023-10-11T06:54:18.253Z"
   },
   {
    "duration": 35,
    "start_time": "2023-10-11T07:15:32.246Z"
   },
   {
    "duration": 11,
    "start_time": "2023-10-11T07:20:48.735Z"
   },
   {
    "duration": 49,
    "start_time": "2023-10-11T07:22:13.475Z"
   },
   {
    "duration": 59,
    "start_time": "2023-10-11T07:22:39.926Z"
   },
   {
    "duration": 57,
    "start_time": "2023-10-11T07:23:02.323Z"
   },
   {
    "duration": 29,
    "start_time": "2023-10-11T07:23:30.445Z"
   },
   {
    "duration": 16,
    "start_time": "2023-10-11T07:24:41.878Z"
   },
   {
    "duration": 17,
    "start_time": "2023-10-11T07:24:46.831Z"
   },
   {
    "duration": 18,
    "start_time": "2023-10-11T07:24:51.454Z"
   },
   {
    "duration": 38,
    "start_time": "2023-10-11T07:25:14.550Z"
   },
   {
    "duration": 13,
    "start_time": "2023-10-11T07:39:34.501Z"
   },
   {
    "duration": 40,
    "start_time": "2023-10-11T07:39:45.378Z"
   },
   {
    "duration": 17,
    "start_time": "2023-10-11T07:40:18.471Z"
   },
   {
    "duration": 25,
    "start_time": "2023-10-11T07:40:25.052Z"
   },
   {
    "duration": 48,
    "start_time": "2023-10-11T07:41:21.885Z"
   },
   {
    "duration": 40,
    "start_time": "2023-10-11T07:43:00.326Z"
   },
   {
    "duration": 12,
    "start_time": "2023-10-11T07:49:14.027Z"
   },
   {
    "duration": 137,
    "start_time": "2023-10-11T07:49:29.775Z"
   },
   {
    "duration": 14,
    "start_time": "2023-10-11T07:49:29.915Z"
   },
   {
    "duration": 185,
    "start_time": "2023-10-11T07:49:29.931Z"
   },
   {
    "duration": 41,
    "start_time": "2023-10-11T07:49:30.124Z"
   },
   {
    "duration": 3407,
    "start_time": "2023-10-11T07:49:30.171Z"
   },
   {
    "duration": 35,
    "start_time": "2023-10-11T07:49:33.581Z"
   },
   {
    "duration": 23,
    "start_time": "2023-10-11T07:49:33.619Z"
   },
   {
    "duration": 15,
    "start_time": "2023-10-11T07:49:33.645Z"
   },
   {
    "duration": 25,
    "start_time": "2023-10-11T07:49:33.665Z"
   },
   {
    "duration": 30,
    "start_time": "2023-10-11T07:49:33.695Z"
   },
   {
    "duration": 249,
    "start_time": "2023-10-11T07:49:33.726Z"
   },
   {
    "duration": 35,
    "start_time": "2023-10-11T07:49:33.978Z"
   },
   {
    "duration": 32,
    "start_time": "2023-10-11T07:49:34.015Z"
   },
   {
    "duration": 33,
    "start_time": "2023-10-11T07:49:34.050Z"
   },
   {
    "duration": 20,
    "start_time": "2023-10-11T07:49:34.085Z"
   },
   {
    "duration": 1728,
    "start_time": "2023-10-11T07:49:34.111Z"
   },
   {
    "duration": 19,
    "start_time": "2023-10-11T07:49:35.843Z"
   },
   {
    "duration": 182,
    "start_time": "2023-10-11T07:49:35.866Z"
   },
   {
    "duration": 84,
    "start_time": "2023-10-11T07:49:36.051Z"
   },
   {
    "duration": 36,
    "start_time": "2023-10-11T07:49:36.138Z"
   },
   {
    "duration": 39,
    "start_time": "2023-10-11T07:49:36.176Z"
   },
   {
    "duration": 582,
    "start_time": "2023-10-11T07:49:36.222Z"
   },
   {
    "duration": 15,
    "start_time": "2023-10-11T07:49:36.806Z"
   },
   {
    "duration": 198,
    "start_time": "2023-10-11T07:49:36.827Z"
   },
   {
    "duration": 39,
    "start_time": "2023-10-11T07:49:37.028Z"
   },
   {
    "duration": 1055,
    "start_time": "2023-10-11T07:49:37.070Z"
   },
   {
    "duration": 60,
    "start_time": "2023-10-11T07:49:38.127Z"
   },
   {
    "duration": 122,
    "start_time": "2023-10-11T07:49:38.206Z"
   },
   {
    "duration": 287,
    "start_time": "2023-10-11T07:49:38.337Z"
   },
   {
    "duration": 179,
    "start_time": "2023-10-11T07:49:38.629Z"
   },
   {
    "duration": 222,
    "start_time": "2023-10-11T07:49:38.811Z"
   },
   {
    "duration": 1014,
    "start_time": "2023-10-11T07:49:39.062Z"
   },
   {
    "duration": 775,
    "start_time": "2023-10-11T07:49:40.079Z"
   },
   {
    "duration": 281,
    "start_time": "2023-10-11T07:49:40.856Z"
   },
   {
    "duration": 344,
    "start_time": "2023-10-11T07:49:41.144Z"
   },
   {
    "duration": 218,
    "start_time": "2023-10-11T07:49:41.491Z"
   },
   {
    "duration": 414,
    "start_time": "2023-10-11T07:49:41.711Z"
   },
   {
    "duration": 233,
    "start_time": "2023-10-11T07:49:42.127Z"
   },
   {
    "duration": 211,
    "start_time": "2023-10-11T07:49:42.363Z"
   },
   {
    "duration": 237,
    "start_time": "2023-10-11T07:49:42.578Z"
   },
   {
    "duration": 8,
    "start_time": "2023-10-11T07:49:42.817Z"
   },
   {
    "duration": 25,
    "start_time": "2023-10-11T07:49:42.827Z"
   },
   {
    "duration": 520,
    "start_time": "2023-10-11T07:49:42.855Z"
   },
   {
    "duration": 25,
    "start_time": "2023-10-11T07:49:43.378Z"
   },
   {
    "duration": 78,
    "start_time": "2023-10-11T07:49:43.409Z"
   },
   {
    "duration": 194,
    "start_time": "2023-10-11T07:49:43.489Z"
   },
   {
    "duration": 157,
    "start_time": "2023-10-11T07:49:43.685Z"
   },
   {
    "duration": 233,
    "start_time": "2023-10-11T07:49:43.844Z"
   },
   {
    "duration": 414,
    "start_time": "2023-10-11T07:49:44.080Z"
   },
   {
    "duration": 295,
    "start_time": "2023-10-11T07:49:44.496Z"
   },
   {
    "duration": 429,
    "start_time": "2023-10-11T07:49:44.795Z"
   },
   {
    "duration": 201,
    "start_time": "2023-10-11T07:49:45.230Z"
   },
   {
    "duration": 223,
    "start_time": "2023-10-11T07:49:45.436Z"
   },
   {
    "duration": 8,
    "start_time": "2023-10-11T07:49:45.666Z"
   },
   {
    "duration": 822,
    "start_time": "2023-10-11T07:49:45.677Z"
   },
   {
    "duration": 443,
    "start_time": "2023-10-11T07:49:46.507Z"
   },
   {
    "duration": 303,
    "start_time": "2023-10-11T07:49:46.953Z"
   },
   {
    "duration": 312,
    "start_time": "2023-10-11T07:49:47.261Z"
   },
   {
    "duration": 255,
    "start_time": "2023-10-11T07:49:47.575Z"
   },
   {
    "duration": 282,
    "start_time": "2023-10-11T07:49:47.833Z"
   },
   {
    "duration": 363,
    "start_time": "2023-10-11T07:49:48.136Z"
   },
   {
    "duration": 274,
    "start_time": "2023-10-11T07:49:48.506Z"
   },
   {
    "duration": 346,
    "start_time": "2023-10-11T07:49:48.782Z"
   },
   {
    "duration": 279,
    "start_time": "2023-10-11T07:49:49.134Z"
   },
   {
    "duration": 22,
    "start_time": "2023-10-11T07:49:49.424Z"
   },
   {
    "duration": 99,
    "start_time": "2023-10-11T07:49:49.454Z"
   },
   {
    "duration": 21,
    "start_time": "2023-10-11T07:49:49.558Z"
   },
   {
    "duration": 84,
    "start_time": "2023-10-11T07:49:49.581Z"
   },
   {
    "duration": 158,
    "start_time": "2023-10-11T07:49:49.667Z"
   },
   {
    "duration": 0,
    "start_time": "2023-10-11T07:49:49.828Z"
   },
   {
    "duration": 0,
    "start_time": "2023-10-11T07:49:49.830Z"
   },
   {
    "duration": 0,
    "start_time": "2023-10-11T07:49:49.831Z"
   },
   {
    "duration": 11,
    "start_time": "2023-10-11T07:51:01.672Z"
   },
   {
    "duration": 40,
    "start_time": "2023-10-11T07:54:25.167Z"
   },
   {
    "duration": 25,
    "start_time": "2023-10-11T07:54:52.674Z"
   },
   {
    "duration": 36,
    "start_time": "2023-10-11T07:55:02.347Z"
   },
   {
    "duration": 40,
    "start_time": "2023-10-11T07:55:26.627Z"
   },
   {
    "duration": 36,
    "start_time": "2023-10-11T07:55:38.284Z"
   },
   {
    "duration": 16,
    "start_time": "2023-10-11T08:03:23.841Z"
   },
   {
    "duration": 51,
    "start_time": "2023-10-11T08:03:34.287Z"
   },
   {
    "duration": 13,
    "start_time": "2023-10-11T08:08:55.283Z"
   },
   {
    "duration": 220,
    "start_time": "2023-10-11T08:09:30.070Z"
   },
   {
    "duration": 227,
    "start_time": "2023-10-11T08:10:22.526Z"
   },
   {
    "duration": 199,
    "start_time": "2023-10-11T08:11:12.694Z"
   },
   {
    "duration": 223,
    "start_time": "2023-10-11T08:11:35.134Z"
   },
   {
    "duration": 49,
    "start_time": "2023-10-11T08:11:48.763Z"
   },
   {
    "duration": 11,
    "start_time": "2023-10-11T08:11:53.141Z"
   },
   {
    "duration": 12,
    "start_time": "2023-10-11T08:11:58.402Z"
   },
   {
    "duration": 55,
    "start_time": "2023-10-11T08:12:45.400Z"
   },
   {
    "duration": 40,
    "start_time": "2023-10-11T08:15:03.897Z"
   },
   {
    "duration": 35,
    "start_time": "2023-10-11T08:16:23.174Z"
   },
   {
    "duration": 11,
    "start_time": "2023-10-11T08:16:41.879Z"
   },
   {
    "duration": 171,
    "start_time": "2023-10-11T08:20:29.364Z"
   },
   {
    "duration": 17,
    "start_time": "2023-10-11T08:20:54.243Z"
   },
   {
    "duration": 41,
    "start_time": "2023-10-11T08:23:05.922Z"
   },
   {
    "duration": 50,
    "start_time": "2023-10-11T08:23:54.886Z"
   },
   {
    "duration": 10,
    "start_time": "2023-10-11T08:24:43.564Z"
   },
   {
    "duration": 12,
    "start_time": "2023-10-11T08:25:54.563Z"
   },
   {
    "duration": 14,
    "start_time": "2023-10-11T08:26:01.746Z"
   },
   {
    "duration": 32,
    "start_time": "2023-10-11T08:26:07.297Z"
   },
   {
    "duration": 5,
    "start_time": "2023-10-11T08:26:18.088Z"
   },
   {
    "duration": 12,
    "start_time": "2023-10-11T08:26:20.240Z"
   },
   {
    "duration": 549,
    "start_time": "2023-10-11T08:27:03.040Z"
   },
   {
    "duration": 585,
    "start_time": "2023-10-11T08:27:25.710Z"
   },
   {
    "duration": 12,
    "start_time": "2023-10-11T08:27:40.947Z"
   },
   {
    "duration": 22,
    "start_time": "2023-10-11T08:27:49.225Z"
   },
   {
    "duration": 20,
    "start_time": "2023-10-11T08:28:16.409Z"
   },
   {
    "duration": 5,
    "start_time": "2023-10-11T08:29:42.882Z"
   },
   {
    "duration": 15,
    "start_time": "2023-10-11T08:31:03.938Z"
   },
   {
    "duration": 12,
    "start_time": "2023-10-11T08:31:13.164Z"
   },
   {
    "duration": 11,
    "start_time": "2023-10-11T08:31:23.233Z"
   },
   {
    "duration": 13,
    "start_time": "2023-10-11T08:31:54.439Z"
   },
   {
    "duration": 15,
    "start_time": "2023-10-11T08:32:02.373Z"
   },
   {
    "duration": 15,
    "start_time": "2023-10-11T08:32:07.757Z"
   },
   {
    "duration": 12,
    "start_time": "2023-10-11T08:32:45.279Z"
   },
   {
    "duration": 30,
    "start_time": "2023-10-11T08:35:58.145Z"
   },
   {
    "duration": 23,
    "start_time": "2023-10-11T08:36:57.593Z"
   },
   {
    "duration": 24,
    "start_time": "2023-10-11T08:37:44.689Z"
   },
   {
    "duration": 9,
    "start_time": "2023-10-11T08:38:08.365Z"
   },
   {
    "duration": 32,
    "start_time": "2023-10-11T08:42:19.264Z"
   },
   {
    "duration": 31,
    "start_time": "2023-10-11T08:42:54.127Z"
   },
   {
    "duration": 24,
    "start_time": "2023-10-11T08:43:04.128Z"
   },
   {
    "duration": 42,
    "start_time": "2023-10-11T08:43:35.289Z"
   },
   {
    "duration": 48,
    "start_time": "2023-10-11T08:44:18.333Z"
   },
   {
    "duration": 37,
    "start_time": "2023-10-11T08:45:01.735Z"
   },
   {
    "duration": 220,
    "start_time": "2023-10-11T08:46:34.145Z"
   },
   {
    "duration": 217,
    "start_time": "2023-10-11T08:46:41.689Z"
   },
   {
    "duration": 130,
    "start_time": "2023-10-11T08:48:03.215Z"
   },
   {
    "duration": 3,
    "start_time": "2023-10-11T08:51:59.524Z"
   },
   {
    "duration": 493,
    "start_time": "2023-10-11T08:55:21.786Z"
   },
   {
    "duration": 56,
    "start_time": "2023-10-11T08:55:30.788Z"
   },
   {
    "duration": 18,
    "start_time": "2023-10-11T09:11:16.701Z"
   },
   {
    "duration": 14,
    "start_time": "2023-10-11T09:11:36.526Z"
   },
   {
    "duration": 13,
    "start_time": "2023-10-11T09:13:38.635Z"
   },
   {
    "duration": 13,
    "start_time": "2023-10-11T09:13:56.199Z"
   },
   {
    "duration": 10,
    "start_time": "2023-10-11T09:24:50.370Z"
   },
   {
    "duration": 5,
    "start_time": "2023-10-11T09:25:05.275Z"
   },
   {
    "duration": 16,
    "start_time": "2023-10-11T09:25:10.728Z"
   },
   {
    "duration": 161,
    "start_time": "2023-10-11T09:25:54.239Z"
   },
   {
    "duration": 15,
    "start_time": "2023-10-11T09:26:05.079Z"
   },
   {
    "duration": 170,
    "start_time": "2023-10-11T09:29:08.843Z"
   },
   {
    "duration": 11,
    "start_time": "2023-10-11T09:29:16.181Z"
   },
   {
    "duration": 10,
    "start_time": "2023-10-11T09:29:35.574Z"
   },
   {
    "duration": 9,
    "start_time": "2023-10-11T09:30:53.060Z"
   },
   {
    "duration": 14,
    "start_time": "2023-10-11T09:31:56.871Z"
   },
   {
    "duration": 15,
    "start_time": "2023-10-11T09:32:06.923Z"
   },
   {
    "duration": 12,
    "start_time": "2023-10-11T09:34:14.486Z"
   },
   {
    "duration": 232,
    "start_time": "2023-10-11T09:34:24.897Z"
   },
   {
    "duration": 12,
    "start_time": "2023-10-11T09:36:08.365Z"
   },
   {
    "duration": 222,
    "start_time": "2023-10-11T09:36:54.007Z"
   },
   {
    "duration": 209,
    "start_time": "2023-10-11T09:41:14.427Z"
   },
   {
    "duration": 683,
    "start_time": "2023-10-11T09:43:13.934Z"
   },
   {
    "duration": 125,
    "start_time": "2023-10-11T10:22:26.380Z"
   },
   {
    "duration": 187,
    "start_time": "2023-10-11T10:43:37.096Z"
   },
   {
    "duration": 140,
    "start_time": "2023-10-11T10:44:35.858Z"
   },
   {
    "duration": 136,
    "start_time": "2023-10-11T11:06:56.687Z"
   },
   {
    "duration": 26,
    "start_time": "2023-10-11T11:06:56.831Z"
   },
   {
    "duration": 170,
    "start_time": "2023-10-11T11:06:56.870Z"
   },
   {
    "duration": 38,
    "start_time": "2023-10-11T11:06:57.043Z"
   },
   {
    "duration": 3215,
    "start_time": "2023-10-11T11:06:57.084Z"
   },
   {
    "duration": 48,
    "start_time": "2023-10-11T11:07:00.306Z"
   },
   {
    "duration": 402,
    "start_time": "2023-10-11T11:07:00.358Z"
   },
   {
    "duration": 278,
    "start_time": "2023-10-11T11:07:00.765Z"
   },
   {
    "duration": 280,
    "start_time": "2023-10-11T11:07:01.046Z"
   },
   {
    "duration": 251,
    "start_time": "2023-10-11T11:07:01.342Z"
   },
   {
    "duration": 120,
    "start_time": "2023-10-11T11:07:01.596Z"
   },
   {
    "duration": 339,
    "start_time": "2023-10-11T11:07:01.718Z"
   },
   {
    "duration": 76,
    "start_time": "2023-10-11T11:07:02.060Z"
   },
   {
    "duration": 75,
    "start_time": "2023-10-11T11:07:02.149Z"
   },
   {
    "duration": 66,
    "start_time": "2023-10-11T11:07:02.232Z"
   },
   {
    "duration": 1972,
    "start_time": "2023-10-11T11:07:02.300Z"
   },
   {
    "duration": 19,
    "start_time": "2023-10-11T11:07:04.274Z"
   },
   {
    "duration": 33,
    "start_time": "2023-10-11T11:07:04.297Z"
   },
   {
    "duration": 27,
    "start_time": "2023-10-11T11:07:04.333Z"
   },
   {
    "duration": 66,
    "start_time": "2023-10-11T11:07:04.364Z"
   },
   {
    "duration": 49,
    "start_time": "2023-10-11T11:07:04.432Z"
   },
   {
    "duration": 695,
    "start_time": "2023-10-11T11:07:04.486Z"
   },
   {
    "duration": 13,
    "start_time": "2023-10-11T11:07:05.186Z"
   },
   {
    "duration": 220,
    "start_time": "2023-10-11T11:07:05.201Z"
   },
   {
    "duration": 42,
    "start_time": "2023-10-11T11:07:05.422Z"
   },
   {
    "duration": 1630,
    "start_time": "2023-10-11T11:07:05.466Z"
   },
   {
    "duration": 80,
    "start_time": "2023-10-11T11:07:07.099Z"
   },
   {
    "duration": 74,
    "start_time": "2023-10-11T11:07:07.185Z"
   },
   {
    "duration": 13,
    "start_time": "2023-10-11T11:07:07.261Z"
   },
   {
    "duration": 103,
    "start_time": "2023-10-11T11:07:07.276Z"
   },
   {
    "duration": 206,
    "start_time": "2023-10-11T11:07:07.381Z"
   },
   {
    "duration": 932,
    "start_time": "2023-10-11T11:07:07.590Z"
   },
   {
    "duration": 539,
    "start_time": "2023-10-11T11:07:08.524Z"
   },
   {
    "duration": 222,
    "start_time": "2023-10-11T11:07:09.065Z"
   },
   {
    "duration": 360,
    "start_time": "2023-10-11T11:07:09.292Z"
   },
   {
    "duration": 269,
    "start_time": "2023-10-11T11:07:09.661Z"
   },
   {
    "duration": 477,
    "start_time": "2023-10-11T11:07:09.938Z"
   },
   {
    "duration": 247,
    "start_time": "2023-10-11T11:07:10.433Z"
   },
   {
    "duration": 264,
    "start_time": "2023-10-11T11:07:10.690Z"
   },
   {
    "duration": 243,
    "start_time": "2023-10-11T11:07:10.956Z"
   },
   {
    "duration": 27,
    "start_time": "2023-10-11T11:07:11.201Z"
   },
   {
    "duration": 3,
    "start_time": "2023-10-11T11:07:11.230Z"
   },
   {
    "duration": 499,
    "start_time": "2023-10-11T11:07:11.235Z"
   },
   {
    "duration": 12,
    "start_time": "2023-10-11T11:07:11.736Z"
   },
   {
    "duration": 441,
    "start_time": "2023-10-11T11:07:11.750Z"
   },
   {
    "duration": 280,
    "start_time": "2023-10-11T11:07:12.192Z"
   },
   {
    "duration": 185,
    "start_time": "2023-10-11T11:07:12.476Z"
   },
   {
    "duration": 230,
    "start_time": "2023-10-11T11:07:12.668Z"
   },
   {
    "duration": 381,
    "start_time": "2023-10-11T11:07:12.900Z"
   },
   {
    "duration": 706,
    "start_time": "2023-10-11T11:07:13.282Z"
   },
   {
    "duration": 514,
    "start_time": "2023-10-11T11:07:13.991Z"
   },
   {
    "duration": 246,
    "start_time": "2023-10-11T11:07:14.511Z"
   },
   {
    "duration": 260,
    "start_time": "2023-10-11T11:07:14.765Z"
   },
   {
    "duration": 24,
    "start_time": "2023-10-11T11:07:15.038Z"
   },
   {
    "duration": 610,
    "start_time": "2023-10-11T11:07:15.079Z"
   },
   {
    "duration": 466,
    "start_time": "2023-10-11T11:07:15.696Z"
   },
   {
    "duration": 327,
    "start_time": "2023-10-11T11:07:16.171Z"
   },
   {
    "duration": 304,
    "start_time": "2023-10-11T11:07:16.501Z"
   },
   {
    "duration": 269,
    "start_time": "2023-10-11T11:07:16.822Z"
   },
   {
    "duration": 278,
    "start_time": "2023-10-11T11:07:17.093Z"
   },
   {
    "duration": 217,
    "start_time": "2023-10-11T11:07:17.378Z"
   },
   {
    "duration": 259,
    "start_time": "2023-10-11T11:07:17.597Z"
   },
   {
    "duration": 330,
    "start_time": "2023-10-11T11:07:17.858Z"
   },
   {
    "duration": 272,
    "start_time": "2023-10-11T11:07:18.190Z"
   },
   {
    "duration": 26,
    "start_time": "2023-10-11T11:07:18.465Z"
   },
   {
    "duration": 50,
    "start_time": "2023-10-11T11:07:18.497Z"
   },
   {
    "duration": 332,
    "start_time": "2023-10-11T11:07:18.552Z"
   },
   {
    "duration": 707,
    "start_time": "2023-10-11T18:42:57.845Z"
   },
   {
    "duration": 12,
    "start_time": "2023-10-11T18:42:58.554Z"
   },
   {
    "duration": 104,
    "start_time": "2023-10-11T18:42:58.568Z"
   },
   {
    "duration": 13,
    "start_time": "2023-10-11T18:42:58.674Z"
   },
   {
    "duration": 2243,
    "start_time": "2023-10-11T18:42:58.689Z"
   },
   {
    "duration": 10,
    "start_time": "2023-10-11T18:43:00.935Z"
   },
   {
    "duration": 36,
    "start_time": "2023-10-11T18:43:00.946Z"
   },
   {
    "duration": 66,
    "start_time": "2023-10-11T18:43:00.983Z"
   },
   {
    "duration": 53,
    "start_time": "2023-10-11T18:43:01.050Z"
   },
   {
    "duration": 58,
    "start_time": "2023-10-11T18:43:01.106Z"
   },
   {
    "duration": 59,
    "start_time": "2023-10-11T18:43:01.165Z"
   },
   {
    "duration": 32,
    "start_time": "2023-10-11T18:43:01.226Z"
   },
   {
    "duration": 52,
    "start_time": "2023-10-11T18:43:01.260Z"
   },
   {
    "duration": 95,
    "start_time": "2023-10-11T18:43:01.313Z"
   },
   {
    "duration": 103,
    "start_time": "2023-10-11T18:43:01.410Z"
   },
   {
    "duration": 807,
    "start_time": "2023-10-11T18:43:01.515Z"
   },
   {
    "duration": 7,
    "start_time": "2023-10-11T18:43:02.323Z"
   },
   {
    "duration": 60,
    "start_time": "2023-10-11T18:43:02.332Z"
   },
   {
    "duration": 16,
    "start_time": "2023-10-11T18:43:02.393Z"
   },
   {
    "duration": 33,
    "start_time": "2023-10-11T18:43:02.411Z"
   },
   {
    "duration": 43,
    "start_time": "2023-10-11T18:43:02.446Z"
   },
   {
    "duration": 309,
    "start_time": "2023-10-11T18:43:02.491Z"
   },
   {
    "duration": 6,
    "start_time": "2023-10-11T18:43:02.802Z"
   },
   {
    "duration": 112,
    "start_time": "2023-10-11T18:43:02.810Z"
   },
   {
    "duration": 27,
    "start_time": "2023-10-11T18:43:02.924Z"
   },
   {
    "duration": 600,
    "start_time": "2023-10-11T18:43:02.953Z"
   },
   {
    "duration": 36,
    "start_time": "2023-10-11T18:43:03.554Z"
   },
   {
    "duration": 54,
    "start_time": "2023-10-11T18:43:03.594Z"
   },
   {
    "duration": 19,
    "start_time": "2023-10-11T18:43:03.650Z"
   },
   {
    "duration": 79,
    "start_time": "2023-10-11T18:43:03.671Z"
   },
   {
    "duration": 112,
    "start_time": "2023-10-11T18:43:03.752Z"
   },
   {
    "duration": 538,
    "start_time": "2023-10-11T18:43:03.866Z"
   },
   {
    "duration": 391,
    "start_time": "2023-10-11T18:43:04.406Z"
   },
   {
    "duration": 131,
    "start_time": "2023-10-11T18:43:04.799Z"
   },
   {
    "duration": 180,
    "start_time": "2023-10-11T18:43:04.932Z"
   },
   {
    "duration": 157,
    "start_time": "2023-10-11T18:43:09.997Z"
   },
   {
    "duration": 40,
    "start_time": "2023-10-11T18:43:16.880Z"
   },
   {
    "duration": 120,
    "start_time": "2023-10-11T18:43:20.986Z"
   },
   {
    "duration": 221,
    "start_time": "2023-10-11T18:43:21.615Z"
   },
   {
    "duration": 125,
    "start_time": "2023-10-11T18:43:22.393Z"
   },
   {
    "duration": 122,
    "start_time": "2023-10-11T18:43:22.773Z"
   },
   {
    "duration": 133,
    "start_time": "2023-10-11T18:43:23.236Z"
   },
   {
    "duration": 5,
    "start_time": "2023-10-11T18:43:23.524Z"
   },
   {
    "duration": 3,
    "start_time": "2023-10-11T18:43:24.316Z"
   },
   {
    "duration": 365,
    "start_time": "2023-10-11T18:43:26.408Z"
   },
   {
    "duration": 6,
    "start_time": "2023-10-11T18:43:29.642Z"
   },
   {
    "duration": 64,
    "start_time": "2023-10-11T18:43:30.969Z"
   },
   {
    "duration": 63,
    "start_time": "2023-10-11T19:24:26.015Z"
   },
   {
    "duration": 7,
    "start_time": "2023-10-11T19:24:35.279Z"
   },
   {
    "duration": 7,
    "start_time": "2023-10-11T19:24:37.770Z"
   },
   {
    "duration": 1117,
    "start_time": "2023-10-11T19:24:44.472Z"
   },
   {
    "duration": 17,
    "start_time": "2023-10-11T19:24:45.591Z"
   },
   {
    "duration": 149,
    "start_time": "2023-10-11T19:24:45.609Z"
   },
   {
    "duration": 20,
    "start_time": "2023-10-11T19:24:45.760Z"
   },
   {
    "duration": 2708,
    "start_time": "2023-10-11T19:24:45.782Z"
   },
   {
    "duration": 12,
    "start_time": "2023-10-11T19:24:48.491Z"
   },
   {
    "duration": 34,
    "start_time": "2023-10-11T19:24:48.505Z"
   },
   {
    "duration": 8,
    "start_time": "2023-10-11T19:24:48.540Z"
   },
   {
    "duration": 44,
    "start_time": "2023-10-11T19:24:48.550Z"
   },
   {
    "duration": 84,
    "start_time": "2023-10-11T19:24:48.597Z"
   },
   {
    "duration": 30,
    "start_time": "2023-10-11T19:24:48.683Z"
   },
   {
    "duration": 12,
    "start_time": "2023-10-11T19:24:48.715Z"
   },
   {
    "duration": 20,
    "start_time": "2023-10-11T19:24:48.729Z"
   },
   {
    "duration": 36,
    "start_time": "2023-10-11T19:24:48.751Z"
   },
   {
    "duration": 6,
    "start_time": "2023-10-11T19:24:48.789Z"
   },
   {
    "duration": 1078,
    "start_time": "2023-10-11T19:24:48.797Z"
   },
   {
    "duration": 10,
    "start_time": "2023-10-11T19:24:49.877Z"
   },
   {
    "duration": 72,
    "start_time": "2023-10-11T19:24:49.889Z"
   },
   {
    "duration": 16,
    "start_time": "2023-10-11T19:24:49.964Z"
   },
   {
    "duration": 91,
    "start_time": "2023-10-11T19:24:49.982Z"
   },
   {
    "duration": 24,
    "start_time": "2023-10-11T19:24:50.075Z"
   },
   {
    "duration": 417,
    "start_time": "2023-10-11T19:24:50.101Z"
   },
   {
    "duration": 8,
    "start_time": "2023-10-11T19:24:50.520Z"
   },
   {
    "duration": 170,
    "start_time": "2023-10-11T19:24:50.530Z"
   },
   {
    "duration": 25,
    "start_time": "2023-10-11T19:24:50.702Z"
   },
   {
    "duration": 794,
    "start_time": "2023-10-11T19:24:50.729Z"
   },
   {
    "duration": 74,
    "start_time": "2023-10-11T19:24:51.525Z"
   },
   {
    "duration": 63,
    "start_time": "2023-10-11T19:24:51.603Z"
   },
   {
    "duration": 7,
    "start_time": "2023-10-11T19:24:51.669Z"
   },
   {
    "duration": 131,
    "start_time": "2023-10-11T19:24:51.679Z"
   },
   {
    "duration": 153,
    "start_time": "2023-10-11T19:24:51.812Z"
   },
   {
    "duration": 665,
    "start_time": "2023-10-11T19:24:51.968Z"
   },
   {
    "duration": 449,
    "start_time": "2023-10-11T19:24:52.634Z"
   },
   {
    "duration": 172,
    "start_time": "2023-10-11T19:24:53.085Z"
   },
   {
    "duration": 271,
    "start_time": "2023-10-11T19:24:53.259Z"
   },
   {
    "duration": 158,
    "start_time": "2023-10-11T19:24:53.532Z"
   },
   {
    "duration": 283,
    "start_time": "2023-10-11T19:24:53.691Z"
   },
   {
    "duration": 178,
    "start_time": "2023-10-11T19:24:53.975Z"
   },
   {
    "duration": 175,
    "start_time": "2023-10-11T19:24:54.155Z"
   },
   {
    "duration": 173,
    "start_time": "2023-10-11T19:24:54.332Z"
   },
   {
    "duration": 6,
    "start_time": "2023-10-11T19:24:54.506Z"
   },
   {
    "duration": 19,
    "start_time": "2023-10-11T19:24:54.513Z"
   },
   {
    "duration": 507,
    "start_time": "2023-10-11T19:24:54.534Z"
   },
   {
    "duration": 10,
    "start_time": "2023-10-11T19:24:55.042Z"
   },
   {
    "duration": 230,
    "start_time": "2023-10-11T19:24:55.054Z"
   },
   {
    "duration": 213,
    "start_time": "2023-10-11T19:24:55.286Z"
   },
   {
    "duration": 130,
    "start_time": "2023-10-11T19:24:55.501Z"
   },
   {
    "duration": 157,
    "start_time": "2023-10-11T19:24:55.633Z"
   },
   {
    "duration": 350,
    "start_time": "2023-10-11T19:24:55.792Z"
   },
   {
    "duration": 172,
    "start_time": "2023-10-11T19:24:56.146Z"
   },
   {
    "duration": 307,
    "start_time": "2023-10-11T19:24:56.320Z"
   },
   {
    "duration": 186,
    "start_time": "2023-10-11T19:24:56.629Z"
   },
   {
    "duration": 163,
    "start_time": "2023-10-11T19:24:56.818Z"
   },
   {
    "duration": 6,
    "start_time": "2023-10-11T19:24:56.983Z"
   },
   {
    "duration": 296,
    "start_time": "2023-10-11T19:24:56.990Z"
   },
   {
    "duration": 269,
    "start_time": "2023-10-11T19:24:57.288Z"
   },
   {
    "duration": 205,
    "start_time": "2023-10-11T19:24:57.562Z"
   },
   {
    "duration": 183,
    "start_time": "2023-10-11T19:24:57.769Z"
   },
   {
    "duration": 310,
    "start_time": "2023-10-11T19:24:57.956Z"
   },
   {
    "duration": 215,
    "start_time": "2023-10-11T19:24:58.268Z"
   },
   {
    "duration": 169,
    "start_time": "2023-10-11T19:24:58.485Z"
   },
   {
    "duration": 202,
    "start_time": "2023-10-11T19:24:58.657Z"
   },
   {
    "duration": 193,
    "start_time": "2023-10-11T19:24:58.862Z"
   },
   {
    "duration": 215,
    "start_time": "2023-10-11T19:24:59.058Z"
   },
   {
    "duration": 11,
    "start_time": "2023-10-11T19:24:59.275Z"
   },
   {
    "duration": 54,
    "start_time": "2023-10-11T19:24:59.287Z"
   },
   {
    "duration": 159,
    "start_time": "2023-10-11T19:24:59.342Z"
   },
   {
    "duration": 41,
    "start_time": "2023-10-11T19:32:36.067Z"
   },
   {
    "duration": 10,
    "start_time": "2023-10-11T19:35:46.268Z"
   },
   {
    "duration": 97,
    "start_time": "2023-10-11T19:44:21.015Z"
   },
   {
    "duration": 13,
    "start_time": "2023-10-11T19:44:27.488Z"
   },
   {
    "duration": 12,
    "start_time": "2023-10-11T19:44:49.505Z"
   },
   {
    "duration": 11,
    "start_time": "2023-10-11T19:45:13.583Z"
   },
   {
    "duration": 92,
    "start_time": "2023-10-11T19:45:21.235Z"
   },
   {
    "duration": 9,
    "start_time": "2023-10-11T19:45:21.329Z"
   },
   {
    "duration": 131,
    "start_time": "2023-10-11T19:45:21.339Z"
   },
   {
    "duration": 16,
    "start_time": "2023-10-11T19:45:21.473Z"
   },
   {
    "duration": 2195,
    "start_time": "2023-10-11T19:45:21.491Z"
   },
   {
    "duration": 11,
    "start_time": "2023-10-11T19:45:23.687Z"
   },
   {
    "duration": 55,
    "start_time": "2023-10-11T19:45:23.699Z"
   },
   {
    "duration": 51,
    "start_time": "2023-10-11T19:45:23.756Z"
   },
   {
    "duration": 54,
    "start_time": "2023-10-11T19:45:23.809Z"
   },
   {
    "duration": 44,
    "start_time": "2023-10-11T19:45:23.866Z"
   },
   {
    "duration": 27,
    "start_time": "2023-10-11T19:45:23.912Z"
   },
   {
    "duration": 14,
    "start_time": "2023-10-11T19:45:23.941Z"
   },
   {
    "duration": 38,
    "start_time": "2023-10-11T19:45:23.957Z"
   },
   {
    "duration": 23,
    "start_time": "2023-10-11T19:45:23.997Z"
   },
   {
    "duration": 6,
    "start_time": "2023-10-11T19:45:24.022Z"
   },
   {
    "duration": 1095,
    "start_time": "2023-10-11T19:45:24.030Z"
   },
   {
    "duration": 7,
    "start_time": "2023-10-11T19:45:25.127Z"
   },
   {
    "duration": 52,
    "start_time": "2023-10-11T19:45:25.136Z"
   },
   {
    "duration": 22,
    "start_time": "2023-10-11T19:45:25.190Z"
   },
   {
    "duration": 46,
    "start_time": "2023-10-11T19:45:25.214Z"
   },
   {
    "duration": 22,
    "start_time": "2023-10-11T19:45:25.262Z"
   },
   {
    "duration": 631,
    "start_time": "2023-10-11T19:45:25.286Z"
   },
   {
    "duration": 7,
    "start_time": "2023-10-11T19:45:25.919Z"
   },
   {
    "duration": 177,
    "start_time": "2023-10-11T19:45:25.927Z"
   },
   {
    "duration": 35,
    "start_time": "2023-10-11T19:45:26.106Z"
   },
   {
    "duration": 720,
    "start_time": "2023-10-11T19:45:26.153Z"
   },
   {
    "duration": 41,
    "start_time": "2023-10-11T19:45:26.875Z"
   },
   {
    "duration": 62,
    "start_time": "2023-10-11T19:45:26.919Z"
   },
   {
    "duration": 6,
    "start_time": "2023-10-11T19:45:26.983Z"
   },
   {
    "duration": 68,
    "start_time": "2023-10-11T19:45:26.991Z"
   },
   {
    "duration": 160,
    "start_time": "2023-10-11T19:45:27.062Z"
   },
   {
    "duration": 685,
    "start_time": "2023-10-11T19:45:27.223Z"
   },
   {
    "duration": 577,
    "start_time": "2023-10-11T19:45:27.909Z"
   },
   {
    "duration": 178,
    "start_time": "2023-10-11T19:45:28.487Z"
   },
   {
    "duration": 229,
    "start_time": "2023-10-11T19:45:28.667Z"
   },
   {
    "duration": 168,
    "start_time": "2023-10-11T19:45:28.897Z"
   },
   {
    "duration": 309,
    "start_time": "2023-10-11T19:45:29.068Z"
   },
   {
    "duration": 181,
    "start_time": "2023-10-11T19:45:29.379Z"
   },
   {
    "duration": 169,
    "start_time": "2023-10-11T19:45:29.561Z"
   },
   {
    "duration": 167,
    "start_time": "2023-10-11T19:45:29.732Z"
   },
   {
    "duration": 7,
    "start_time": "2023-10-11T19:45:29.901Z"
   },
   {
    "duration": 16,
    "start_time": "2023-10-11T19:45:29.909Z"
   },
   {
    "duration": 336,
    "start_time": "2023-10-11T19:45:29.927Z"
   },
   {
    "duration": 8,
    "start_time": "2023-10-11T19:45:30.265Z"
   },
   {
    "duration": 131,
    "start_time": "2023-10-11T19:45:30.275Z"
   },
   {
    "duration": 167,
    "start_time": "2023-10-11T19:45:30.408Z"
   },
   {
    "duration": 139,
    "start_time": "2023-10-11T19:45:30.577Z"
   },
   {
    "duration": 180,
    "start_time": "2023-10-11T19:45:30.718Z"
   },
   {
    "duration": 297,
    "start_time": "2023-10-11T19:45:30.900Z"
   },
   {
    "duration": 186,
    "start_time": "2023-10-11T19:45:31.199Z"
   },
   {
    "duration": 294,
    "start_time": "2023-10-11T19:45:31.386Z"
   },
   {
    "duration": 158,
    "start_time": "2023-10-11T19:45:31.682Z"
   },
   {
    "duration": 182,
    "start_time": "2023-10-11T19:45:31.842Z"
   },
   {
    "duration": 7,
    "start_time": "2023-10-11T19:45:32.026Z"
   },
   {
    "duration": 571,
    "start_time": "2023-10-11T19:45:32.048Z"
   },
   {
    "duration": 289,
    "start_time": "2023-10-11T19:45:32.621Z"
   },
   {
    "duration": 210,
    "start_time": "2023-10-11T19:45:32.911Z"
   },
   {
    "duration": 199,
    "start_time": "2023-10-11T19:45:33.123Z"
   },
   {
    "duration": 193,
    "start_time": "2023-10-11T19:45:33.323Z"
   },
   {
    "duration": 204,
    "start_time": "2023-10-11T19:45:33.518Z"
   },
   {
    "duration": 177,
    "start_time": "2023-10-11T19:45:33.724Z"
   },
   {
    "duration": 212,
    "start_time": "2023-10-11T19:45:33.903Z"
   },
   {
    "duration": 188,
    "start_time": "2023-10-11T19:45:34.116Z"
   },
   {
    "duration": 199,
    "start_time": "2023-10-11T19:45:34.306Z"
   },
   {
    "duration": 13,
    "start_time": "2023-10-11T19:45:34.506Z"
   },
   {
    "duration": 37,
    "start_time": "2023-10-11T19:45:34.520Z"
   },
   {
    "duration": 166,
    "start_time": "2023-10-11T19:45:34.560Z"
   },
   {
    "duration": 2665,
    "start_time": "2023-10-11T22:22:15.709Z"
   },
   {
    "duration": 103,
    "start_time": "2023-10-11T22:30:43.262Z"
   },
   {
    "duration": 27,
    "start_time": "2023-10-11T23:01:27.406Z"
   },
   {
    "duration": 74,
    "start_time": "2023-10-11T23:02:17.264Z"
   },
   {
    "duration": 10,
    "start_time": "2023-10-11T23:04:53.129Z"
   },
   {
    "duration": 9,
    "start_time": "2023-10-11T23:05:01.574Z"
   },
   {
    "duration": 31,
    "start_time": "2023-10-11T23:59:13.038Z"
   },
   {
    "duration": 80,
    "start_time": "2023-10-11T23:59:56.227Z"
   },
   {
    "duration": 88,
    "start_time": "2023-10-12T00:00:11.443Z"
   },
   {
    "duration": 1486,
    "start_time": "2023-10-12T00:01:52.957Z"
   },
   {
    "duration": 1492,
    "start_time": "2023-10-12T00:02:33.105Z"
   },
   {
    "duration": 1368,
    "start_time": "2023-10-12T00:02:44.084Z"
   },
   {
    "duration": 90,
    "start_time": "2023-10-12T00:03:01.927Z"
   },
   {
    "duration": 7,
    "start_time": "2023-10-12T00:03:02.019Z"
   },
   {
    "duration": 167,
    "start_time": "2023-10-12T00:03:02.028Z"
   },
   {
    "duration": 18,
    "start_time": "2023-10-12T00:03:02.197Z"
   },
   {
    "duration": 2342,
    "start_time": "2023-10-12T00:03:02.216Z"
   },
   {
    "duration": 11,
    "start_time": "2023-10-12T00:03:04.559Z"
   },
   {
    "duration": 44,
    "start_time": "2023-10-12T00:03:04.572Z"
   },
   {
    "duration": 27,
    "start_time": "2023-10-12T00:03:04.618Z"
   },
   {
    "duration": 58,
    "start_time": "2023-10-12T00:03:04.647Z"
   },
   {
    "duration": 36,
    "start_time": "2023-10-12T00:03:04.707Z"
   },
   {
    "duration": 29,
    "start_time": "2023-10-12T00:03:04.745Z"
   },
   {
    "duration": 16,
    "start_time": "2023-10-12T00:03:04.776Z"
   },
   {
    "duration": 29,
    "start_time": "2023-10-12T00:03:04.793Z"
   },
   {
    "duration": 27,
    "start_time": "2023-10-12T00:03:04.823Z"
   },
   {
    "duration": 16,
    "start_time": "2023-10-12T00:03:04.851Z"
   },
   {
    "duration": 27,
    "start_time": "2023-10-12T00:03:04.869Z"
   },
   {
    "duration": 20,
    "start_time": "2023-10-12T00:03:24.475Z"
   },
   {
    "duration": 18,
    "start_time": "2023-10-12T00:03:58.050Z"
   },
   {
    "duration": 7,
    "start_time": "2023-10-12T00:07:47.399Z"
   },
   {
    "duration": 7,
    "start_time": "2023-10-12T00:07:54.454Z"
   },
   {
    "duration": 8,
    "start_time": "2023-10-12T00:08:01.021Z"
   },
   {
    "duration": 7,
    "start_time": "2023-10-12T00:08:06.410Z"
   },
   {
    "duration": 8,
    "start_time": "2023-10-12T00:08:35.783Z"
   },
   {
    "duration": 8,
    "start_time": "2023-10-12T00:08:53.688Z"
   },
   {
    "duration": 941,
    "start_time": "2023-10-12T00:08:54.728Z"
   },
   {
    "duration": 8,
    "start_time": "2023-10-12T00:08:56.164Z"
   },
   {
    "duration": 128,
    "start_time": "2023-10-12T00:21:54.778Z"
   },
   {
    "duration": 9,
    "start_time": "2023-10-12T00:26:23.029Z"
   },
   {
    "duration": 15,
    "start_time": "2023-10-12T00:28:31.492Z"
   },
   {
    "duration": 111,
    "start_time": "2023-10-12T00:29:34.681Z"
   },
   {
    "duration": 16,
    "start_time": "2023-10-12T00:40:46.026Z"
   },
   {
    "duration": 7,
    "start_time": "2023-10-12T00:43:55.358Z"
   },
   {
    "duration": 6,
    "start_time": "2023-10-12T00:44:18.582Z"
   },
   {
    "duration": 7,
    "start_time": "2023-10-12T00:44:31.909Z"
   },
   {
    "duration": 113,
    "start_time": "2023-10-12T00:45:11.917Z"
   },
   {
    "duration": 123,
    "start_time": "2023-10-12T00:45:21.302Z"
   },
   {
    "duration": 7,
    "start_time": "2023-10-12T00:45:45.979Z"
   },
   {
    "duration": 47,
    "start_time": "2023-10-12T00:47:35.323Z"
   },
   {
    "duration": 46,
    "start_time": "2023-10-12T00:48:23.285Z"
   },
   {
    "duration": 12,
    "start_time": "2023-10-12T02:04:19.422Z"
   },
   {
    "duration": 11,
    "start_time": "2023-10-12T02:04:33.688Z"
   },
   {
    "duration": 11,
    "start_time": "2023-10-12T02:04:55.696Z"
   },
   {
    "duration": 85,
    "start_time": "2023-10-12T02:05:27.617Z"
   },
   {
    "duration": 9,
    "start_time": "2023-10-12T02:05:27.703Z"
   },
   {
    "duration": 136,
    "start_time": "2023-10-12T02:05:27.714Z"
   },
   {
    "duration": 16,
    "start_time": "2023-10-12T02:05:27.852Z"
   },
   {
    "duration": 2002,
    "start_time": "2023-10-12T02:05:27.870Z"
   },
   {
    "duration": 9,
    "start_time": "2023-10-12T02:05:29.874Z"
   },
   {
    "duration": 17,
    "start_time": "2023-10-12T02:05:29.885Z"
   },
   {
    "duration": 12,
    "start_time": "2023-10-12T02:05:29.904Z"
   },
   {
    "duration": 30,
    "start_time": "2023-10-12T02:05:29.918Z"
   },
   {
    "duration": 15,
    "start_time": "2023-10-12T02:05:29.951Z"
   },
   {
    "duration": 25,
    "start_time": "2023-10-12T02:05:29.968Z"
   },
   {
    "duration": 11,
    "start_time": "2023-10-12T02:05:29.995Z"
   },
   {
    "duration": 106,
    "start_time": "2023-10-12T02:05:30.008Z"
   },
   {
    "duration": 51,
    "start_time": "2023-10-12T02:05:30.115Z"
   },
   {
    "duration": 37,
    "start_time": "2023-10-12T02:05:30.168Z"
   },
   {
    "duration": 1038,
    "start_time": "2023-10-12T02:05:30.207Z"
   },
   {
    "duration": 8,
    "start_time": "2023-10-12T02:05:31.247Z"
   },
   {
    "duration": 110,
    "start_time": "2023-10-12T02:05:31.256Z"
   },
   {
    "duration": 47,
    "start_time": "2023-10-12T02:05:31.368Z"
   },
   {
    "duration": 61,
    "start_time": "2023-10-12T02:05:31.417Z"
   },
   {
    "duration": 101,
    "start_time": "2023-10-12T02:05:31.479Z"
   },
   {
    "duration": 153,
    "start_time": "2023-10-12T02:05:31.581Z"
   },
   {
    "duration": 59,
    "start_time": "2023-10-12T02:05:31.735Z"
   },
   {
    "duration": 482,
    "start_time": "2023-10-12T02:05:31.796Z"
   },
   {
    "duration": 8,
    "start_time": "2023-10-12T02:05:32.280Z"
   },
   {
    "duration": 160,
    "start_time": "2023-10-12T02:05:32.290Z"
   },
   {
    "duration": 26,
    "start_time": "2023-10-12T02:05:32.452Z"
   },
   {
    "duration": 1004,
    "start_time": "2023-10-12T02:05:32.482Z"
   },
   {
    "duration": 40,
    "start_time": "2023-10-12T02:05:33.488Z"
   },
   {
    "duration": 71,
    "start_time": "2023-10-12T02:05:33.529Z"
   },
   {
    "duration": 17,
    "start_time": "2023-10-12T02:05:33.602Z"
   },
   {
    "duration": 67,
    "start_time": "2023-10-12T02:05:33.620Z"
   },
   {
    "duration": 145,
    "start_time": "2023-10-12T02:05:33.689Z"
   },
   {
    "duration": 636,
    "start_time": "2023-10-12T02:05:33.836Z"
   },
   {
    "duration": 339,
    "start_time": "2023-10-12T02:05:34.474Z"
   },
   {
    "duration": 155,
    "start_time": "2023-10-12T02:05:34.815Z"
   },
   {
    "duration": 235,
    "start_time": "2023-10-12T02:05:34.971Z"
   },
   {
    "duration": 155,
    "start_time": "2023-10-12T02:05:35.208Z"
   },
   {
    "duration": 289,
    "start_time": "2023-10-12T02:05:35.365Z"
   },
   {
    "duration": 162,
    "start_time": "2023-10-12T02:05:35.656Z"
   },
   {
    "duration": 167,
    "start_time": "2023-10-12T02:05:35.820Z"
   },
   {
    "duration": 159,
    "start_time": "2023-10-12T02:05:35.989Z"
   },
   {
    "duration": 6,
    "start_time": "2023-10-12T02:05:36.150Z"
   },
   {
    "duration": 228,
    "start_time": "2023-10-12T02:05:36.157Z"
   },
   {
    "duration": 382,
    "start_time": "2023-10-12T02:05:36.387Z"
   },
   {
    "duration": 6,
    "start_time": "2023-10-12T02:05:36.771Z"
   },
   {
    "duration": 24,
    "start_time": "2023-10-12T02:05:36.778Z"
   },
   {
    "duration": 60,
    "start_time": "2023-10-12T02:05:36.804Z"
   },
   {
    "duration": 14,
    "start_time": "2023-10-12T02:05:36.865Z"
   },
   {
    "duration": 167,
    "start_time": "2023-10-12T02:05:36.881Z"
   },
   {
    "duration": 126,
    "start_time": "2023-10-12T02:05:37.050Z"
   },
   {
    "duration": 155,
    "start_time": "2023-10-12T02:05:37.178Z"
   },
   {
    "duration": 263,
    "start_time": "2023-10-12T02:05:37.335Z"
   },
   {
    "duration": 163,
    "start_time": "2023-10-12T02:05:37.600Z"
   },
   {
    "duration": 562,
    "start_time": "2023-10-12T02:05:37.766Z"
   },
   {
    "duration": 144,
    "start_time": "2023-10-12T02:05:38.329Z"
   },
   {
    "duration": 157,
    "start_time": "2023-10-12T02:05:38.475Z"
   },
   {
    "duration": 5,
    "start_time": "2023-10-12T02:05:38.633Z"
   },
   {
    "duration": 278,
    "start_time": "2023-10-12T02:05:38.639Z"
   },
   {
    "duration": 272,
    "start_time": "2023-10-12T02:05:38.919Z"
   },
   {
    "duration": 198,
    "start_time": "2023-10-12T02:05:39.192Z"
   },
   {
    "duration": 181,
    "start_time": "2023-10-12T02:05:39.391Z"
   },
   {
    "duration": 180,
    "start_time": "2023-10-12T02:05:39.574Z"
   },
   {
    "duration": 198,
    "start_time": "2023-10-12T02:05:39.756Z"
   },
   {
    "duration": 170,
    "start_time": "2023-10-12T02:05:39.956Z"
   },
   {
    "duration": 185,
    "start_time": "2023-10-12T02:05:40.129Z"
   },
   {
    "duration": 187,
    "start_time": "2023-10-12T02:05:40.315Z"
   },
   {
    "duration": 196,
    "start_time": "2023-10-12T02:05:40.504Z"
   },
   {
    "duration": 11,
    "start_time": "2023-10-12T02:05:40.702Z"
   },
   {
    "duration": 38,
    "start_time": "2023-10-12T02:05:40.714Z"
   },
   {
    "duration": 127,
    "start_time": "2023-10-12T02:08:25.257Z"
   },
   {
    "duration": 8,
    "start_time": "2023-10-12T02:15:27.926Z"
   },
   {
    "duration": 165,
    "start_time": "2023-10-12T02:15:37.049Z"
   },
   {
    "duration": 150,
    "start_time": "2023-10-12T02:15:49.761Z"
   },
   {
    "duration": 147,
    "start_time": "2023-10-12T02:16:47.393Z"
   },
   {
    "duration": 151,
    "start_time": "2023-10-12T02:16:55.564Z"
   },
   {
    "duration": 145,
    "start_time": "2023-10-12T02:17:09.501Z"
   },
   {
    "duration": 150,
    "start_time": "2023-10-12T02:19:26.140Z"
   },
   {
    "duration": 145,
    "start_time": "2023-10-12T02:20:39.875Z"
   },
   {
    "duration": 142,
    "start_time": "2023-10-12T02:22:00.005Z"
   },
   {
    "duration": 622,
    "start_time": "2023-10-12T02:22:22.669Z"
   },
   {
    "duration": 149,
    "start_time": "2023-10-12T02:22:52.031Z"
   },
   {
    "duration": 610,
    "start_time": "2023-10-12T02:23:02.685Z"
   },
   {
    "duration": 321,
    "start_time": "2023-10-12T02:23:09.450Z"
   },
   {
    "duration": 528,
    "start_time": "2023-10-12T02:31:44.598Z"
   },
   {
    "duration": 203,
    "start_time": "2023-10-12T02:31:55.312Z"
   },
   {
    "duration": 157,
    "start_time": "2023-10-12T02:32:19.342Z"
   },
   {
    "duration": 261,
    "start_time": "2023-10-12T02:32:30.057Z"
   },
   {
    "duration": 131,
    "start_time": "2023-10-12T02:32:59.500Z"
   },
   {
    "duration": 129,
    "start_time": "2023-10-12T02:33:05.001Z"
   },
   {
    "duration": 146,
    "start_time": "2023-10-12T02:34:04.787Z"
   },
   {
    "duration": 4,
    "start_time": "2023-10-12T02:34:12.657Z"
   },
   {
    "duration": 4,
    "start_time": "2023-10-12T02:34:22.338Z"
   },
   {
    "duration": 6,
    "start_time": "2023-10-12T02:34:26.314Z"
   },
   {
    "duration": 156,
    "start_time": "2023-10-12T02:34:54.025Z"
   },
   {
    "duration": 123,
    "start_time": "2023-10-12T02:35:16.844Z"
   },
   {
    "duration": 134,
    "start_time": "2023-10-12T02:35:42.362Z"
   },
   {
    "duration": 250,
    "start_time": "2023-10-12T02:35:46.922Z"
   },
   {
    "duration": 146,
    "start_time": "2023-10-12T02:36:18.774Z"
   },
   {
    "duration": 260,
    "start_time": "2023-10-12T02:36:35.478Z"
   },
   {
    "duration": 135,
    "start_time": "2023-10-12T02:37:05.377Z"
   },
   {
    "duration": 145,
    "start_time": "2023-10-12T02:37:51.551Z"
   },
   {
    "duration": 267,
    "start_time": "2023-10-12T02:38:03.385Z"
   },
   {
    "duration": 237,
    "start_time": "2023-10-12T02:38:11.405Z"
   },
   {
    "duration": 836,
    "start_time": "2023-10-12T02:52:34.447Z"
   },
   {
    "duration": 12,
    "start_time": "2023-10-12T02:52:35.285Z"
   },
   {
    "duration": 133,
    "start_time": "2023-10-12T02:52:35.299Z"
   },
   {
    "duration": 19,
    "start_time": "2023-10-12T02:52:35.434Z"
   },
   {
    "duration": 2083,
    "start_time": "2023-10-12T02:52:35.455Z"
   },
   {
    "duration": 12,
    "start_time": "2023-10-12T02:52:37.540Z"
   },
   {
    "duration": 9,
    "start_time": "2023-10-12T02:52:37.553Z"
   },
   {
    "duration": 8,
    "start_time": "2023-10-12T02:52:37.564Z"
   },
   {
    "duration": 21,
    "start_time": "2023-10-12T02:52:37.573Z"
   },
   {
    "duration": 16,
    "start_time": "2023-10-12T02:52:37.596Z"
   },
   {
    "duration": 56,
    "start_time": "2023-10-12T02:52:37.614Z"
   },
   {
    "duration": 11,
    "start_time": "2023-10-12T02:52:37.672Z"
   },
   {
    "duration": 13,
    "start_time": "2023-10-12T02:52:37.685Z"
   },
   {
    "duration": 25,
    "start_time": "2023-10-12T02:52:37.700Z"
   },
   {
    "duration": 26,
    "start_time": "2023-10-12T02:52:37.727Z"
   },
   {
    "duration": 941,
    "start_time": "2023-10-12T02:52:37.754Z"
   },
   {
    "duration": 9,
    "start_time": "2023-10-12T02:52:38.698Z"
   },
   {
    "duration": 21,
    "start_time": "2023-10-12T02:52:38.709Z"
   },
   {
    "duration": 9,
    "start_time": "2023-10-12T02:52:38.746Z"
   },
   {
    "duration": 15,
    "start_time": "2023-10-12T02:52:38.757Z"
   },
   {
    "duration": 9,
    "start_time": "2023-10-12T02:52:38.774Z"
   },
   {
    "duration": 9,
    "start_time": "2023-10-12T02:52:38.784Z"
   },
   {
    "duration": 3,
    "start_time": "2023-10-12T02:52:38.795Z"
   },
   {
    "duration": 392,
    "start_time": "2023-10-12T02:52:38.799Z"
   },
   {
    "duration": 7,
    "start_time": "2023-10-12T02:52:39.193Z"
   },
   {
    "duration": 132,
    "start_time": "2023-10-12T02:52:39.201Z"
   },
   {
    "duration": 33,
    "start_time": "2023-10-12T02:52:39.335Z"
   },
   {
    "duration": 739,
    "start_time": "2023-10-12T02:52:39.372Z"
   },
   {
    "duration": 48,
    "start_time": "2023-10-12T02:52:40.112Z"
   },
   {
    "duration": 40,
    "start_time": "2023-10-12T02:52:40.162Z"
   },
   {
    "duration": 6,
    "start_time": "2023-10-12T02:52:40.204Z"
   },
   {
    "duration": 78,
    "start_time": "2023-10-12T02:52:40.212Z"
   },
   {
    "duration": 158,
    "start_time": "2023-10-12T02:52:40.291Z"
   },
   {
    "duration": 644,
    "start_time": "2023-10-12T02:52:40.451Z"
   },
   {
    "duration": 340,
    "start_time": "2023-10-12T02:52:41.097Z"
   },
   {
    "duration": 260,
    "start_time": "2023-10-12T02:52:41.439Z"
   },
   {
    "duration": 208,
    "start_time": "2023-10-12T02:52:41.701Z"
   },
   {
    "duration": 146,
    "start_time": "2023-10-12T02:52:41.910Z"
   },
   {
    "duration": 262,
    "start_time": "2023-10-12T02:52:42.058Z"
   },
   {
    "duration": 157,
    "start_time": "2023-10-12T02:52:42.322Z"
   },
   {
    "duration": 153,
    "start_time": "2023-10-12T02:52:42.481Z"
   },
   {
    "duration": 155,
    "start_time": "2023-10-12T02:52:42.636Z"
   },
   {
    "duration": 6,
    "start_time": "2023-10-12T02:52:42.793Z"
   },
   {
    "duration": 24,
    "start_time": "2023-10-12T02:52:42.801Z"
   },
   {
    "duration": 373,
    "start_time": "2023-10-12T02:52:42.827Z"
   },
   {
    "duration": 6,
    "start_time": "2023-10-12T02:52:43.202Z"
   },
   {
    "duration": 22,
    "start_time": "2023-10-12T02:52:43.210Z"
   },
   {
    "duration": 46,
    "start_time": "2023-10-12T02:52:43.234Z"
   },
   {
    "duration": 14,
    "start_time": "2023-10-12T02:52:43.282Z"
   },
   {
    "duration": 164,
    "start_time": "2023-10-12T02:52:43.298Z"
   },
   {
    "duration": 126,
    "start_time": "2023-10-12T02:52:43.463Z"
   },
   {
    "duration": 146,
    "start_time": "2023-10-12T02:52:43.591Z"
   },
   {
    "duration": 269,
    "start_time": "2023-10-12T02:52:43.738Z"
   },
   {
    "duration": 166,
    "start_time": "2023-10-12T02:52:44.008Z"
   },
   {
    "duration": 257,
    "start_time": "2023-10-12T02:52:44.176Z"
   },
   {
    "duration": 141,
    "start_time": "2023-10-12T02:52:44.435Z"
   },
   {
    "duration": 152,
    "start_time": "2023-10-12T02:52:44.578Z"
   },
   {
    "duration": 15,
    "start_time": "2023-10-12T02:52:44.732Z"
   },
   {
    "duration": 336,
    "start_time": "2023-10-12T02:52:44.748Z"
   },
   {
    "duration": 268,
    "start_time": "2023-10-12T02:52:45.086Z"
   },
   {
    "duration": 196,
    "start_time": "2023-10-12T02:52:45.356Z"
   },
   {
    "duration": 181,
    "start_time": "2023-10-12T02:52:45.554Z"
   },
   {
    "duration": 174,
    "start_time": "2023-10-12T02:52:45.737Z"
   },
   {
    "duration": 184,
    "start_time": "2023-10-12T02:52:45.913Z"
   },
   {
    "duration": 168,
    "start_time": "2023-10-12T02:52:46.099Z"
   },
   {
    "duration": 88,
    "start_time": "2023-10-12T02:55:27.499Z"
   },
   {
    "duration": 8,
    "start_time": "2023-10-12T02:55:27.589Z"
   },
   {
    "duration": 127,
    "start_time": "2023-10-12T02:55:27.599Z"
   },
   {
    "duration": 22,
    "start_time": "2023-10-12T02:55:27.727Z"
   },
   {
    "duration": 1992,
    "start_time": "2023-10-12T02:55:27.750Z"
   },
   {
    "duration": 11,
    "start_time": "2023-10-12T02:55:29.744Z"
   },
   {
    "duration": 7,
    "start_time": "2023-10-12T02:55:29.757Z"
   },
   {
    "duration": 8,
    "start_time": "2023-10-12T02:55:29.766Z"
   },
   {
    "duration": 20,
    "start_time": "2023-10-12T02:55:29.777Z"
   },
   {
    "duration": 21,
    "start_time": "2023-10-12T02:55:29.798Z"
   },
   {
    "duration": 28,
    "start_time": "2023-10-12T02:55:29.847Z"
   },
   {
    "duration": 12,
    "start_time": "2023-10-12T02:55:29.876Z"
   },
   {
    "duration": 35,
    "start_time": "2023-10-12T02:55:29.889Z"
   },
   {
    "duration": 27,
    "start_time": "2023-10-12T02:55:29.926Z"
   },
   {
    "duration": 8,
    "start_time": "2023-10-12T02:55:29.954Z"
   },
   {
    "duration": 950,
    "start_time": "2023-10-12T02:55:29.963Z"
   },
   {
    "duration": 8,
    "start_time": "2023-10-12T02:55:30.915Z"
   },
   {
    "duration": 74,
    "start_time": "2023-10-12T02:55:30.925Z"
   },
   {
    "duration": 143,
    "start_time": "2023-10-12T02:55:31.001Z"
   },
   {
    "duration": 69,
    "start_time": "2023-10-12T02:55:31.146Z"
   },
   {
    "duration": 51,
    "start_time": "2023-10-12T02:55:31.217Z"
   },
   {
    "duration": 32,
    "start_time": "2023-10-12T02:55:31.270Z"
   },
   {
    "duration": 45,
    "start_time": "2023-10-12T02:55:31.304Z"
   },
   {
    "duration": 387,
    "start_time": "2023-10-12T02:55:31.351Z"
   },
   {
    "duration": 10,
    "start_time": "2023-10-12T02:55:31.741Z"
   },
   {
    "duration": 137,
    "start_time": "2023-10-12T02:55:31.753Z"
   },
   {
    "duration": 25,
    "start_time": "2023-10-12T02:55:31.894Z"
   },
   {
    "duration": 680,
    "start_time": "2023-10-12T02:55:31.921Z"
   },
   {
    "duration": 47,
    "start_time": "2023-10-12T02:55:32.603Z"
   },
   {
    "duration": 39,
    "start_time": "2023-10-12T02:55:32.652Z"
   },
   {
    "duration": 6,
    "start_time": "2023-10-12T02:55:32.693Z"
   },
   {
    "duration": 78,
    "start_time": "2023-10-12T02:55:32.701Z"
   },
   {
    "duration": 157,
    "start_time": "2023-10-12T02:55:32.781Z"
   },
   {
    "duration": 133,
    "start_time": "2023-10-12T02:57:24.775Z"
   },
   {
    "duration": 15,
    "start_time": "2023-10-12T02:57:24.910Z"
   },
   {
    "duration": 2096,
    "start_time": "2023-10-12T02:57:24.926Z"
   },
   {
    "duration": 11,
    "start_time": "2023-10-12T02:57:27.024Z"
   },
   {
    "duration": 5,
    "start_time": "2023-10-12T02:57:27.047Z"
   },
   {
    "duration": 27,
    "start_time": "2023-10-12T02:57:27.053Z"
   },
   {
    "duration": 47,
    "start_time": "2023-10-12T02:57:27.082Z"
   },
   {
    "duration": 29,
    "start_time": "2023-10-12T02:57:27.131Z"
   },
   {
    "duration": 41,
    "start_time": "2023-10-12T02:57:27.162Z"
   },
   {
    "duration": 18,
    "start_time": "2023-10-12T02:57:27.205Z"
   },
   {
    "duration": 18,
    "start_time": "2023-10-12T02:57:27.225Z"
   },
   {
    "duration": 34,
    "start_time": "2023-10-12T02:57:27.247Z"
   },
   {
    "duration": 9,
    "start_time": "2023-10-12T02:57:27.283Z"
   },
   {
    "duration": 926,
    "start_time": "2023-10-12T02:57:27.294Z"
   },
   {
    "duration": 10,
    "start_time": "2023-10-12T02:57:28.222Z"
   },
   {
    "duration": 44,
    "start_time": "2023-10-12T02:57:28.233Z"
   },
   {
    "duration": 14,
    "start_time": "2023-10-12T02:57:28.279Z"
   },
   {
    "duration": 11,
    "start_time": "2023-10-12T02:57:28.294Z"
   },
   {
    "duration": 17,
    "start_time": "2023-10-12T02:57:28.306Z"
   },
   {
    "duration": 10,
    "start_time": "2023-10-12T02:57:28.325Z"
   },
   {
    "duration": 4,
    "start_time": "2023-10-12T02:57:28.337Z"
   },
   {
    "duration": 352,
    "start_time": "2023-10-12T02:57:28.342Z"
   },
   {
    "duration": 7,
    "start_time": "2023-10-12T02:57:28.696Z"
   },
   {
    "duration": 159,
    "start_time": "2023-10-12T02:57:28.705Z"
   },
   {
    "duration": 24,
    "start_time": "2023-10-12T02:57:28.866Z"
   },
   {
    "duration": 703,
    "start_time": "2023-10-12T02:57:28.892Z"
   },
   {
    "duration": 52,
    "start_time": "2023-10-12T02:57:29.597Z"
   },
   {
    "duration": 40,
    "start_time": "2023-10-12T02:57:29.651Z"
   },
   {
    "duration": 6,
    "start_time": "2023-10-12T02:57:29.693Z"
   },
   {
    "duration": 77,
    "start_time": "2023-10-12T02:57:29.700Z"
   },
   {
    "duration": 146,
    "start_time": "2023-10-12T02:57:29.778Z"
   },
   {
    "duration": 92,
    "start_time": "2023-10-12T03:55:21.503Z"
   },
   {
    "duration": 7,
    "start_time": "2023-10-12T03:55:24.499Z"
   },
   {
    "duration": 136,
    "start_time": "2023-10-12T03:55:27.092Z"
   },
   {
    "duration": 18,
    "start_time": "2023-10-12T03:55:31.376Z"
   },
   {
    "duration": 2072,
    "start_time": "2023-10-12T03:55:33.305Z"
   },
   {
    "duration": 11,
    "start_time": "2023-10-12T03:55:49.744Z"
   },
   {
    "duration": 5,
    "start_time": "2023-10-12T03:55:52.593Z"
   },
   {
    "duration": 5,
    "start_time": "2023-10-12T03:55:58.166Z"
   },
   {
    "duration": 13,
    "start_time": "2023-10-12T03:56:03.806Z"
   },
   {
    "duration": 16,
    "start_time": "2023-10-12T03:56:06.305Z"
   },
   {
    "duration": 27,
    "start_time": "2023-10-12T03:56:07.713Z"
   },
   {
    "duration": 13,
    "start_time": "2023-10-12T03:56:11.826Z"
   },
   {
    "duration": 15,
    "start_time": "2023-10-12T03:56:14.569Z"
   },
   {
    "duration": 22,
    "start_time": "2023-10-12T03:56:16.251Z"
   },
   {
    "duration": 8,
    "start_time": "2023-10-12T03:56:21.622Z"
   },
   {
    "duration": 929,
    "start_time": "2023-10-12T03:56:22.524Z"
   },
   {
    "duration": 8,
    "start_time": "2023-10-12T03:56:23.455Z"
   },
   {
    "duration": 20,
    "start_time": "2023-10-12T03:56:24.609Z"
   },
   {
    "duration": 8,
    "start_time": "2023-10-12T03:56:34.666Z"
   },
   {
    "duration": 9,
    "start_time": "2023-10-12T03:56:35.862Z"
   },
   {
    "duration": 8,
    "start_time": "2023-10-12T03:56:37.537Z"
   },
   {
    "duration": 11,
    "start_time": "2023-10-12T03:56:40.087Z"
   },
   {
    "duration": 3,
    "start_time": "2023-10-12T03:56:41.322Z"
   },
   {
    "duration": 344,
    "start_time": "2023-10-12T03:56:48.674Z"
   },
   {
    "duration": 8,
    "start_time": "2023-10-12T03:56:49.642Z"
   },
   {
    "duration": 126,
    "start_time": "2023-10-12T03:56:52.376Z"
   },
   {
    "duration": 25,
    "start_time": "2023-10-12T03:56:58.876Z"
   },
   {
    "duration": 676,
    "start_time": "2023-10-12T03:57:01.249Z"
   },
   {
    "duration": 50,
    "start_time": "2023-10-12T03:57:05.127Z"
   },
   {
    "duration": 38,
    "start_time": "2023-10-12T03:57:08.244Z"
   },
   {
    "duration": 6,
    "start_time": "2023-10-12T03:57:14.666Z"
   },
   {
    "duration": 48,
    "start_time": "2023-10-12T03:57:26.805Z"
   },
   {
    "duration": 6,
    "start_time": "2023-10-12T03:58:10.382Z"
   },
   {
    "duration": 47,
    "start_time": "2023-10-12T03:58:13.230Z"
   },
   {
    "duration": 136,
    "start_time": "2023-10-12T03:58:15.957Z"
   },
   {
    "duration": 651,
    "start_time": "2023-10-12T03:58:17.743Z"
   },
   {
    "duration": 341,
    "start_time": "2023-10-12T03:58:18.415Z"
   },
   {
    "duration": 147,
    "start_time": "2023-10-12T03:58:20.680Z"
   },
   {
    "duration": 214,
    "start_time": "2023-10-12T03:58:22.347Z"
   },
   {
    "duration": 137,
    "start_time": "2023-10-12T03:58:26.602Z"
   },
   {
    "duration": 266,
    "start_time": "2023-10-12T03:58:27.713Z"
   },
   {
    "duration": 152,
    "start_time": "2023-10-12T03:58:30.859Z"
   },
   {
    "duration": 159,
    "start_time": "2023-10-12T03:58:32.824Z"
   },
   {
    "duration": 144,
    "start_time": "2023-10-12T03:58:35.630Z"
   },
   {
    "duration": 6,
    "start_time": "2023-10-12T03:58:36.973Z"
   },
   {
    "duration": 3,
    "start_time": "2023-10-12T03:58:39.686Z"
   },
   {
    "duration": 310,
    "start_time": "2023-10-12T03:58:41.244Z"
   },
   {
    "duration": 7,
    "start_time": "2023-10-12T03:58:44.612Z"
   },
   {
    "duration": 6,
    "start_time": "2023-10-12T03:58:56.713Z"
   },
   {
    "duration": 43,
    "start_time": "2023-10-12T03:58:58.346Z"
   },
   {
    "duration": 17,
    "start_time": "2023-10-12T03:59:13.233Z"
   },
   {
    "duration": 152,
    "start_time": "2023-10-12T03:59:25.923Z"
   },
   {
    "duration": 117,
    "start_time": "2023-10-12T03:59:31.136Z"
   },
   {
    "duration": 138,
    "start_time": "2023-10-12T03:59:33.886Z"
   },
   {
    "duration": 261,
    "start_time": "2023-10-12T03:59:37.216Z"
   },
   {
    "duration": 185,
    "start_time": "2023-10-12T03:59:45.124Z"
   },
   {
    "duration": 260,
    "start_time": "2023-10-12T03:59:47.581Z"
   },
   {
    "duration": 139,
    "start_time": "2023-10-12T03:59:50.593Z"
   },
   {
    "duration": 149,
    "start_time": "2023-10-12T04:00:04.308Z"
   },
   {
    "duration": 5,
    "start_time": "2023-10-12T04:00:05.603Z"
   },
   {
    "duration": 273,
    "start_time": "2023-10-12T04:00:06.954Z"
   },
   {
    "duration": 246,
    "start_time": "2023-10-12T04:00:11.768Z"
   },
   {
    "duration": 194,
    "start_time": "2023-10-12T04:00:21.794Z"
   },
   {
    "duration": 179,
    "start_time": "2023-10-12T04:00:27.842Z"
   },
   {
    "duration": 171,
    "start_time": "2023-10-12T04:00:31.070Z"
   },
   {
    "duration": 183,
    "start_time": "2023-10-12T04:00:34.767Z"
   },
   {
    "duration": 159,
    "start_time": "2023-10-12T04:00:44.831Z"
   },
   {
    "duration": 229588,
    "start_time": "2023-10-12T04:00:47.112Z"
   },
   {
    "duration": 180162,
    "start_time": "2023-10-12T06:57:03.185Z"
   },
   {
    "duration": 48,
    "start_time": "2023-10-12T15:58:20.021Z"
   },
   {
    "duration": 1231,
    "start_time": "2023-10-12T15:58:26.017Z"
   },
   {
    "duration": 11,
    "start_time": "2023-10-12T15:58:27.251Z"
   },
   {
    "duration": 123,
    "start_time": "2023-10-12T15:58:27.264Z"
   },
   {
    "duration": 17,
    "start_time": "2023-10-12T15:58:27.388Z"
   },
   {
    "duration": 2007,
    "start_time": "2023-10-12T15:58:27.407Z"
   },
   {
    "duration": 10,
    "start_time": "2023-10-12T15:58:29.416Z"
   },
   {
    "duration": 16,
    "start_time": "2023-10-12T15:58:29.428Z"
   },
   {
    "duration": 23,
    "start_time": "2023-10-12T15:58:29.445Z"
   },
   {
    "duration": 19,
    "start_time": "2023-10-12T15:58:29.470Z"
   },
   {
    "duration": 17,
    "start_time": "2023-10-12T15:58:29.490Z"
   },
   {
    "duration": 43,
    "start_time": "2023-10-12T15:58:29.508Z"
   },
   {
    "duration": 10,
    "start_time": "2023-10-12T15:58:29.552Z"
   },
   {
    "duration": 25,
    "start_time": "2023-10-12T15:58:29.563Z"
   },
   {
    "duration": 22,
    "start_time": "2023-10-12T15:58:29.591Z"
   },
   {
    "duration": 9,
    "start_time": "2023-10-12T15:58:29.624Z"
   },
   {
    "duration": 896,
    "start_time": "2023-10-12T15:58:29.635Z"
   },
   {
    "duration": 7,
    "start_time": "2023-10-12T15:58:30.533Z"
   },
   {
    "duration": 133,
    "start_time": "2023-10-12T15:58:30.542Z"
   },
   {
    "duration": 99,
    "start_time": "2023-10-12T15:58:30.677Z"
   },
   {
    "duration": 79,
    "start_time": "2023-10-12T15:58:30.778Z"
   },
   {
    "duration": 183,
    "start_time": "2023-10-12T15:58:30.859Z"
   },
   {
    "duration": 68,
    "start_time": "2023-10-12T15:58:31.044Z"
   },
   {
    "duration": 39,
    "start_time": "2023-10-12T15:58:31.114Z"
   },
   {
    "duration": 427,
    "start_time": "2023-10-12T15:58:31.155Z"
   },
   {
    "duration": 8,
    "start_time": "2023-10-12T15:58:31.585Z"
   },
   {
    "duration": 232,
    "start_time": "2023-10-12T15:58:31.595Z"
   },
   {
    "duration": 36,
    "start_time": "2023-10-12T15:58:31.829Z"
   },
   {
    "duration": 873,
    "start_time": "2023-10-12T15:58:31.867Z"
   },
   {
    "duration": 38,
    "start_time": "2023-10-12T15:58:32.742Z"
   },
   {
    "duration": 185,
    "start_time": "2023-10-12T15:58:32.781Z"
   },
   {
    "duration": 138,
    "start_time": "2023-10-12T15:58:32.968Z"
   },
   {
    "duration": 96,
    "start_time": "2023-10-12T15:58:33.108Z"
   },
   {
    "duration": 218,
    "start_time": "2023-10-12T15:58:33.206Z"
   },
   {
    "duration": 622,
    "start_time": "2023-10-12T15:58:33.425Z"
   },
   {
    "duration": 322,
    "start_time": "2023-10-12T15:58:34.049Z"
   },
   {
    "duration": 253,
    "start_time": "2023-10-12T15:58:34.373Z"
   },
   {
    "duration": 204,
    "start_time": "2023-10-12T15:58:34.628Z"
   },
   {
    "duration": 149,
    "start_time": "2023-10-12T15:58:34.834Z"
   },
   {
    "duration": 249,
    "start_time": "2023-10-12T15:58:34.985Z"
   },
   {
    "duration": 154,
    "start_time": "2023-10-12T15:58:35.236Z"
   },
   {
    "duration": 142,
    "start_time": "2023-10-12T15:58:35.394Z"
   },
   {
    "duration": 138,
    "start_time": "2023-10-12T15:58:35.538Z"
   },
   {
    "duration": 218,
    "start_time": "2023-10-12T15:58:35.677Z"
   },
   {
    "duration": 154,
    "start_time": "2023-10-12T15:58:35.897Z"
   },
   {
    "duration": 491,
    "start_time": "2023-10-12T15:58:36.053Z"
   },
   {
    "duration": 6,
    "start_time": "2023-10-12T15:58:36.546Z"
   },
   {
    "duration": 48,
    "start_time": "2023-10-12T15:58:36.553Z"
   },
   {
    "duration": 73,
    "start_time": "2023-10-12T15:58:36.603Z"
   },
   {
    "duration": 14,
    "start_time": "2023-10-12T15:58:36.678Z"
   },
   {
    "duration": 197,
    "start_time": "2023-10-12T15:58:36.693Z"
   },
   {
    "duration": 143,
    "start_time": "2023-10-12T15:58:36.892Z"
   },
   {
    "duration": 141,
    "start_time": "2023-10-12T15:58:37.036Z"
   },
   {
    "duration": 250,
    "start_time": "2023-10-12T15:58:37.179Z"
   },
   {
    "duration": 152,
    "start_time": "2023-10-12T15:58:37.431Z"
   },
   {
    "duration": 247,
    "start_time": "2023-10-12T15:58:37.585Z"
   },
   {
    "duration": 138,
    "start_time": "2023-10-12T15:58:37.834Z"
   },
   {
    "duration": 174,
    "start_time": "2023-10-12T15:58:37.975Z"
   },
   {
    "duration": 5,
    "start_time": "2023-10-12T15:58:38.151Z"
   },
   {
    "duration": 377,
    "start_time": "2023-10-12T15:58:38.158Z"
   },
   {
    "duration": 235,
    "start_time": "2023-10-12T15:58:38.537Z"
   },
   {
    "duration": 198,
    "start_time": "2023-10-12T15:58:38.774Z"
   },
   {
    "duration": 195,
    "start_time": "2023-10-12T15:58:38.974Z"
   },
   {
    "duration": 157,
    "start_time": "2023-10-12T15:58:39.171Z"
   },
   {
    "duration": 175,
    "start_time": "2023-10-12T15:58:39.331Z"
   },
   {
    "duration": 151,
    "start_time": "2023-10-12T15:58:39.508Z"
   },
   {
    "duration": 211384,
    "start_time": "2023-10-12T15:58:39.661Z"
   },
   {
    "duration": 189,
    "start_time": "2023-10-12T16:02:11.046Z"
   },
   {
    "duration": 187,
    "start_time": "2023-10-12T16:02:11.237Z"
   },
   {
    "duration": 24,
    "start_time": "2023-10-12T16:02:11.426Z"
   },
   {
    "duration": 162,
    "start_time": "2023-10-12T16:02:11.452Z"
   },
   {
    "duration": 81,
    "start_time": "2023-10-12T19:14:28.751Z"
   },
   {
    "duration": 7,
    "start_time": "2023-10-12T19:14:28.834Z"
   },
   {
    "duration": 130,
    "start_time": "2023-10-12T19:14:28.843Z"
   },
   {
    "duration": 14,
    "start_time": "2023-10-12T19:14:28.975Z"
   },
   {
    "duration": 1951,
    "start_time": "2023-10-12T19:14:28.990Z"
   },
   {
    "duration": 10,
    "start_time": "2023-10-12T19:14:30.944Z"
   },
   {
    "duration": 50,
    "start_time": "2023-10-12T19:14:30.956Z"
   },
   {
    "duration": 36,
    "start_time": "2023-10-12T19:14:31.007Z"
   },
   {
    "duration": 59,
    "start_time": "2023-10-12T19:14:31.045Z"
   },
   {
    "duration": 44,
    "start_time": "2023-10-12T19:14:31.107Z"
   },
   {
    "duration": 39,
    "start_time": "2023-10-12T19:14:31.153Z"
   },
   {
    "duration": 18,
    "start_time": "2023-10-12T19:14:31.194Z"
   },
   {
    "duration": 53,
    "start_time": "2023-10-12T19:14:31.213Z"
   },
   {
    "duration": 57,
    "start_time": "2023-10-12T19:14:31.268Z"
   },
   {
    "duration": 16,
    "start_time": "2023-10-12T19:14:31.326Z"
   },
   {
    "duration": 879,
    "start_time": "2023-10-12T19:14:31.344Z"
   },
   {
    "duration": 8,
    "start_time": "2023-10-12T19:14:32.224Z"
   },
   {
    "duration": 96,
    "start_time": "2023-10-12T19:14:32.248Z"
   },
   {
    "duration": 141,
    "start_time": "2023-10-12T19:14:32.346Z"
   },
   {
    "duration": 80,
    "start_time": "2023-10-12T19:14:32.489Z"
   },
   {
    "duration": 13,
    "start_time": "2023-10-12T19:14:32.571Z"
   },
   {
    "duration": 17,
    "start_time": "2023-10-12T19:14:32.586Z"
   },
   {
    "duration": 6,
    "start_time": "2023-10-12T19:14:32.604Z"
   },
   {
    "duration": 339,
    "start_time": "2023-10-12T19:14:32.612Z"
   },
   {
    "duration": 8,
    "start_time": "2023-10-12T19:14:32.953Z"
   },
   {
    "duration": 141,
    "start_time": "2023-10-12T19:14:32.962Z"
   },
   {
    "duration": 35,
    "start_time": "2023-10-12T19:14:33.105Z"
   },
   {
    "duration": 594,
    "start_time": "2023-10-12T19:14:33.145Z"
   },
   {
    "duration": 37,
    "start_time": "2023-10-12T19:14:33.741Z"
   },
   {
    "duration": 50,
    "start_time": "2023-10-12T19:14:33.780Z"
   },
   {
    "duration": 6,
    "start_time": "2023-10-12T19:14:33.832Z"
   },
   {
    "duration": 71,
    "start_time": "2023-10-12T19:14:33.840Z"
   },
   {
    "duration": 135,
    "start_time": "2023-10-12T19:14:33.913Z"
   },
   {
    "duration": 583,
    "start_time": "2023-10-12T19:14:34.049Z"
   },
   {
    "duration": 324,
    "start_time": "2023-10-12T19:14:34.634Z"
   },
   {
    "duration": 146,
    "start_time": "2023-10-12T19:14:34.960Z"
   },
   {
    "duration": 190,
    "start_time": "2023-10-12T19:14:35.108Z"
   },
   {
    "duration": 136,
    "start_time": "2023-10-12T19:14:35.300Z"
   },
   {
    "duration": 242,
    "start_time": "2023-10-12T19:14:35.437Z"
   },
   {
    "duration": 183,
    "start_time": "2023-10-12T19:14:35.680Z"
   },
   {
    "duration": 209,
    "start_time": "2023-10-12T19:14:35.865Z"
   },
   {
    "duration": 176,
    "start_time": "2023-10-12T19:14:36.077Z"
   },
   {
    "duration": 6,
    "start_time": "2023-10-12T19:14:36.255Z"
   },
   {
    "duration": 7,
    "start_time": "2023-10-12T19:14:36.263Z"
   },
   {
    "duration": 290,
    "start_time": "2023-10-12T19:14:36.272Z"
   },
   {
    "duration": 4,
    "start_time": "2023-10-12T19:14:36.564Z"
   },
   {
    "duration": 14,
    "start_time": "2023-10-12T19:14:36.569Z"
   },
   {
    "duration": 10,
    "start_time": "2023-10-12T19:14:36.585Z"
   },
   {
    "duration": 9,
    "start_time": "2023-10-12T19:14:36.596Z"
   },
   {
    "duration": 92,
    "start_time": "2023-10-12T19:14:58.370Z"
   },
   {
    "duration": 8,
    "start_time": "2023-10-12T19:15:04.395Z"
   },
   {
    "duration": 10,
    "start_time": "2023-10-12T19:16:09.160Z"
   },
   {
    "duration": 8,
    "start_time": "2023-10-12T19:16:55.783Z"
   },
   {
    "duration": 9,
    "start_time": "2023-10-12T19:17:11.736Z"
   },
   {
    "duration": 8,
    "start_time": "2023-10-12T19:17:22.816Z"
   },
   {
    "duration": 8,
    "start_time": "2023-10-12T19:17:27.434Z"
   },
   {
    "duration": 4,
    "start_time": "2023-10-12T19:17:57.255Z"
   },
   {
    "duration": 8,
    "start_time": "2023-10-12T19:18:14.001Z"
   },
   {
    "duration": 72,
    "start_time": "2023-10-12T19:18:51.518Z"
   },
   {
    "duration": 44,
    "start_time": "2023-10-12T19:19:05.744Z"
   },
   {
    "duration": 15,
    "start_time": "2023-10-12T19:19:11.851Z"
   },
   {
    "duration": 40,
    "start_time": "2023-10-12T19:19:20.178Z"
   },
   {
    "duration": 62,
    "start_time": "2023-10-12T19:19:35.810Z"
   },
   {
    "duration": 25,
    "start_time": "2023-10-12T19:19:59.015Z"
   },
   {
    "duration": 16,
    "start_time": "2023-10-12T19:20:03.968Z"
   },
   {
    "duration": 5,
    "start_time": "2023-10-12T19:20:38.682Z"
   },
   {
    "duration": 4,
    "start_time": "2023-10-12T19:20:53.332Z"
   },
   {
    "duration": 4,
    "start_time": "2023-10-12T19:21:04.534Z"
   },
   {
    "duration": 43,
    "start_time": "2023-10-12T19:21:14.028Z"
   },
   {
    "duration": 49,
    "start_time": "2023-10-12T19:22:14.294Z"
   },
   {
    "duration": 7,
    "start_time": "2023-10-12T19:23:12.749Z"
   },
   {
    "duration": 52,
    "start_time": "2023-10-12T19:23:13.640Z"
   },
   {
    "duration": 77,
    "start_time": "2023-10-12T19:25:46.012Z"
   },
   {
    "duration": 135,
    "start_time": "2023-10-12T19:26:13.349Z"
   },
   {
    "duration": 30,
    "start_time": "2023-10-12T19:28:01.658Z"
   },
   {
    "duration": 236,
    "start_time": "2023-10-12T19:30:44.504Z"
   },
   {
    "duration": 262825,
    "start_time": "2023-10-12T19:38:41.143Z"
   },
   {
    "duration": 103,
    "start_time": "2023-10-12T19:43:03.970Z"
   },
   {
    "duration": 1324,
    "start_time": "2023-10-12T19:45:24.695Z"
   },
   {
    "duration": 1266,
    "start_time": "2023-10-12T19:45:33.321Z"
   },
   {
    "duration": 5,
    "start_time": "2023-10-12T19:45:41.375Z"
   },
   {
    "duration": 261836,
    "start_time": "2023-10-12T19:48:00.789Z"
   },
   {
    "duration": 87,
    "start_time": "2023-10-12T19:52:22.626Z"
   },
   {
    "duration": 5,
    "start_time": "2023-10-12T19:54:36.472Z"
   },
   {
    "duration": 7,
    "start_time": "2023-10-12T19:54:45.327Z"
   },
   {
    "duration": 131,
    "start_time": "2023-10-12T19:55:42.520Z"
   },
   {
    "duration": 112,
    "start_time": "2023-10-12T19:56:03.830Z"
   },
   {
    "duration": 134,
    "start_time": "2023-10-12T19:56:30.307Z"
   },
   {
    "duration": 121,
    "start_time": "2023-10-12T19:56:44.394Z"
   },
   {
    "duration": 162,
    "start_time": "2023-10-12T19:58:42.409Z"
   },
   {
    "duration": 150,
    "start_time": "2023-10-12T20:00:38.679Z"
   },
   {
    "duration": 120,
    "start_time": "2023-10-12T20:00:52.762Z"
   },
   {
    "duration": 79,
    "start_time": "2023-10-12T20:10:13.540Z"
   },
   {
    "duration": 83,
    "start_time": "2023-10-12T20:14:32.521Z"
   }
  ],
  "kernelspec": {
   "display_name": "Python 3",
   "language": "python",
   "name": "python3"
  },
  "language_info": {
   "codemirror_mode": {
    "name": "ipython",
    "version": 3
   },
   "file_extension": ".py",
   "mimetype": "text/x-python",
   "name": "python",
   "nbconvert_exporter": "python",
   "pygments_lexer": "ipython3",
   "version": "3.7.4"
  },
  "toc": {
   "base_numbering": 1,
   "nav_menu": {},
   "number_sections": true,
   "sideBar": true,
   "skip_h1_title": true,
   "title_cell": "Table of Contents",
   "title_sidebar": "Contents",
   "toc_cell": false,
   "toc_position": {},
   "toc_section_display": true,
   "toc_window_display": false
  }
 },
 "nbformat": 4,
 "nbformat_minor": 2
}
